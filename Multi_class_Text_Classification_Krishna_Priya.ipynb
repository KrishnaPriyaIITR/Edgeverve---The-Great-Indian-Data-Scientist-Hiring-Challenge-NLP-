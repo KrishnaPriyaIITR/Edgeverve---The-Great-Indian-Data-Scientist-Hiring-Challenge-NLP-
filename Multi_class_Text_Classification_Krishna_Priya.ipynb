{
 "cells": [
  {
   "cell_type": "markdown",
   "metadata": {},
   "source": [
    "# Loading Necessary Libraries"
   ]
  },
  {
   "cell_type": "code",
   "execution_count": 5,
   "metadata": {},
   "outputs": [],
   "source": [
    "from numpy import random\n",
    "import re    # for regular expressions \n",
    "import nltk  # for text manipulation \n",
    "import string \n",
    "import warnings \n",
    "import numpy as np \n",
    "import pandas as pd \n",
    "import seaborn as sns \n",
    "import matplotlib.pyplot as plt  \n",
    "from wordcloud import WordCloud # data visualization library\n",
    "#text features can be constructed using assorted techniques – Bag of Words, TF-IDF, and Word Embeddings.\n",
    "from sklearn.feature_extraction.text import TfidfVectorizer, CountVectorizer #tfidf and Bag-of-Words Features.\n",
    "from sklearn.model_selection import train_test_split\n",
    "from sklearn.metrics import accuracy_score, confusion_matrix\n",
    "from nltk.corpus import stopwords\n",
    "import gensim # library for word2vec\n",
    "%matplotlib inline\n",
    "pd.set_option(\"display.max_colwidth\", 200) \n",
    "warnings.filterwarnings(\"ignore\", category=DeprecationWarning)"
   ]
  },
  {
   "cell_type": "markdown",
   "metadata": {},
   "source": [
    "# Loading Dataset"
   ]
  },
  {
   "cell_type": "code",
   "execution_count": 2,
   "metadata": {},
   "outputs": [],
   "source": [
    "train = pd.read_csv('Train.csv')\n",
    "test = pd.read_csv('Test.csv')"
   ]
  },
  {
   "cell_type": "code",
   "execution_count": 4,
   "metadata": {},
   "outputs": [
    {
     "name": "stdout",
     "output_type": "stream",
     "text": [
      "<class 'pandas.core.frame.DataFrame'>\n",
      "RangeIndex: 5566 entries, 0 to 5565\n",
      "Data columns (total 6 columns):\n",
      "Inv_Id              5566 non-null int64\n",
      "Vendor_Code         5566 non-null object\n",
      "GL_Code             5566 non-null object\n",
      "Inv_Amt             5566 non-null float64\n",
      "Item_Description    5566 non-null object\n",
      "Product_Category    5566 non-null object\n",
      "dtypes: float64(1), int64(1), object(4)\n",
      "memory usage: 261.0+ KB\n"
     ]
    }
   ],
   "source": [
    "train.info()"
   ]
  },
  {
   "cell_type": "code",
   "execution_count": 24,
   "metadata": {
    "scrolled": true
   },
   "outputs": [],
   "source": [
    "# train.Vendor_Code.value_counts()\n",
    "# train.GL_Code.value_counts()\n",
    "# train.Inv_Amt.value_counts()\n",
    "# train.Product_Category.value_counts()"
   ]
  },
  {
   "cell_type": "code",
   "execution_count": 25,
   "metadata": {},
   "outputs": [
    {
     "data": {
      "text/plain": [
       "(5566, 6)"
      ]
     },
     "execution_count": 25,
     "metadata": {},
     "output_type": "execute_result"
    }
   ],
   "source": [
    "train.shape"
   ]
  },
  {
   "cell_type": "code",
   "execution_count": 26,
   "metadata": {},
   "outputs": [
    {
     "data": {
      "text/plain": [
       "(2446, 5)"
      ]
     },
     "execution_count": 26,
     "metadata": {},
     "output_type": "execute_result"
    }
   ],
   "source": [
    "test.shape"
   ]
  },
  {
   "cell_type": "code",
   "execution_count": 27,
   "metadata": {},
   "outputs": [
    {
     "data": {
      "text/html": [
       "<div>\n",
       "<style scoped>\n",
       "    .dataframe tbody tr th:only-of-type {\n",
       "        vertical-align: middle;\n",
       "    }\n",
       "\n",
       "    .dataframe tbody tr th {\n",
       "        vertical-align: top;\n",
       "    }\n",
       "\n",
       "    .dataframe thead th {\n",
       "        text-align: right;\n",
       "    }\n",
       "</style>\n",
       "<table border=\"1\" class=\"dataframe\">\n",
       "  <thead>\n",
       "    <tr style=\"text-align: right;\">\n",
       "      <th></th>\n",
       "      <th>Inv_Id</th>\n",
       "      <th>Vendor_Code</th>\n",
       "      <th>GL_Code</th>\n",
       "      <th>Inv_Amt</th>\n",
       "      <th>Item_Description</th>\n",
       "      <th>Product_Category</th>\n",
       "    </tr>\n",
       "  </thead>\n",
       "  <tbody>\n",
       "    <tr>\n",
       "      <th>0</th>\n",
       "      <td>15001</td>\n",
       "      <td>VENDOR-1676</td>\n",
       "      <td>GL-6100410</td>\n",
       "      <td>83.24</td>\n",
       "      <td>Artworking/Typesetting Production Jun 2009 Champion Parts Inc SMAP Prototype and Comp Production/Packaging Design</td>\n",
       "      <td>CLASS-1963</td>\n",
       "    </tr>\n",
       "    <tr>\n",
       "      <th>1</th>\n",
       "      <td>15002</td>\n",
       "      <td>VENDOR-1883</td>\n",
       "      <td>GL-2182000</td>\n",
       "      <td>51.18</td>\n",
       "      <td>Auto Leasing Corporate Services Corning Inc /Ny 2013-Mar  Auto Leasing and Maintenance Other Corporate Services</td>\n",
       "      <td>CLASS-1250</td>\n",
       "    </tr>\n",
       "    <tr>\n",
       "      <th>2</th>\n",
       "      <td>15004</td>\n",
       "      <td>VENDOR-1999</td>\n",
       "      <td>GL-6050100</td>\n",
       "      <td>79.02</td>\n",
       "      <td>Store Management Lease/Rent Deltona Corp Real Estate Base Rent Jul2018</td>\n",
       "      <td>CLASS-1274</td>\n",
       "    </tr>\n",
       "    <tr>\n",
       "      <th>3</th>\n",
       "      <td>15005</td>\n",
       "      <td>VENDOR-1771</td>\n",
       "      <td>GL-6101400</td>\n",
       "      <td>48.50</td>\n",
       "      <td>Store Construction General Requirements Colonial Trust Iii General Contractor Final Site Clean Up 2005-Dec</td>\n",
       "      <td>CLASS-1522</td>\n",
       "    </tr>\n",
       "    <tr>\n",
       "      <th>4</th>\n",
       "      <td>15006</td>\n",
       "      <td>VENDOR-1331</td>\n",
       "      <td>GL-2182000</td>\n",
       "      <td>63.35</td>\n",
       "      <td>Jul 2015 Aydin Corp Contingent Labor/Temp Labor Contingent Labor/Temp Labor Corporate Services Human Resources</td>\n",
       "      <td>CLASS-1376</td>\n",
       "    </tr>\n",
       "  </tbody>\n",
       "</table>\n",
       "</div>"
      ],
      "text/plain": [
       "   Inv_Id  Vendor_Code     GL_Code  Inv_Amt  \\\n",
       "0   15001  VENDOR-1676  GL-6100410    83.24   \n",
       "1   15002  VENDOR-1883  GL-2182000    51.18   \n",
       "2   15004  VENDOR-1999  GL-6050100    79.02   \n",
       "3   15005  VENDOR-1771  GL-6101400    48.50   \n",
       "4   15006  VENDOR-1331  GL-2182000    63.35   \n",
       "\n",
       "                                                                                                    Item_Description  \\\n",
       "0  Artworking/Typesetting Production Jun 2009 Champion Parts Inc SMAP Prototype and Comp Production/Packaging Design   \n",
       "1    Auto Leasing Corporate Services Corning Inc /Ny 2013-Mar  Auto Leasing and Maintenance Other Corporate Services   \n",
       "2                                             Store Management Lease/Rent Deltona Corp Real Estate Base Rent Jul2018   \n",
       "3        Store Construction General Requirements Colonial Trust Iii General Contractor Final Site Clean Up 2005-Dec    \n",
       "4     Jul 2015 Aydin Corp Contingent Labor/Temp Labor Contingent Labor/Temp Labor Corporate Services Human Resources   \n",
       "\n",
       "  Product_Category  \n",
       "0       CLASS-1963  \n",
       "1       CLASS-1250  \n",
       "2       CLASS-1274  \n",
       "3       CLASS-1522  \n",
       "4       CLASS-1376  "
      ]
     },
     "execution_count": 27,
     "metadata": {},
     "output_type": "execute_result"
    }
   ],
   "source": [
    "train.head()"
   ]
  },
  {
   "cell_type": "code",
   "execution_count": 28,
   "metadata": {},
   "outputs": [
    {
     "data": {
      "text/html": [
       "<div>\n",
       "<style scoped>\n",
       "    .dataframe tbody tr th:only-of-type {\n",
       "        vertical-align: middle;\n",
       "    }\n",
       "\n",
       "    .dataframe tbody tr th {\n",
       "        vertical-align: top;\n",
       "    }\n",
       "\n",
       "    .dataframe thead th {\n",
       "        text-align: right;\n",
       "    }\n",
       "</style>\n",
       "<table border=\"1\" class=\"dataframe\">\n",
       "  <thead>\n",
       "    <tr style=\"text-align: right;\">\n",
       "      <th></th>\n",
       "      <th>Inv_Id</th>\n",
       "      <th>Vendor_Code</th>\n",
       "      <th>GL_Code</th>\n",
       "      <th>Inv_Amt</th>\n",
       "      <th>Item_Description</th>\n",
       "    </tr>\n",
       "  </thead>\n",
       "  <tbody>\n",
       "    <tr>\n",
       "      <th>0</th>\n",
       "      <td>15003</td>\n",
       "      <td>VENDOR-2513</td>\n",
       "      <td>GL-6050310</td>\n",
       "      <td>56.13</td>\n",
       "      <td>Travel and Entertainment Miscellaneous Company Car (Field Only) Ground Transportation Miscellaneous Company Car (Field Only) Oct2011 Fortune National Corp</td>\n",
       "    </tr>\n",
       "    <tr>\n",
       "      <th>1</th>\n",
       "      <td>15008</td>\n",
       "      <td>VENDOR-1044</td>\n",
       "      <td>GL-6101400</td>\n",
       "      <td>96.56</td>\n",
       "      <td>Final Site Clean Up Store Construction Advanced Micro Devices Inc Oct2011 General Requirements General Contractor</td>\n",
       "    </tr>\n",
       "    <tr>\n",
       "      <th>2</th>\n",
       "      <td>15013</td>\n",
       "      <td>VENDOR-1254</td>\n",
       "      <td>GL-6101400</td>\n",
       "      <td>55.93</td>\n",
       "      <td>Arabian American Development Co Final Site Clean Up 2008-Oct  General Requirements General Contractor Store Construction</td>\n",
       "    </tr>\n",
       "    <tr>\n",
       "      <th>3</th>\n",
       "      <td>15019</td>\n",
       "      <td>VENDOR-1331</td>\n",
       "      <td>GL-2182000</td>\n",
       "      <td>32.62</td>\n",
       "      <td>Corporate Services Contingent Labor/Temp Labor Human Resources Contingent Labor/Temp Labor Jun 2014 Aydin Corp</td>\n",
       "    </tr>\n",
       "    <tr>\n",
       "      <th>4</th>\n",
       "      <td>15020</td>\n",
       "      <td>VENDOR-2513</td>\n",
       "      <td>GL-6050310</td>\n",
       "      <td>25.81</td>\n",
       "      <td>Fortune National Corp Miscellaneous Company Car (Field Only) Jun-2015 Miscellaneous Company Car (Field Only) Ground Transportation Travel and Entertainment</td>\n",
       "    </tr>\n",
       "  </tbody>\n",
       "</table>\n",
       "</div>"
      ],
      "text/plain": [
       "   Inv_Id  Vendor_Code     GL_Code  Inv_Amt  \\\n",
       "0   15003  VENDOR-2513  GL-6050310    56.13   \n",
       "1   15008  VENDOR-1044  GL-6101400    96.56   \n",
       "2   15013  VENDOR-1254  GL-6101400    55.93   \n",
       "3   15019  VENDOR-1331  GL-2182000    32.62   \n",
       "4   15020  VENDOR-2513  GL-6050310    25.81   \n",
       "\n",
       "                                                                                                                                              Item_Description  \n",
       "0   Travel and Entertainment Miscellaneous Company Car (Field Only) Ground Transportation Miscellaneous Company Car (Field Only) Oct2011 Fortune National Corp  \n",
       "1                                            Final Site Clean Up Store Construction Advanced Micro Devices Inc Oct2011 General Requirements General Contractor  \n",
       "2                                     Arabian American Development Co Final Site Clean Up 2008-Oct  General Requirements General Contractor Store Construction  \n",
       "3                                               Corporate Services Contingent Labor/Temp Labor Human Resources Contingent Labor/Temp Labor Jun 2014 Aydin Corp  \n",
       "4  Fortune National Corp Miscellaneous Company Car (Field Only) Jun-2015 Miscellaneous Company Car (Field Only) Ground Transportation Travel and Entertainment  "
      ]
     },
     "execution_count": 28,
     "metadata": {},
     "output_type": "execute_result"
    }
   ],
   "source": [
    "test.head()"
   ]
  },
  {
   "cell_type": "markdown",
   "metadata": {},
   "source": [
    "# Data Pre-processing"
   ]
  },
  {
   "cell_type": "code",
   "execution_count": 29,
   "metadata": {},
   "outputs": [
    {
     "name": "stderr",
     "output_type": "stream",
     "text": [
      "C:\\Users\\Krishna.Priya\\anaconda3\\lib\\site-packages\\pandas\\core\\frame.py:6692: FutureWarning: Sorting because non-concatenation axis is not aligned. A future version\n",
      "of pandas will change to not sort by default.\n",
      "\n",
      "To accept the future behavior, pass 'sort=False'.\n",
      "\n",
      "To retain the current behavior and silence the warning, pass 'sort=True'.\n",
      "\n",
      "  sort=sort)\n"
     ]
    },
    {
     "data": {
      "text/plain": [
       "(8012, 6)"
      ]
     },
     "execution_count": 29,
     "metadata": {},
     "output_type": "execute_result"
    }
   ],
   "source": [
    "combi = train.append(test, ignore_index=True)\n",
    "combi.shape"
   ]
  },
  {
   "cell_type": "code",
   "execution_count": 30,
   "metadata": {},
   "outputs": [
    {
     "data": {
      "text/html": [
       "<div>\n",
       "<style scoped>\n",
       "    .dataframe tbody tr th:only-of-type {\n",
       "        vertical-align: middle;\n",
       "    }\n",
       "\n",
       "    .dataframe tbody tr th {\n",
       "        vertical-align: top;\n",
       "    }\n",
       "\n",
       "    .dataframe thead th {\n",
       "        text-align: right;\n",
       "    }\n",
       "</style>\n",
       "<table border=\"1\" class=\"dataframe\">\n",
       "  <thead>\n",
       "    <tr style=\"text-align: right;\">\n",
       "      <th></th>\n",
       "      <th>GL_Code</th>\n",
       "      <th>Inv_Amt</th>\n",
       "      <th>Inv_Id</th>\n",
       "      <th>Item_Description</th>\n",
       "      <th>Product_Category</th>\n",
       "      <th>Vendor_Code</th>\n",
       "    </tr>\n",
       "  </thead>\n",
       "  <tbody>\n",
       "    <tr>\n",
       "      <th>0</th>\n",
       "      <td>GL-6100410</td>\n",
       "      <td>83.24</td>\n",
       "      <td>15001</td>\n",
       "      <td>Artworking/Typesetting Production Jun 2009 Champion Parts Inc SMAP Prototype and Comp Production/Packaging Design</td>\n",
       "      <td>CLASS-1963</td>\n",
       "      <td>VENDOR-1676</td>\n",
       "    </tr>\n",
       "    <tr>\n",
       "      <th>1</th>\n",
       "      <td>GL-2182000</td>\n",
       "      <td>51.18</td>\n",
       "      <td>15002</td>\n",
       "      <td>Auto Leasing Corporate Services Corning Inc /Ny 2013-Mar  Auto Leasing and Maintenance Other Corporate Services</td>\n",
       "      <td>CLASS-1250</td>\n",
       "      <td>VENDOR-1883</td>\n",
       "    </tr>\n",
       "    <tr>\n",
       "      <th>2</th>\n",
       "      <td>GL-6050100</td>\n",
       "      <td>79.02</td>\n",
       "      <td>15004</td>\n",
       "      <td>Store Management Lease/Rent Deltona Corp Real Estate Base Rent Jul2018</td>\n",
       "      <td>CLASS-1274</td>\n",
       "      <td>VENDOR-1999</td>\n",
       "    </tr>\n",
       "    <tr>\n",
       "      <th>3</th>\n",
       "      <td>GL-6101400</td>\n",
       "      <td>48.50</td>\n",
       "      <td>15005</td>\n",
       "      <td>Store Construction General Requirements Colonial Trust Iii General Contractor Final Site Clean Up 2005-Dec</td>\n",
       "      <td>CLASS-1522</td>\n",
       "      <td>VENDOR-1771</td>\n",
       "    </tr>\n",
       "    <tr>\n",
       "      <th>4</th>\n",
       "      <td>GL-2182000</td>\n",
       "      <td>63.35</td>\n",
       "      <td>15006</td>\n",
       "      <td>Jul 2015 Aydin Corp Contingent Labor/Temp Labor Contingent Labor/Temp Labor Corporate Services Human Resources</td>\n",
       "      <td>CLASS-1376</td>\n",
       "      <td>VENDOR-1331</td>\n",
       "    </tr>\n",
       "  </tbody>\n",
       "</table>\n",
       "</div>"
      ],
      "text/plain": [
       "      GL_Code  Inv_Amt  Inv_Id  \\\n",
       "0  GL-6100410    83.24   15001   \n",
       "1  GL-2182000    51.18   15002   \n",
       "2  GL-6050100    79.02   15004   \n",
       "3  GL-6101400    48.50   15005   \n",
       "4  GL-2182000    63.35   15006   \n",
       "\n",
       "                                                                                                    Item_Description  \\\n",
       "0  Artworking/Typesetting Production Jun 2009 Champion Parts Inc SMAP Prototype and Comp Production/Packaging Design   \n",
       "1    Auto Leasing Corporate Services Corning Inc /Ny 2013-Mar  Auto Leasing and Maintenance Other Corporate Services   \n",
       "2                                             Store Management Lease/Rent Deltona Corp Real Estate Base Rent Jul2018   \n",
       "3        Store Construction General Requirements Colonial Trust Iii General Contractor Final Site Clean Up 2005-Dec    \n",
       "4     Jul 2015 Aydin Corp Contingent Labor/Temp Labor Contingent Labor/Temp Labor Corporate Services Human Resources   \n",
       "\n",
       "  Product_Category  Vendor_Code  \n",
       "0       CLASS-1963  VENDOR-1676  \n",
       "1       CLASS-1250  VENDOR-1883  \n",
       "2       CLASS-1274  VENDOR-1999  \n",
       "3       CLASS-1522  VENDOR-1771  \n",
       "4       CLASS-1376  VENDOR-1331  "
      ]
     },
     "execution_count": 30,
     "metadata": {},
     "output_type": "execute_result"
    }
   ],
   "source": [
    "combi.head()"
   ]
  },
  {
   "cell_type": "code",
   "execution_count": 31,
   "metadata": {},
   "outputs": [
    {
     "name": "stdout",
     "output_type": "stream",
     "text": [
      "<class 'pandas.core.frame.DataFrame'>\n",
      "RangeIndex: 8012 entries, 0 to 8011\n",
      "Data columns (total 6 columns):\n",
      "GL_Code             8012 non-null object\n",
      "Inv_Amt             8012 non-null float64\n",
      "Inv_Id              8012 non-null int64\n",
      "Item_Description    8012 non-null object\n",
      "Product_Category    5566 non-null object\n",
      "Vendor_Code         8012 non-null object\n",
      "dtypes: float64(1), int64(1), object(4)\n",
      "memory usage: 375.6+ KB\n"
     ]
    }
   ],
   "source": [
    "combi.info()"
   ]
  },
  {
   "cell_type": "code",
   "execution_count": 39,
   "metadata": {},
   "outputs": [],
   "source": [
    "combi['tidy_Item_Description'] = combi['Item_Description'].str.replace(\"[^a-zA-Z]\",\" \")"
   ]
  },
  {
   "cell_type": "code",
   "execution_count": 40,
   "metadata": {},
   "outputs": [
    {
     "data": {
      "text/html": [
       "<div>\n",
       "<style scoped>\n",
       "    .dataframe tbody tr th:only-of-type {\n",
       "        vertical-align: middle;\n",
       "    }\n",
       "\n",
       "    .dataframe tbody tr th {\n",
       "        vertical-align: top;\n",
       "    }\n",
       "\n",
       "    .dataframe thead th {\n",
       "        text-align: right;\n",
       "    }\n",
       "</style>\n",
       "<table border=\"1\" class=\"dataframe\">\n",
       "  <thead>\n",
       "    <tr style=\"text-align: right;\">\n",
       "      <th></th>\n",
       "      <th>GL_Code</th>\n",
       "      <th>Inv_Amt</th>\n",
       "      <th>Inv_Id</th>\n",
       "      <th>Item_Description</th>\n",
       "      <th>Product_Category</th>\n",
       "      <th>Vendor_Code</th>\n",
       "      <th>tidy_Item_Description</th>\n",
       "    </tr>\n",
       "  </thead>\n",
       "  <tbody>\n",
       "    <tr>\n",
       "      <th>0</th>\n",
       "      <td>GL-6100410</td>\n",
       "      <td>83.24</td>\n",
       "      <td>15001</td>\n",
       "      <td>Artworking/Typesetting Production Jun 2009 Champion Parts Inc SMAP Prototype and Comp Production/Packaging Design</td>\n",
       "      <td>CLASS-1963</td>\n",
       "      <td>VENDOR-1676</td>\n",
       "      <td>Artworking Typesetting Production Jun      Champion Parts Inc SMAP Prototype and Comp Production Packaging Design</td>\n",
       "    </tr>\n",
       "    <tr>\n",
       "      <th>1</th>\n",
       "      <td>GL-2182000</td>\n",
       "      <td>51.18</td>\n",
       "      <td>15002</td>\n",
       "      <td>Auto Leasing Corporate Services Corning Inc /Ny 2013-Mar  Auto Leasing and Maintenance Other Corporate Services</td>\n",
       "      <td>CLASS-1250</td>\n",
       "      <td>VENDOR-1883</td>\n",
       "      <td>Auto Leasing Corporate Services Corning Inc  Ny      Mar  Auto Leasing and Maintenance Other Corporate Services</td>\n",
       "    </tr>\n",
       "    <tr>\n",
       "      <th>2</th>\n",
       "      <td>GL-6050100</td>\n",
       "      <td>79.02</td>\n",
       "      <td>15004</td>\n",
       "      <td>Store Management Lease/Rent Deltona Corp Real Estate Base Rent Jul2018</td>\n",
       "      <td>CLASS-1274</td>\n",
       "      <td>VENDOR-1999</td>\n",
       "      <td>Store Management Lease Rent Deltona Corp Real Estate Base Rent Jul</td>\n",
       "    </tr>\n",
       "    <tr>\n",
       "      <th>3</th>\n",
       "      <td>GL-6101400</td>\n",
       "      <td>48.50</td>\n",
       "      <td>15005</td>\n",
       "      <td>Store Construction General Requirements Colonial Trust Iii General Contractor Final Site Clean Up 2005-Dec</td>\n",
       "      <td>CLASS-1522</td>\n",
       "      <td>VENDOR-1771</td>\n",
       "      <td>Store Construction General Requirements Colonial Trust Iii General Contractor Final Site Clean Up      Dec</td>\n",
       "    </tr>\n",
       "    <tr>\n",
       "      <th>4</th>\n",
       "      <td>GL-2182000</td>\n",
       "      <td>63.35</td>\n",
       "      <td>15006</td>\n",
       "      <td>Jul 2015 Aydin Corp Contingent Labor/Temp Labor Contingent Labor/Temp Labor Corporate Services Human Resources</td>\n",
       "      <td>CLASS-1376</td>\n",
       "      <td>VENDOR-1331</td>\n",
       "      <td>Jul      Aydin Corp Contingent Labor Temp Labor Contingent Labor Temp Labor Corporate Services Human Resources</td>\n",
       "    </tr>\n",
       "    <tr>\n",
       "      <th>5</th>\n",
       "      <td>GL-6101400</td>\n",
       "      <td>32.28</td>\n",
       "      <td>15007</td>\n",
       "      <td>Final Site Clean Up 2018Mar Store Construction Dravo Corp General Contractor General Requirements</td>\n",
       "      <td>CLASS-1522</td>\n",
       "      <td>VENDOR-2076</td>\n",
       "      <td>Final Site Clean Up     Mar Store Construction Dravo Corp General Contractor General Requirements</td>\n",
       "    </tr>\n",
       "    <tr>\n",
       "      <th>6</th>\n",
       "      <td>GL-6050310</td>\n",
       "      <td>5.38</td>\n",
       "      <td>15009</td>\n",
       "      <td>Travel and Entertainment Miscellaneous Company Car (Field Only) Texas New Mexico Power Co Ground Transportation Miscellaneous Company Car (Field Only) 2011-Mar</td>\n",
       "      <td>CLASS-1758</td>\n",
       "      <td>VENDOR-1802</td>\n",
       "      <td>Travel and Entertainment Miscellaneous Company Car  Field Only  Texas New Mexico Power Co Ground Transportation Miscellaneous Company Car  Field Only       Mar</td>\n",
       "    </tr>\n",
       "    <tr>\n",
       "      <th>7</th>\n",
       "      <td>GL-6101400</td>\n",
       "      <td>31.21</td>\n",
       "      <td>15010</td>\n",
       "      <td>General Contractor General Requirements Final Site Clean Up American Pad &amp; Paper Co Apr2014 Store Construction</td>\n",
       "      <td>CLASS-1522</td>\n",
       "      <td>VENDOR-1191</td>\n",
       "      <td>General Contractor General Requirements Final Site Clean Up American Pad   Paper Co Apr     Store Construction</td>\n",
       "    </tr>\n",
       "    <tr>\n",
       "      <th>8</th>\n",
       "      <td>GL-6100410</td>\n",
       "      <td>42.89</td>\n",
       "      <td>15011</td>\n",
       "      <td>Aquila Distributors Inc                                 /Bd Prototype and Comp Production/Packaging Design Jul 2007 Artworking/Typesetting Production SMAP</td>\n",
       "      <td>CLASS-1963</td>\n",
       "      <td>VENDOR-2120</td>\n",
       "      <td>Aquila Distributors Inc                                  Bd Prototype and Comp Production Packaging Design Jul      Artworking Typesetting Production SMAP</td>\n",
       "    </tr>\n",
       "    <tr>\n",
       "      <th>9</th>\n",
       "      <td>GL-6050100</td>\n",
       "      <td>59.50</td>\n",
       "      <td>15012</td>\n",
       "      <td>Base Rent Store Management Chicago Rivet &amp; Machine Co Dec-2017 Lease/Rent Real Estate</td>\n",
       "      <td>CLASS-1274</td>\n",
       "      <td>VENDOR-1704</td>\n",
       "      <td>Base Rent Store Management Chicago Rivet   Machine Co Dec      Lease Rent Real Estate</td>\n",
       "    </tr>\n",
       "    <tr>\n",
       "      <th>10</th>\n",
       "      <td>GL-6050310</td>\n",
       "      <td>69.85</td>\n",
       "      <td>15014</td>\n",
       "      <td>Ground Transportation Travel and Entertainment Miscellaneous Company Car (Field Only) Miscellaneous Company Car (Field Only) 2003May Fortune National Corp</td>\n",
       "      <td>CLASS-1758</td>\n",
       "      <td>VENDOR-2513</td>\n",
       "      <td>Ground Transportation Travel and Entertainment Miscellaneous Company Car  Field Only  Miscellaneous Company Car  Field Only      May Fortune National Corp</td>\n",
       "    </tr>\n",
       "    <tr>\n",
       "      <th>11</th>\n",
       "      <td>GL-6050100</td>\n",
       "      <td>85.64</td>\n",
       "      <td>15015</td>\n",
       "      <td>Base Rent Store Management Bio Rad Laboratories Inc Jul2015 Lease/Rent Real Estate</td>\n",
       "      <td>CLASS-1274</td>\n",
       "      <td>VENDOR-1433</td>\n",
       "      <td>Base Rent Store Management Bio Rad Laboratories Inc Jul     Lease Rent Real Estate</td>\n",
       "    </tr>\n",
       "    <tr>\n",
       "      <th>12</th>\n",
       "      <td>GL-6050100</td>\n",
       "      <td>35.64</td>\n",
       "      <td>15016</td>\n",
       "      <td>Real Estate Lease/Rent Base Rent Allegheny Energy Inc Oct 2016 Store Management</td>\n",
       "      <td>CLASS-1274</td>\n",
       "      <td>VENDOR-1098</td>\n",
       "      <td>Real Estate Lease Rent Base Rent Allegheny Energy Inc Oct      Store Management</td>\n",
       "    </tr>\n",
       "    <tr>\n",
       "      <th>13</th>\n",
       "      <td>GL-2182000</td>\n",
       "      <td>43.00</td>\n",
       "      <td>15017</td>\n",
       "      <td>First Options Of Chicago, Inc. 2017-Jan  SMAP Events and Promotions Trade Show Expenses Talent, Artists &amp; Models for Trade Show</td>\n",
       "      <td>CLASS-2141</td>\n",
       "      <td>VENDOR-2352</td>\n",
       "      <td>First Options Of Chicago  Inc       Jan  SMAP Events and Promotions Trade Show Expenses Talent  Artists   Models for Trade Show</td>\n",
       "    </tr>\n",
       "    <tr>\n",
       "      <th>14</th>\n",
       "      <td>GL-6101400</td>\n",
       "      <td>93.67</td>\n",
       "      <td>15018</td>\n",
       "      <td>Chesapeake Shores Beach &amp; Country Club I 2012May Store Construction General Contractor General Requirements Final Site Clean Up</td>\n",
       "      <td>CLASS-1522</td>\n",
       "      <td>VENDOR-1700</td>\n",
       "      <td>Chesapeake Shores Beach   Country Club I     May Store Construction General Contractor General Requirements Final Site Clean Up</td>\n",
       "    </tr>\n",
       "    <tr>\n",
       "      <th>15</th>\n",
       "      <td>GL-6050310</td>\n",
       "      <td>35.73</td>\n",
       "      <td>15021</td>\n",
       "      <td>Travel and Entertainment Miscellaneous Company Car (Field Only) Ground Transportation Miscellaneous Company Car (Field Only) Sep2012 Akorn Inc</td>\n",
       "      <td>CLASS-1758</td>\n",
       "      <td>VENDOR-1065</td>\n",
       "      <td>Travel and Entertainment Miscellaneous Company Car  Field Only  Ground Transportation Miscellaneous Company Car  Field Only  Sep     Akorn Inc</td>\n",
       "    </tr>\n",
       "    <tr>\n",
       "      <th>16</th>\n",
       "      <td>GL-6101400</td>\n",
       "      <td>94.67</td>\n",
       "      <td>15023</td>\n",
       "      <td>Final Site Clean Up 2007Nov Store Construction Banner Life Insurance Co General Contractor General Requirements</td>\n",
       "      <td>CLASS-1522</td>\n",
       "      <td>VENDOR-1370</td>\n",
       "      <td>Final Site Clean Up     Nov Store Construction Banner Life Insurance Co General Contractor General Requirements</td>\n",
       "    </tr>\n",
       "    <tr>\n",
       "      <th>17</th>\n",
       "      <td>GL-6050310</td>\n",
       "      <td>21.23</td>\n",
       "      <td>15025</td>\n",
       "      <td>Miscellaneous Company Car (Field Only) Oct2018 Travel and Entertainment Barnes Group Inc Ground Transportation Miscellaneous Company Car (Field Only)</td>\n",
       "      <td>CLASS-1758</td>\n",
       "      <td>VENDOR-1376</td>\n",
       "      <td>Miscellaneous Company Car  Field Only  Oct     Travel and Entertainment Barnes Group Inc Ground Transportation Miscellaneous Company Car  Field Only</td>\n",
       "    </tr>\n",
       "    <tr>\n",
       "      <th>18</th>\n",
       "      <td>GL-6100410</td>\n",
       "      <td>9.03</td>\n",
       "      <td>15030</td>\n",
       "      <td>SMAP Artworking/Typesetting Electro Catheter Corp Production Prototype and Comp Production/Packaging Design 2000-Oct</td>\n",
       "      <td>CLASS-1963</td>\n",
       "      <td>VENDOR-2160</td>\n",
       "      <td>SMAP Artworking Typesetting Electro Catheter Corp Production Prototype and Comp Production Packaging Design      Oct</td>\n",
       "    </tr>\n",
       "    <tr>\n",
       "      <th>19</th>\n",
       "      <td>GL-6050310</td>\n",
       "      <td>68.92</td>\n",
       "      <td>15032</td>\n",
       "      <td>Ground Transportation Miscellaneous Company Car (Field Only) Miscellaneous Company Car (Field Only) Allis Chalmers Corp 2014-Mar  Travel and Entertainment</td>\n",
       "      <td>CLASS-1758</td>\n",
       "      <td>VENDOR-1114</td>\n",
       "      <td>Ground Transportation Miscellaneous Company Car  Field Only  Miscellaneous Company Car  Field Only  Allis Chalmers Corp      Mar  Travel and Entertainment</td>\n",
       "    </tr>\n",
       "    <tr>\n",
       "      <th>20</th>\n",
       "      <td>GL-6100410</td>\n",
       "      <td>78.78</td>\n",
       "      <td>15033</td>\n",
       "      <td>SMAP Digital Display Production Digital/Social Nov2011 Beverly Hills Bancorp</td>\n",
       "      <td>CLASS-1429</td>\n",
       "      <td>VENDOR-1424</td>\n",
       "      <td>SMAP Digital Display Production Digital Social Nov     Beverly Hills Bancorp</td>\n",
       "    </tr>\n",
       "    <tr>\n",
       "      <th>21</th>\n",
       "      <td>GL-6060100</td>\n",
       "      <td>10.70</td>\n",
       "      <td>15035</td>\n",
       "      <td>Flightsafety International Inc Final Site Clean Up 2011Dec General Requirements General Contractor Facility Construction</td>\n",
       "      <td>CLASS-1522</td>\n",
       "      <td>VENDOR-2478</td>\n",
       "      <td>Flightsafety International Inc Final Site Clean Up     Dec General Requirements General Contractor Facility Construction</td>\n",
       "    </tr>\n",
       "    <tr>\n",
       "      <th>22</th>\n",
       "      <td>GL-6050100</td>\n",
       "      <td>21.01</td>\n",
       "      <td>15036</td>\n",
       "      <td>2008-Nov  First Real Estate Investment Trust Of New Jersey Base Rent Lease/Rent Store Management Real Estate</td>\n",
       "      <td>CLASS-1274</td>\n",
       "      <td>VENDOR-2353</td>\n",
       "      <td>Nov  First Real Estate Investment Trust Of New Jersey Base Rent Lease Rent Store Management Real Estate</td>\n",
       "    </tr>\n",
       "    <tr>\n",
       "      <th>23</th>\n",
       "      <td>GL-6060100</td>\n",
       "      <td>85.10</td>\n",
       "      <td>15038</td>\n",
       "      <td>Information Technology IT Managed Services Atwood Oceanics Inc Qualified Stock Option Plans Managed Services IT Managed Services Aug 2010</td>\n",
       "      <td>CLASS-1652</td>\n",
       "      <td>VENDOR-1312</td>\n",
       "      <td>Information Technology IT Managed Services Atwood Oceanics Inc Qualified Stock Option Plans Managed Services IT Managed Services Aug</td>\n",
       "    </tr>\n",
       "    <tr>\n",
       "      <th>24</th>\n",
       "      <td>GL-6050310</td>\n",
       "      <td>29.76</td>\n",
       "      <td>15040</td>\n",
       "      <td>Fort Howard Corp Oct2011 Travel and Entertainment Ground Transportation Miscellaneous Company Car (Field Only) Miscellaneous Company Car (Field Only)</td>\n",
       "      <td>CLASS-1758</td>\n",
       "      <td>VENDOR-2408</td>\n",
       "      <td>Fort Howard Corp Oct     Travel and Entertainment Ground Transportation Miscellaneous Company Car  Field Only  Miscellaneous Company Car  Field Only</td>\n",
       "    </tr>\n",
       "    <tr>\n",
       "      <th>25</th>\n",
       "      <td>GL-6050100</td>\n",
       "      <td>88.80</td>\n",
       "      <td>15041</td>\n",
       "      <td>Base Rent Store Management Aig Equity Sales Corp. Feb-2003 Lease/Rent Real Estate</td>\n",
       "      <td>CLASS-1274</td>\n",
       "      <td>VENDOR-1181</td>\n",
       "      <td>Base Rent Store Management Aig Equity Sales Corp  Feb      Lease Rent Real Estate</td>\n",
       "    </tr>\n",
       "    <tr>\n",
       "      <th>26</th>\n",
       "      <td>GL-2182000</td>\n",
       "      <td>94.48</td>\n",
       "      <td>15042</td>\n",
       "      <td>Daly John J Auto Fleet Repair and Maintenance Mar 2014 Auto Leasing and Maintenance Other Corporate Services Corporate Services</td>\n",
       "      <td>CLASS-1249</td>\n",
       "      <td>VENDOR-1944</td>\n",
       "      <td>Daly John J Auto Fleet Repair and Maintenance Mar      Auto Leasing and Maintenance Other Corporate Services Corporate Services</td>\n",
       "    </tr>\n",
       "    <tr>\n",
       "      <th>27</th>\n",
       "      <td>GL-2182000</td>\n",
       "      <td>74.68</td>\n",
       "      <td>15046</td>\n",
       "      <td>Jul 2019 Corning Inc /Ny Auto Leasing Auto Leasing and Maintenance Corporate Services Other Corporate Services</td>\n",
       "      <td>CLASS-1250</td>\n",
       "      <td>VENDOR-1883</td>\n",
       "      <td>Jul      Corning Inc  Ny Auto Leasing Auto Leasing and Maintenance Corporate Services Other Corporate Services</td>\n",
       "    </tr>\n",
       "    <tr>\n",
       "      <th>28</th>\n",
       "      <td>GL-6050310</td>\n",
       "      <td>8.50</td>\n",
       "      <td>15047</td>\n",
       "      <td>Travel and Entertainment Miscellaneous Company Car (Field Only) Alco Standard Corp Ground Transportation Miscellaneous Company Car (Field Only) 2013Oct</td>\n",
       "      <td>CLASS-1758</td>\n",
       "      <td>VENDOR-1080</td>\n",
       "      <td>Travel and Entertainment Miscellaneous Company Car  Field Only  Alco Standard Corp Ground Transportation Miscellaneous Company Car  Field Only      Oct</td>\n",
       "    </tr>\n",
       "    <tr>\n",
       "      <th>29</th>\n",
       "      <td>GL-6050310</td>\n",
       "      <td>26.75</td>\n",
       "      <td>15048</td>\n",
       "      <td>Miscellaneous Company Car (Field Only) Mar 2019 Travel and Entertainment Cooper Laboratories Inc Stockholders Liquidating Trust Ground Transportation Miscellaneous Company Car (Field Only)</td>\n",
       "      <td>CLASS-1758</td>\n",
       "      <td>VENDOR-1873</td>\n",
       "      <td>Miscellaneous Company Car  Field Only  Mar      Travel and Entertainment Cooper Laboratories Inc Stockholders Liquidating Trust Ground Transportation Miscellaneous Company Car  Field Only</td>\n",
       "    </tr>\n",
       "    <tr>\n",
       "      <th>...</th>\n",
       "      <td>...</td>\n",
       "      <td>...</td>\n",
       "      <td>...</td>\n",
       "      <td>...</td>\n",
       "      <td>...</td>\n",
       "      <td>...</td>\n",
       "      <td>...</td>\n",
       "    </tr>\n",
       "    <tr>\n",
       "      <th>7982</th>\n",
       "      <td>GL-6050310</td>\n",
       "      <td>52.30</td>\n",
       "      <td>22928</td>\n",
       "      <td>Ground Transportation Travel and Entertainment Miscellaneous Company Car (Field Only) Miscellaneous Company Car (Field Only) May-2017 Brother Industries Ltd/Adr/</td>\n",
       "      <td>NaN</td>\n",
       "      <td>VENDOR-1513</td>\n",
       "      <td>Ground Transportation Travel and Entertainment Miscellaneous Company Car  Field Only  Miscellaneous Company Car  Field Only  May      Brother Industries Ltd Adr</td>\n",
       "    </tr>\n",
       "    <tr>\n",
       "      <th>7983</th>\n",
       "      <td>GL-6121905</td>\n",
       "      <td>27.48</td>\n",
       "      <td>22929</td>\n",
       "      <td>Fidelity Distributors Corporation Jul2004 SMAP Printed Collateral Direct Mail Post Card/Mailer</td>\n",
       "      <td>NaN</td>\n",
       "      <td>VENDOR-2301</td>\n",
       "      <td>Fidelity Distributors Corporation Jul     SMAP Printed Collateral Direct Mail Post Card Mailer</td>\n",
       "    </tr>\n",
       "    <tr>\n",
       "      <th>7984</th>\n",
       "      <td>GL-6020600</td>\n",
       "      <td>50.99</td>\n",
       "      <td>22931</td>\n",
       "      <td>Non-Procurable Charity Organizations Frigikar Corp Charity Organizations Charity Organizations 2002May</td>\n",
       "      <td>NaN</td>\n",
       "      <td>VENDOR-2548</td>\n",
       "      <td>Non Procurable Charity Organizations Frigikar Corp Charity Organizations Charity Organizations     May</td>\n",
       "    </tr>\n",
       "    <tr>\n",
       "      <th>7985</th>\n",
       "      <td>GL-2182000</td>\n",
       "      <td>20.84</td>\n",
       "      <td>22935</td>\n",
       "      <td>Other Corporate Services Corporate Services Auto Leasing and Maintenance Auto Fleet Repair and Maintenance May-2015 Daly John J</td>\n",
       "      <td>NaN</td>\n",
       "      <td>VENDOR-1944</td>\n",
       "      <td>Other Corporate Services Corporate Services Auto Leasing and Maintenance Auto Fleet Repair and Maintenance May      Daly John J</td>\n",
       "    </tr>\n",
       "    <tr>\n",
       "      <th>7986</th>\n",
       "      <td>GL-2182000</td>\n",
       "      <td>61.06</td>\n",
       "      <td>22937</td>\n",
       "      <td>Auto Leasing Corporate Services Butler Manufacturing Co Jan 2005 Auto Leasing and Maintenance Other Corporate Services</td>\n",
       "      <td>NaN</td>\n",
       "      <td>VENDOR-1551</td>\n",
       "      <td>Auto Leasing Corporate Services Butler Manufacturing Co Jan      Auto Leasing and Maintenance Other Corporate Services</td>\n",
       "    </tr>\n",
       "    <tr>\n",
       "      <th>7987</th>\n",
       "      <td>GL-6050310</td>\n",
       "      <td>63.04</td>\n",
       "      <td>22938</td>\n",
       "      <td>Alco Standard Corp Miscellaneous Company Car (Field Only) 2001Nov Miscellaneous Company Car (Field Only) Ground Transportation Travel and Entertainment</td>\n",
       "      <td>NaN</td>\n",
       "      <td>VENDOR-1080</td>\n",
       "      <td>Alco Standard Corp Miscellaneous Company Car  Field Only      Nov Miscellaneous Company Car  Field Only  Ground Transportation Travel and Entertainment</td>\n",
       "    </tr>\n",
       "    <tr>\n",
       "      <th>7988</th>\n",
       "      <td>GL-6121905</td>\n",
       "      <td>32.34</td>\n",
       "      <td>22944</td>\n",
       "      <td>El Paso Natural Gas Co Post Card/Mailer 2012-Jan  Direct Mail Printed Collateral SMAP</td>\n",
       "      <td>NaN</td>\n",
       "      <td>VENDOR-2156</td>\n",
       "      <td>El Paso Natural Gas Co Post Card Mailer      Jan  Direct Mail Printed Collateral SMAP</td>\n",
       "    </tr>\n",
       "    <tr>\n",
       "      <th>7989</th>\n",
       "      <td>GL-2182000</td>\n",
       "      <td>70.03</td>\n",
       "      <td>22947</td>\n",
       "      <td>Corporate Services Auto Leasing and Maintenance Corning Inc /Ny Other Corporate Services Auto Leasing May 2003</td>\n",
       "      <td>NaN</td>\n",
       "      <td>VENDOR-1883</td>\n",
       "      <td>Corporate Services Auto Leasing and Maintenance Corning Inc  Ny Other Corporate Services Auto Leasing May</td>\n",
       "    </tr>\n",
       "    <tr>\n",
       "      <th>7990</th>\n",
       "      <td>GL-6050310</td>\n",
       "      <td>21.55</td>\n",
       "      <td>22953</td>\n",
       "      <td>Travel and Entertainment Miscellaneous Company Car (Field Only) Alco Standard Corp Ground Transportation Miscellaneous Company Car (Field Only) Apr-2008</td>\n",
       "      <td>NaN</td>\n",
       "      <td>VENDOR-1080</td>\n",
       "      <td>Travel and Entertainment Miscellaneous Company Car  Field Only  Alco Standard Corp Ground Transportation Miscellaneous Company Car  Field Only  Apr</td>\n",
       "    </tr>\n",
       "    <tr>\n",
       "      <th>7991</th>\n",
       "      <td>GL-6100410</td>\n",
       "      <td>25.41</td>\n",
       "      <td>22958</td>\n",
       "      <td>Prototype and Comp Production/Packaging Design 2008Mar SMAP Froley Revy Investment Co Inc Production Artworking/Typesetting</td>\n",
       "      <td>NaN</td>\n",
       "      <td>VENDOR-2549</td>\n",
       "      <td>Prototype and Comp Production Packaging Design     Mar SMAP Froley Revy Investment Co Inc Production Artworking Typesetting</td>\n",
       "    </tr>\n",
       "    <tr>\n",
       "      <th>7992</th>\n",
       "      <td>GL-6050310</td>\n",
       "      <td>42.19</td>\n",
       "      <td>22962</td>\n",
       "      <td>Travel and Entertainment Miscellaneous Company Car (Field Only) Ground Transportation Miscellaneous Company Car (Field Only) May 2003 Texas New Mexico Power Co</td>\n",
       "      <td>NaN</td>\n",
       "      <td>VENDOR-1802</td>\n",
       "      <td>Travel and Entertainment Miscellaneous Company Car  Field Only  Ground Transportation Miscellaneous Company Car  Field Only  May      Texas New Mexico Power Co</td>\n",
       "    </tr>\n",
       "    <tr>\n",
       "      <th>7993</th>\n",
       "      <td>GL-6050100</td>\n",
       "      <td>76.21</td>\n",
       "      <td>22964</td>\n",
       "      <td>Lease/Rent Real Estate Aug 2001 Ddl Electronics Inc Store Management Base Rent</td>\n",
       "      <td>NaN</td>\n",
       "      <td>VENDOR-1955</td>\n",
       "      <td>Lease Rent Real Estate Aug      Ddl Electronics Inc Store Management Base Rent</td>\n",
       "    </tr>\n",
       "    <tr>\n",
       "      <th>7994</th>\n",
       "      <td>GL-6050100</td>\n",
       "      <td>50.33</td>\n",
       "      <td>22967</td>\n",
       "      <td>Store Management Base Rent Real Estate Lease/Rent 2016Apr Cmi Corp</td>\n",
       "      <td>NaN</td>\n",
       "      <td>VENDOR-1743</td>\n",
       "      <td>Store Management Base Rent Real Estate Lease Rent     Apr Cmi Corp</td>\n",
       "    </tr>\n",
       "    <tr>\n",
       "      <th>7995</th>\n",
       "      <td>GL-6050310</td>\n",
       "      <td>42.11</td>\n",
       "      <td>22970</td>\n",
       "      <td>Travel and Entertainment Miscellaneous Company Car (Field Only) Chyron Corp Ground Transportation Miscellaneous Company Car (Field Only) Oct-2018</td>\n",
       "      <td>NaN</td>\n",
       "      <td>VENDOR-1717</td>\n",
       "      <td>Travel and Entertainment Miscellaneous Company Car  Field Only  Chyron Corp Ground Transportation Miscellaneous Company Car  Field Only  Oct</td>\n",
       "    </tr>\n",
       "    <tr>\n",
       "      <th>7996</th>\n",
       "      <td>GL-2182000</td>\n",
       "      <td>94.75</td>\n",
       "      <td>22973</td>\n",
       "      <td>Auto Leasing and Maintenance Other Corporate Services Mar2000 Corning Inc /Ny Corporate Services Auto Leasing</td>\n",
       "      <td>NaN</td>\n",
       "      <td>VENDOR-1883</td>\n",
       "      <td>Auto Leasing and Maintenance Other Corporate Services Mar     Corning Inc  Ny Corporate Services Auto Leasing</td>\n",
       "    </tr>\n",
       "    <tr>\n",
       "      <th>7997</th>\n",
       "      <td>GL-6050310</td>\n",
       "      <td>49.87</td>\n",
       "      <td>22975</td>\n",
       "      <td>Travel and Entertainment Miscellaneous Company Car (Field Only) Alco Standard Corp Ground Transportation Miscellaneous Company Car (Field Only) Jul2004</td>\n",
       "      <td>NaN</td>\n",
       "      <td>VENDOR-1080</td>\n",
       "      <td>Travel and Entertainment Miscellaneous Company Car  Field Only  Alco Standard Corp Ground Transportation Miscellaneous Company Car  Field Only  Jul</td>\n",
       "    </tr>\n",
       "    <tr>\n",
       "      <th>7998</th>\n",
       "      <td>GL-6100410</td>\n",
       "      <td>34.64</td>\n",
       "      <td>22977</td>\n",
       "      <td>Other Agency SMAP Ceradyne Inc Jul 2015 Agency Fees &amp; Commissions 3 Production</td>\n",
       "      <td>NaN</td>\n",
       "      <td>VENDOR-1668</td>\n",
       "      <td>Other Agency SMAP Ceradyne Inc Jul      Agency Fees   Commissions   Production</td>\n",
       "    </tr>\n",
       "    <tr>\n",
       "      <th>7999</th>\n",
       "      <td>GL-6050310</td>\n",
       "      <td>91.38</td>\n",
       "      <td>22978</td>\n",
       "      <td>Travel and Entertainment Miscellaneous Company Car (Field Only) Ground Transportation Miscellaneous Company Car (Field Only) 2017-Dec  Texas New Mexico Power Co</td>\n",
       "      <td>NaN</td>\n",
       "      <td>VENDOR-1802</td>\n",
       "      <td>Travel and Entertainment Miscellaneous Company Car  Field Only  Ground Transportation Miscellaneous Company Car  Field Only       Dec  Texas New Mexico Power Co</td>\n",
       "    </tr>\n",
       "    <tr>\n",
       "      <th>8000</th>\n",
       "      <td>GL-6050100</td>\n",
       "      <td>39.54</td>\n",
       "      <td>22981</td>\n",
       "      <td>Real Estate Lease/Rent Base Rent Dibrell Brothers Inc Oct 2007 Store Management</td>\n",
       "      <td>NaN</td>\n",
       "      <td>VENDOR-2028</td>\n",
       "      <td>Real Estate Lease Rent Base Rent Dibrell Brothers Inc Oct      Store Management</td>\n",
       "    </tr>\n",
       "    <tr>\n",
       "      <th>8001</th>\n",
       "      <td>GL-6050310</td>\n",
       "      <td>52.54</td>\n",
       "      <td>22983</td>\n",
       "      <td>Fox Pitt Kelton Inc                                     /Bd Miscellaneous Company Car (Field Only) Dec2012 Miscellaneous Company Car (Field Only) Ground Transportation Travel and Entertainment</td>\n",
       "      <td>NaN</td>\n",
       "      <td>VENDOR-2417</td>\n",
       "      <td>Fox Pitt Kelton Inc                                      Bd Miscellaneous Company Car  Field Only  Dec     Miscellaneous Company Car  Field Only  Ground Transportation Travel and Entertainment</td>\n",
       "    </tr>\n",
       "    <tr>\n",
       "      <th>8002</th>\n",
       "      <td>GL-6101400</td>\n",
       "      <td>6.71</td>\n",
       "      <td>22988</td>\n",
       "      <td>Final Site Clean Up Nov-2016 Store Construction Capital Southwest Corp General Contractor General Requirements</td>\n",
       "      <td>NaN</td>\n",
       "      <td>VENDOR-1608</td>\n",
       "      <td>Final Site Clean Up Nov      Store Construction Capital Southwest Corp General Contractor General Requirements</td>\n",
       "    </tr>\n",
       "    <tr>\n",
       "      <th>8003</th>\n",
       "      <td>GL-6050310</td>\n",
       "      <td>16.73</td>\n",
       "      <td>22991</td>\n",
       "      <td>Miscellaneous Company Car (Field Only) Travel and Entertainment Brother Industries Ltd/Adr/ Jun2015 Miscellaneous Company Car (Field Only) Ground Transportation</td>\n",
       "      <td>NaN</td>\n",
       "      <td>VENDOR-1513</td>\n",
       "      <td>Miscellaneous Company Car  Field Only  Travel and Entertainment Brother Industries Ltd Adr  Jun     Miscellaneous Company Car  Field Only  Ground Transportation</td>\n",
       "    </tr>\n",
       "    <tr>\n",
       "      <th>8004</th>\n",
       "      <td>GL-6050310</td>\n",
       "      <td>46.76</td>\n",
       "      <td>22992</td>\n",
       "      <td>Ground Transportation Miscellaneous Company Car (Field Only) Miscellaneous Company Car (Field Only) Fort Howard Corp Jun-2016 Travel and Entertainment</td>\n",
       "      <td>NaN</td>\n",
       "      <td>VENDOR-2408</td>\n",
       "      <td>Ground Transportation Miscellaneous Company Car  Field Only  Miscellaneous Company Car  Field Only  Fort Howard Corp Jun      Travel and Entertainment</td>\n",
       "    </tr>\n",
       "    <tr>\n",
       "      <th>8005</th>\n",
       "      <td>GL-2182000</td>\n",
       "      <td>98.27</td>\n",
       "      <td>22993</td>\n",
       "      <td>Corporate Services Auto Leasing Other Corporate Services Auto Leasing and Maintenance 2016-May  Butler Manufacturing Co</td>\n",
       "      <td>NaN</td>\n",
       "      <td>VENDOR-1551</td>\n",
       "      <td>Corporate Services Auto Leasing Other Corporate Services Auto Leasing and Maintenance      May  Butler Manufacturing Co</td>\n",
       "    </tr>\n",
       "    <tr>\n",
       "      <th>8006</th>\n",
       "      <td>GL-6050310</td>\n",
       "      <td>37.47</td>\n",
       "      <td>22994</td>\n",
       "      <td>Travel and Entertainment Miscellaneous Company Car (Field Only) Texas New Mexico Power Co Ground Transportation Miscellaneous Company Car (Field Only) Apr 2012</td>\n",
       "      <td>NaN</td>\n",
       "      <td>VENDOR-1802</td>\n",
       "      <td>Travel and Entertainment Miscellaneous Company Car  Field Only  Texas New Mexico Power Co Ground Transportation Miscellaneous Company Car  Field Only  Apr</td>\n",
       "    </tr>\n",
       "    <tr>\n",
       "      <th>8007</th>\n",
       "      <td>GL-6101400</td>\n",
       "      <td>7.75</td>\n",
       "      <td>22995</td>\n",
       "      <td>General Contractor General Requirements Final Site Clean Up Exeter &amp; Hampton Electric Co 2002Oct Store Construction</td>\n",
       "      <td>NaN</td>\n",
       "      <td>VENDOR-2237</td>\n",
       "      <td>General Contractor General Requirements Final Site Clean Up Exeter   Hampton Electric Co     Oct Store Construction</td>\n",
       "    </tr>\n",
       "    <tr>\n",
       "      <th>8008</th>\n",
       "      <td>GL-6050310</td>\n",
       "      <td>37.35</td>\n",
       "      <td>23002</td>\n",
       "      <td>Ground Transportation Miscellaneous Company Car (Field Only) Miscellaneous Company Car (Field Only) Akzo Nobel Nv Sep2009 Travel and Entertainment</td>\n",
       "      <td>NaN</td>\n",
       "      <td>VENDOR-1066</td>\n",
       "      <td>Ground Transportation Miscellaneous Company Car  Field Only  Miscellaneous Company Car  Field Only  Akzo Nobel Nv Sep     Travel and Entertainment</td>\n",
       "    </tr>\n",
       "    <tr>\n",
       "      <th>8009</th>\n",
       "      <td>GL-2182000</td>\n",
       "      <td>42.16</td>\n",
       "      <td>23006</td>\n",
       "      <td>Auto Leasing Corporate Services Corning Inc /Ny 2002-Dec  Auto Leasing and Maintenance Other Corporate Services</td>\n",
       "      <td>NaN</td>\n",
       "      <td>VENDOR-1883</td>\n",
       "      <td>Auto Leasing Corporate Services Corning Inc  Ny      Dec  Auto Leasing and Maintenance Other Corporate Services</td>\n",
       "    </tr>\n",
       "    <tr>\n",
       "      <th>8010</th>\n",
       "      <td>GL-6100410</td>\n",
       "      <td>63.52</td>\n",
       "      <td>23009</td>\n",
       "      <td>Artworking/Typesetting Production 2007Mar Aquila Distributors Inc                                 /Bd SMAP Prototype and Comp Production/Packaging Design</td>\n",
       "      <td>NaN</td>\n",
       "      <td>VENDOR-2120</td>\n",
       "      <td>Artworking Typesetting Production     Mar Aquila Distributors Inc                                  Bd SMAP Prototype and Comp Production Packaging Design</td>\n",
       "    </tr>\n",
       "    <tr>\n",
       "      <th>8011</th>\n",
       "      <td>GL-2182000</td>\n",
       "      <td>40.16</td>\n",
       "      <td>23011</td>\n",
       "      <td>2008Jul Dr Pepper Co Public Relations Agency Agency Fees &amp; Commissions SMAP Events and Promotions</td>\n",
       "      <td>NaN</td>\n",
       "      <td>VENDOR-2047</td>\n",
       "      <td>Jul Dr Pepper Co Public Relations Agency Agency Fees   Commissions SMAP Events and Promotions</td>\n",
       "    </tr>\n",
       "  </tbody>\n",
       "</table>\n",
       "<p>8012 rows × 7 columns</p>\n",
       "</div>"
      ],
      "text/plain": [
       "         GL_Code  Inv_Amt  Inv_Id  \\\n",
       "0     GL-6100410    83.24   15001   \n",
       "1     GL-2182000    51.18   15002   \n",
       "2     GL-6050100    79.02   15004   \n",
       "3     GL-6101400    48.50   15005   \n",
       "4     GL-2182000    63.35   15006   \n",
       "5     GL-6101400    32.28   15007   \n",
       "6     GL-6050310     5.38   15009   \n",
       "7     GL-6101400    31.21   15010   \n",
       "8     GL-6100410    42.89   15011   \n",
       "9     GL-6050100    59.50   15012   \n",
       "10    GL-6050310    69.85   15014   \n",
       "11    GL-6050100    85.64   15015   \n",
       "12    GL-6050100    35.64   15016   \n",
       "13    GL-2182000    43.00   15017   \n",
       "14    GL-6101400    93.67   15018   \n",
       "15    GL-6050310    35.73   15021   \n",
       "16    GL-6101400    94.67   15023   \n",
       "17    GL-6050310    21.23   15025   \n",
       "18    GL-6100410     9.03   15030   \n",
       "19    GL-6050310    68.92   15032   \n",
       "20    GL-6100410    78.78   15033   \n",
       "21    GL-6060100    10.70   15035   \n",
       "22    GL-6050100    21.01   15036   \n",
       "23    GL-6060100    85.10   15038   \n",
       "24    GL-6050310    29.76   15040   \n",
       "25    GL-6050100    88.80   15041   \n",
       "26    GL-2182000    94.48   15042   \n",
       "27    GL-2182000    74.68   15046   \n",
       "28    GL-6050310     8.50   15047   \n",
       "29    GL-6050310    26.75   15048   \n",
       "...          ...      ...     ...   \n",
       "7982  GL-6050310    52.30   22928   \n",
       "7983  GL-6121905    27.48   22929   \n",
       "7984  GL-6020600    50.99   22931   \n",
       "7985  GL-2182000    20.84   22935   \n",
       "7986  GL-2182000    61.06   22937   \n",
       "7987  GL-6050310    63.04   22938   \n",
       "7988  GL-6121905    32.34   22944   \n",
       "7989  GL-2182000    70.03   22947   \n",
       "7990  GL-6050310    21.55   22953   \n",
       "7991  GL-6100410    25.41   22958   \n",
       "7992  GL-6050310    42.19   22962   \n",
       "7993  GL-6050100    76.21   22964   \n",
       "7994  GL-6050100    50.33   22967   \n",
       "7995  GL-6050310    42.11   22970   \n",
       "7996  GL-2182000    94.75   22973   \n",
       "7997  GL-6050310    49.87   22975   \n",
       "7998  GL-6100410    34.64   22977   \n",
       "7999  GL-6050310    91.38   22978   \n",
       "8000  GL-6050100    39.54   22981   \n",
       "8001  GL-6050310    52.54   22983   \n",
       "8002  GL-6101400     6.71   22988   \n",
       "8003  GL-6050310    16.73   22991   \n",
       "8004  GL-6050310    46.76   22992   \n",
       "8005  GL-2182000    98.27   22993   \n",
       "8006  GL-6050310    37.47   22994   \n",
       "8007  GL-6101400     7.75   22995   \n",
       "8008  GL-6050310    37.35   23002   \n",
       "8009  GL-2182000    42.16   23006   \n",
       "8010  GL-6100410    63.52   23009   \n",
       "8011  GL-2182000    40.16   23011   \n",
       "\n",
       "                                                                                                                                                                                      Item_Description  \\\n",
       "0                                                                                    Artworking/Typesetting Production Jun 2009 Champion Parts Inc SMAP Prototype and Comp Production/Packaging Design   \n",
       "1                                                                                      Auto Leasing Corporate Services Corning Inc /Ny 2013-Mar  Auto Leasing and Maintenance Other Corporate Services   \n",
       "2                                                                                                                               Store Management Lease/Rent Deltona Corp Real Estate Base Rent Jul2018   \n",
       "3                                                                                          Store Construction General Requirements Colonial Trust Iii General Contractor Final Site Clean Up 2005-Dec    \n",
       "4                                                                                       Jul 2015 Aydin Corp Contingent Labor/Temp Labor Contingent Labor/Temp Labor Corporate Services Human Resources   \n",
       "5                                                                                                    Final Site Clean Up 2018Mar Store Construction Dravo Corp General Contractor General Requirements   \n",
       "6                                     Travel and Entertainment Miscellaneous Company Car (Field Only) Texas New Mexico Power Co Ground Transportation Miscellaneous Company Car (Field Only) 2011-Mar    \n",
       "7                                                                                       General Contractor General Requirements Final Site Clean Up American Pad & Paper Co Apr2014 Store Construction   \n",
       "8                                           Aquila Distributors Inc                                 /Bd Prototype and Comp Production/Packaging Design Jul 2007 Artworking/Typesetting Production SMAP   \n",
       "9                                                                                                                Base Rent Store Management Chicago Rivet & Machine Co Dec-2017 Lease/Rent Real Estate   \n",
       "10                                          Ground Transportation Travel and Entertainment Miscellaneous Company Car (Field Only) Miscellaneous Company Car (Field Only) 2003May Fortune National Corp   \n",
       "11                                                                                                                  Base Rent Store Management Bio Rad Laboratories Inc Jul2015 Lease/Rent Real Estate   \n",
       "12                                                                                                                     Real Estate Lease/Rent Base Rent Allegheny Energy Inc Oct 2016 Store Management   \n",
       "13                                                                     First Options Of Chicago, Inc. 2017-Jan  SMAP Events and Promotions Trade Show Expenses Talent, Artists & Models for Trade Show   \n",
       "14                                                                     Chesapeake Shores Beach & Country Club I 2012May Store Construction General Contractor General Requirements Final Site Clean Up   \n",
       "15                                                      Travel and Entertainment Miscellaneous Company Car (Field Only) Ground Transportation Miscellaneous Company Car (Field Only) Sep2012 Akorn Inc   \n",
       "16                                                                                     Final Site Clean Up 2007Nov Store Construction Banner Life Insurance Co General Contractor General Requirements   \n",
       "17                                               Miscellaneous Company Car (Field Only) Oct2018 Travel and Entertainment Barnes Group Inc Ground Transportation Miscellaneous Company Car (Field Only)   \n",
       "18                                                                               SMAP Artworking/Typesetting Electro Catheter Corp Production Prototype and Comp Production/Packaging Design 2000-Oct    \n",
       "19                                          Ground Transportation Miscellaneous Company Car (Field Only) Miscellaneous Company Car (Field Only) Allis Chalmers Corp 2014-Mar  Travel and Entertainment   \n",
       "20                                                                                                                        SMAP Digital Display Production Digital/Social Nov2011 Beverly Hills Bancorp   \n",
       "21                                                                            Flightsafety International Inc Final Site Clean Up 2011Dec General Requirements General Contractor Facility Construction   \n",
       "22                                                                                        2008-Nov  First Real Estate Investment Trust Of New Jersey Base Rent Lease/Rent Store Management Real Estate   \n",
       "23                                                           Information Technology IT Managed Services Atwood Oceanics Inc Qualified Stock Option Plans Managed Services IT Managed Services Aug 2010   \n",
       "24                                               Fort Howard Corp Oct2011 Travel and Entertainment Ground Transportation Miscellaneous Company Car (Field Only) Miscellaneous Company Car (Field Only)   \n",
       "25                                                                                                                   Base Rent Store Management Aig Equity Sales Corp. Feb-2003 Lease/Rent Real Estate   \n",
       "26                                                                     Daly John J Auto Fleet Repair and Maintenance Mar 2014 Auto Leasing and Maintenance Other Corporate Services Corporate Services   \n",
       "27                                                                                      Jul 2019 Corning Inc /Ny Auto Leasing Auto Leasing and Maintenance Corporate Services Other Corporate Services   \n",
       "28                                             Travel and Entertainment Miscellaneous Company Car (Field Only) Alco Standard Corp Ground Transportation Miscellaneous Company Car (Field Only) 2013Oct   \n",
       "29        Miscellaneous Company Car (Field Only) Mar 2019 Travel and Entertainment Cooper Laboratories Inc Stockholders Liquidating Trust Ground Transportation Miscellaneous Company Car (Field Only)   \n",
       "...                                                                                                                                                                                                ...   \n",
       "7982                                 Ground Transportation Travel and Entertainment Miscellaneous Company Car (Field Only) Miscellaneous Company Car (Field Only) May-2017 Brother Industries Ltd/Adr/   \n",
       "7983                                                                                                    Fidelity Distributors Corporation Jul2004 SMAP Printed Collateral Direct Mail Post Card/Mailer   \n",
       "7984                                                                                            Non-Procurable Charity Organizations Frigikar Corp Charity Organizations Charity Organizations 2002May   \n",
       "7985                                                                   Other Corporate Services Corporate Services Auto Leasing and Maintenance Auto Fleet Repair and Maintenance May-2015 Daly John J   \n",
       "7986                                                                            Auto Leasing Corporate Services Butler Manufacturing Co Jan 2005 Auto Leasing and Maintenance Other Corporate Services   \n",
       "7987                                           Alco Standard Corp Miscellaneous Company Car (Field Only) 2001Nov Miscellaneous Company Car (Field Only) Ground Transportation Travel and Entertainment   \n",
       "7988                                                                                                             El Paso Natural Gas Co Post Card/Mailer 2012-Jan  Direct Mail Printed Collateral SMAP   \n",
       "7989                                                                                    Corporate Services Auto Leasing and Maintenance Corning Inc /Ny Other Corporate Services Auto Leasing May 2003   \n",
       "7990                                          Travel and Entertainment Miscellaneous Company Car (Field Only) Alco Standard Corp Ground Transportation Miscellaneous Company Car (Field Only) Apr-2008   \n",
       "7991                                                                       Prototype and Comp Production/Packaging Design 2008Mar SMAP Froley Revy Investment Co Inc Production Artworking/Typesetting   \n",
       "7992                                   Travel and Entertainment Miscellaneous Company Car (Field Only) Ground Transportation Miscellaneous Company Car (Field Only) May 2003 Texas New Mexico Power Co   \n",
       "7993                                                                                                                    Lease/Rent Real Estate Aug 2001 Ddl Electronics Inc Store Management Base Rent   \n",
       "7994                                                                                                                                Store Management Base Rent Real Estate Lease/Rent 2016Apr Cmi Corp   \n",
       "7995                                                 Travel and Entertainment Miscellaneous Company Car (Field Only) Chyron Corp Ground Transportation Miscellaneous Company Car (Field Only) Oct-2018   \n",
       "7996                                                                                     Auto Leasing and Maintenance Other Corporate Services Mar2000 Corning Inc /Ny Corporate Services Auto Leasing   \n",
       "7997                                           Travel and Entertainment Miscellaneous Company Car (Field Only) Alco Standard Corp Ground Transportation Miscellaneous Company Car (Field Only) Jul2004   \n",
       "7998                                                                                                                    Other Agency SMAP Ceradyne Inc Jul 2015 Agency Fees & Commissions 3 Production   \n",
       "7999                                  Travel and Entertainment Miscellaneous Company Car (Field Only) Ground Transportation Miscellaneous Company Car (Field Only) 2017-Dec  Texas New Mexico Power Co   \n",
       "8000                                                                                                                   Real Estate Lease/Rent Base Rent Dibrell Brothers Inc Oct 2007 Store Management   \n",
       "8001  Fox Pitt Kelton Inc                                     /Bd Miscellaneous Company Car (Field Only) Dec2012 Miscellaneous Company Car (Field Only) Ground Transportation Travel and Entertainment   \n",
       "8002                                                                                    Final Site Clean Up Nov-2016 Store Construction Capital Southwest Corp General Contractor General Requirements   \n",
       "8003                                  Miscellaneous Company Car (Field Only) Travel and Entertainment Brother Industries Ltd/Adr/ Jun2015 Miscellaneous Company Car (Field Only) Ground Transportation   \n",
       "8004                                            Ground Transportation Miscellaneous Company Car (Field Only) Miscellaneous Company Car (Field Only) Fort Howard Corp Jun-2016 Travel and Entertainment   \n",
       "8005                                                                           Corporate Services Auto Leasing Other Corporate Services Auto Leasing and Maintenance 2016-May  Butler Manufacturing Co   \n",
       "8006                                   Travel and Entertainment Miscellaneous Company Car (Field Only) Texas New Mexico Power Co Ground Transportation Miscellaneous Company Car (Field Only) Apr 2012   \n",
       "8007                                                                               General Contractor General Requirements Final Site Clean Up Exeter & Hampton Electric Co 2002Oct Store Construction   \n",
       "8008                                                Ground Transportation Miscellaneous Company Car (Field Only) Miscellaneous Company Car (Field Only) Akzo Nobel Nv Sep2009 Travel and Entertainment   \n",
       "8009                                                                                   Auto Leasing Corporate Services Corning Inc /Ny 2002-Dec  Auto Leasing and Maintenance Other Corporate Services   \n",
       "8010                                         Artworking/Typesetting Production 2007Mar Aquila Distributors Inc                                 /Bd SMAP Prototype and Comp Production/Packaging Design   \n",
       "8011                                                                                                 2008Jul Dr Pepper Co Public Relations Agency Agency Fees & Commissions SMAP Events and Promotions   \n",
       "\n",
       "     Product_Category  Vendor_Code  \\\n",
       "0          CLASS-1963  VENDOR-1676   \n",
       "1          CLASS-1250  VENDOR-1883   \n",
       "2          CLASS-1274  VENDOR-1999   \n",
       "3          CLASS-1522  VENDOR-1771   \n",
       "4          CLASS-1376  VENDOR-1331   \n",
       "5          CLASS-1522  VENDOR-2076   \n",
       "6          CLASS-1758  VENDOR-1802   \n",
       "7          CLASS-1522  VENDOR-1191   \n",
       "8          CLASS-1963  VENDOR-2120   \n",
       "9          CLASS-1274  VENDOR-1704   \n",
       "10         CLASS-1758  VENDOR-2513   \n",
       "11         CLASS-1274  VENDOR-1433   \n",
       "12         CLASS-1274  VENDOR-1098   \n",
       "13         CLASS-2141  VENDOR-2352   \n",
       "14         CLASS-1522  VENDOR-1700   \n",
       "15         CLASS-1758  VENDOR-1065   \n",
       "16         CLASS-1522  VENDOR-1370   \n",
       "17         CLASS-1758  VENDOR-1376   \n",
       "18         CLASS-1963  VENDOR-2160   \n",
       "19         CLASS-1758  VENDOR-1114   \n",
       "20         CLASS-1429  VENDOR-1424   \n",
       "21         CLASS-1522  VENDOR-2478   \n",
       "22         CLASS-1274  VENDOR-2353   \n",
       "23         CLASS-1652  VENDOR-1312   \n",
       "24         CLASS-1758  VENDOR-2408   \n",
       "25         CLASS-1274  VENDOR-1181   \n",
       "26         CLASS-1249  VENDOR-1944   \n",
       "27         CLASS-1250  VENDOR-1883   \n",
       "28         CLASS-1758  VENDOR-1080   \n",
       "29         CLASS-1758  VENDOR-1873   \n",
       "...               ...          ...   \n",
       "7982              NaN  VENDOR-1513   \n",
       "7983              NaN  VENDOR-2301   \n",
       "7984              NaN  VENDOR-2548   \n",
       "7985              NaN  VENDOR-1944   \n",
       "7986              NaN  VENDOR-1551   \n",
       "7987              NaN  VENDOR-1080   \n",
       "7988              NaN  VENDOR-2156   \n",
       "7989              NaN  VENDOR-1883   \n",
       "7990              NaN  VENDOR-1080   \n",
       "7991              NaN  VENDOR-2549   \n",
       "7992              NaN  VENDOR-1802   \n",
       "7993              NaN  VENDOR-1955   \n",
       "7994              NaN  VENDOR-1743   \n",
       "7995              NaN  VENDOR-1717   \n",
       "7996              NaN  VENDOR-1883   \n",
       "7997              NaN  VENDOR-1080   \n",
       "7998              NaN  VENDOR-1668   \n",
       "7999              NaN  VENDOR-1802   \n",
       "8000              NaN  VENDOR-2028   \n",
       "8001              NaN  VENDOR-2417   \n",
       "8002              NaN  VENDOR-1608   \n",
       "8003              NaN  VENDOR-1513   \n",
       "8004              NaN  VENDOR-2408   \n",
       "8005              NaN  VENDOR-1551   \n",
       "8006              NaN  VENDOR-1802   \n",
       "8007              NaN  VENDOR-2237   \n",
       "8008              NaN  VENDOR-1066   \n",
       "8009              NaN  VENDOR-1883   \n",
       "8010              NaN  VENDOR-2120   \n",
       "8011              NaN  VENDOR-2047   \n",
       "\n",
       "                                                                                                                                                                                 tidy_Item_Description  \n",
       "0                                                                                    Artworking Typesetting Production Jun      Champion Parts Inc SMAP Prototype and Comp Production Packaging Design  \n",
       "1                                                                                      Auto Leasing Corporate Services Corning Inc  Ny      Mar  Auto Leasing and Maintenance Other Corporate Services  \n",
       "2                                                                                                                               Store Management Lease Rent Deltona Corp Real Estate Base Rent Jul      \n",
       "3                                                                                          Store Construction General Requirements Colonial Trust Iii General Contractor Final Site Clean Up      Dec   \n",
       "4                                                                                       Jul      Aydin Corp Contingent Labor Temp Labor Contingent Labor Temp Labor Corporate Services Human Resources  \n",
       "5                                                                                                    Final Site Clean Up     Mar Store Construction Dravo Corp General Contractor General Requirements  \n",
       "6                                     Travel and Entertainment Miscellaneous Company Car  Field Only  Texas New Mexico Power Co Ground Transportation Miscellaneous Company Car  Field Only       Mar   \n",
       "7                                                                                       General Contractor General Requirements Final Site Clean Up American Pad   Paper Co Apr     Store Construction  \n",
       "8                                           Aquila Distributors Inc                                  Bd Prototype and Comp Production Packaging Design Jul      Artworking Typesetting Production SMAP  \n",
       "9                                                                                                                Base Rent Store Management Chicago Rivet   Machine Co Dec      Lease Rent Real Estate  \n",
       "10                                          Ground Transportation Travel and Entertainment Miscellaneous Company Car  Field Only  Miscellaneous Company Car  Field Only      May Fortune National Corp  \n",
       "11                                                                                                                  Base Rent Store Management Bio Rad Laboratories Inc Jul     Lease Rent Real Estate  \n",
       "12                                                                                                                     Real Estate Lease Rent Base Rent Allegheny Energy Inc Oct      Store Management  \n",
       "13                                                                     First Options Of Chicago  Inc       Jan  SMAP Events and Promotions Trade Show Expenses Talent  Artists   Models for Trade Show  \n",
       "14                                                                     Chesapeake Shores Beach   Country Club I     May Store Construction General Contractor General Requirements Final Site Clean Up  \n",
       "15                                                      Travel and Entertainment Miscellaneous Company Car  Field Only  Ground Transportation Miscellaneous Company Car  Field Only  Sep     Akorn Inc  \n",
       "16                                                                                     Final Site Clean Up     Nov Store Construction Banner Life Insurance Co General Contractor General Requirements  \n",
       "17                                               Miscellaneous Company Car  Field Only  Oct     Travel and Entertainment Barnes Group Inc Ground Transportation Miscellaneous Company Car  Field Only   \n",
       "18                                                                               SMAP Artworking Typesetting Electro Catheter Corp Production Prototype and Comp Production Packaging Design      Oct   \n",
       "19                                          Ground Transportation Miscellaneous Company Car  Field Only  Miscellaneous Company Car  Field Only  Allis Chalmers Corp      Mar  Travel and Entertainment  \n",
       "20                                                                                                                        SMAP Digital Display Production Digital Social Nov     Beverly Hills Bancorp  \n",
       "21                                                                            Flightsafety International Inc Final Site Clean Up     Dec General Requirements General Contractor Facility Construction  \n",
       "22                                                                                             Nov  First Real Estate Investment Trust Of New Jersey Base Rent Lease Rent Store Management Real Estate  \n",
       "23                                                           Information Technology IT Managed Services Atwood Oceanics Inc Qualified Stock Option Plans Managed Services IT Managed Services Aug       \n",
       "24                                               Fort Howard Corp Oct     Travel and Entertainment Ground Transportation Miscellaneous Company Car  Field Only  Miscellaneous Company Car  Field Only   \n",
       "25                                                                                                                   Base Rent Store Management Aig Equity Sales Corp  Feb      Lease Rent Real Estate  \n",
       "26                                                                     Daly John J Auto Fleet Repair and Maintenance Mar      Auto Leasing and Maintenance Other Corporate Services Corporate Services  \n",
       "27                                                                                      Jul      Corning Inc  Ny Auto Leasing Auto Leasing and Maintenance Corporate Services Other Corporate Services  \n",
       "28                                             Travel and Entertainment Miscellaneous Company Car  Field Only  Alco Standard Corp Ground Transportation Miscellaneous Company Car  Field Only      Oct  \n",
       "29        Miscellaneous Company Car  Field Only  Mar      Travel and Entertainment Cooper Laboratories Inc Stockholders Liquidating Trust Ground Transportation Miscellaneous Company Car  Field Only   \n",
       "...                                                                                                                                                                                                ...  \n",
       "7982                                 Ground Transportation Travel and Entertainment Miscellaneous Company Car  Field Only  Miscellaneous Company Car  Field Only  May      Brother Industries Ltd Adr   \n",
       "7983                                                                                                    Fidelity Distributors Corporation Jul     SMAP Printed Collateral Direct Mail Post Card Mailer  \n",
       "7984                                                                                            Non Procurable Charity Organizations Frigikar Corp Charity Organizations Charity Organizations     May  \n",
       "7985                                                                   Other Corporate Services Corporate Services Auto Leasing and Maintenance Auto Fleet Repair and Maintenance May      Daly John J  \n",
       "7986                                                                            Auto Leasing Corporate Services Butler Manufacturing Co Jan      Auto Leasing and Maintenance Other Corporate Services  \n",
       "7987                                           Alco Standard Corp Miscellaneous Company Car  Field Only      Nov Miscellaneous Company Car  Field Only  Ground Transportation Travel and Entertainment  \n",
       "7988                                                                                                             El Paso Natural Gas Co Post Card Mailer      Jan  Direct Mail Printed Collateral SMAP  \n",
       "7989                                                                                    Corporate Services Auto Leasing and Maintenance Corning Inc  Ny Other Corporate Services Auto Leasing May       \n",
       "7990                                          Travel and Entertainment Miscellaneous Company Car  Field Only  Alco Standard Corp Ground Transportation Miscellaneous Company Car  Field Only  Apr       \n",
       "7991                                                                       Prototype and Comp Production Packaging Design     Mar SMAP Froley Revy Investment Co Inc Production Artworking Typesetting  \n",
       "7992                                   Travel and Entertainment Miscellaneous Company Car  Field Only  Ground Transportation Miscellaneous Company Car  Field Only  May      Texas New Mexico Power Co  \n",
       "7993                                                                                                                    Lease Rent Real Estate Aug      Ddl Electronics Inc Store Management Base Rent  \n",
       "7994                                                                                                                                Store Management Base Rent Real Estate Lease Rent     Apr Cmi Corp  \n",
       "7995                                                 Travel and Entertainment Miscellaneous Company Car  Field Only  Chyron Corp Ground Transportation Miscellaneous Company Car  Field Only  Oct       \n",
       "7996                                                                                     Auto Leasing and Maintenance Other Corporate Services Mar     Corning Inc  Ny Corporate Services Auto Leasing  \n",
       "7997                                           Travel and Entertainment Miscellaneous Company Car  Field Only  Alco Standard Corp Ground Transportation Miscellaneous Company Car  Field Only  Jul      \n",
       "7998                                                                                                                    Other Agency SMAP Ceradyne Inc Jul      Agency Fees   Commissions   Production  \n",
       "7999                                  Travel and Entertainment Miscellaneous Company Car  Field Only  Ground Transportation Miscellaneous Company Car  Field Only       Dec  Texas New Mexico Power Co  \n",
       "8000                                                                                                                   Real Estate Lease Rent Base Rent Dibrell Brothers Inc Oct      Store Management  \n",
       "8001  Fox Pitt Kelton Inc                                      Bd Miscellaneous Company Car  Field Only  Dec     Miscellaneous Company Car  Field Only  Ground Transportation Travel and Entertainment  \n",
       "8002                                                                                    Final Site Clean Up Nov      Store Construction Capital Southwest Corp General Contractor General Requirements  \n",
       "8003                                  Miscellaneous Company Car  Field Only  Travel and Entertainment Brother Industries Ltd Adr  Jun     Miscellaneous Company Car  Field Only  Ground Transportation  \n",
       "8004                                            Ground Transportation Miscellaneous Company Car  Field Only  Miscellaneous Company Car  Field Only  Fort Howard Corp Jun      Travel and Entertainment  \n",
       "8005                                                                           Corporate Services Auto Leasing Other Corporate Services Auto Leasing and Maintenance      May  Butler Manufacturing Co  \n",
       "8006                                   Travel and Entertainment Miscellaneous Company Car  Field Only  Texas New Mexico Power Co Ground Transportation Miscellaneous Company Car  Field Only  Apr       \n",
       "8007                                                                               General Contractor General Requirements Final Site Clean Up Exeter   Hampton Electric Co     Oct Store Construction  \n",
       "8008                                                Ground Transportation Miscellaneous Company Car  Field Only  Miscellaneous Company Car  Field Only  Akzo Nobel Nv Sep     Travel and Entertainment  \n",
       "8009                                                                                   Auto Leasing Corporate Services Corning Inc  Ny      Dec  Auto Leasing and Maintenance Other Corporate Services  \n",
       "8010                                         Artworking Typesetting Production     Mar Aquila Distributors Inc                                  Bd SMAP Prototype and Comp Production Packaging Design  \n",
       "8011                                                                                                     Jul Dr Pepper Co Public Relations Agency Agency Fees   Commissions SMAP Events and Promotions  \n",
       "\n",
       "[8012 rows x 7 columns]"
      ]
     },
     "execution_count": 40,
     "metadata": {},
     "output_type": "execute_result"
    }
   ],
   "source": [
    "combi"
   ]
  },
  {
   "cell_type": "code",
   "execution_count": 42,
   "metadata": {},
   "outputs": [],
   "source": [
    "# combi[combi['Product_Category']== 'CLASS-1805']"
   ]
  },
  {
   "cell_type": "code",
   "execution_count": 43,
   "metadata": {},
   "outputs": [],
   "source": [
    "STOPWORDS = set(stopwords.words('english'))\n",
    "def clean_text(text):\n",
    "    text = text.lower() # lowercase text\n",
    "    text = ' '.join(word for word in text.split() if word not in STOPWORDS) # delete stopwors from text\n",
    "    return text"
   ]
  },
  {
   "cell_type": "code",
   "execution_count": 74,
   "metadata": {},
   "outputs": [],
   "source": [
    "combi['tidy_Item_Description'] = combi['tidy_Item_Description'].apply(clean_text)\n",
    "combi['tidy_Item_Description'] = combi['tidy_Item_Description'].apply(lambda x: ' '.join([w for w in x.split() if len(w)>2]))"
   ]
  },
  {
   "cell_type": "code",
   "execution_count": 75,
   "metadata": {},
   "outputs": [],
   "source": [
    "combi['GL_Code'] = combi['GL_Code'].str.replace(\"[^0-9]\",\"\")\n",
    "combi['Vendor_Code'] = combi['Vendor_Code'].str.replace(\"[^0-9]\",\"\")\n",
    "combi['Inv_Amt'] = combi['Inv_Amt'].astype(str)"
   ]
  },
  {
   "cell_type": "code",
   "execution_count": 76,
   "metadata": {},
   "outputs": [],
   "source": [
    "combi['predictor_text'] = combi['GL_Code']+\" \"+combi['Vendor_Code']+\" \"+combi['Inv_Amt']+\" \"+combi['tidy_Item_Description']"
   ]
  },
  {
   "cell_type": "code",
   "execution_count": 77,
   "metadata": {
    "scrolled": true
   },
   "outputs": [
    {
     "data": {
      "text/html": [
       "<div>\n",
       "<style scoped>\n",
       "    .dataframe tbody tr th:only-of-type {\n",
       "        vertical-align: middle;\n",
       "    }\n",
       "\n",
       "    .dataframe tbody tr th {\n",
       "        vertical-align: top;\n",
       "    }\n",
       "\n",
       "    .dataframe thead th {\n",
       "        text-align: right;\n",
       "    }\n",
       "</style>\n",
       "<table border=\"1\" class=\"dataframe\">\n",
       "  <thead>\n",
       "    <tr style=\"text-align: right;\">\n",
       "      <th></th>\n",
       "      <th>GL_Code</th>\n",
       "      <th>Inv_Amt</th>\n",
       "      <th>Inv_Id</th>\n",
       "      <th>Item_Description</th>\n",
       "      <th>Product_Category</th>\n",
       "      <th>Vendor_Code</th>\n",
       "      <th>tidy_Item_Description</th>\n",
       "      <th>predictor_text</th>\n",
       "    </tr>\n",
       "  </thead>\n",
       "  <tbody>\n",
       "    <tr>\n",
       "      <th>0</th>\n",
       "      <td>6100410</td>\n",
       "      <td>83.24</td>\n",
       "      <td>15001</td>\n",
       "      <td>Artworking/Typesetting Production Jun 2009 Champion Parts Inc SMAP Prototype and Comp Production/Packaging Design</td>\n",
       "      <td>CLASS-1963</td>\n",
       "      <td>1676</td>\n",
       "      <td>artworking typesetting production jun champion parts inc smap prototype comp production packaging design</td>\n",
       "      <td>6100410 1676 83.24 artworking typesetting production jun champion parts inc smap prototype comp production packaging design</td>\n",
       "    </tr>\n",
       "    <tr>\n",
       "      <th>1</th>\n",
       "      <td>2182000</td>\n",
       "      <td>51.18</td>\n",
       "      <td>15002</td>\n",
       "      <td>Auto Leasing Corporate Services Corning Inc /Ny 2013-Mar  Auto Leasing and Maintenance Other Corporate Services</td>\n",
       "      <td>CLASS-1250</td>\n",
       "      <td>1883</td>\n",
       "      <td>auto leasing corporate services corning inc mar auto leasing maintenance corporate services</td>\n",
       "      <td>2182000 1883 51.18 auto leasing corporate services corning inc mar auto leasing maintenance corporate services</td>\n",
       "    </tr>\n",
       "    <tr>\n",
       "      <th>2</th>\n",
       "      <td>6050100</td>\n",
       "      <td>79.02</td>\n",
       "      <td>15004</td>\n",
       "      <td>Store Management Lease/Rent Deltona Corp Real Estate Base Rent Jul2018</td>\n",
       "      <td>CLASS-1274</td>\n",
       "      <td>1999</td>\n",
       "      <td>store management lease rent deltona corp real estate base rent jul</td>\n",
       "      <td>6050100 1999 79.02 store management lease rent deltona corp real estate base rent jul</td>\n",
       "    </tr>\n",
       "    <tr>\n",
       "      <th>3</th>\n",
       "      <td>6101400</td>\n",
       "      <td>48.5</td>\n",
       "      <td>15005</td>\n",
       "      <td>Store Construction General Requirements Colonial Trust Iii General Contractor Final Site Clean Up 2005-Dec</td>\n",
       "      <td>CLASS-1522</td>\n",
       "      <td>1771</td>\n",
       "      <td>store construction general requirements colonial trust iii general contractor final site clean dec</td>\n",
       "      <td>6101400 1771 48.5 store construction general requirements colonial trust iii general contractor final site clean dec</td>\n",
       "    </tr>\n",
       "    <tr>\n",
       "      <th>4</th>\n",
       "      <td>2182000</td>\n",
       "      <td>63.35</td>\n",
       "      <td>15006</td>\n",
       "      <td>Jul 2015 Aydin Corp Contingent Labor/Temp Labor Contingent Labor/Temp Labor Corporate Services Human Resources</td>\n",
       "      <td>CLASS-1376</td>\n",
       "      <td>1331</td>\n",
       "      <td>jul aydin corp contingent labor temp labor contingent labor temp labor corporate services human resources</td>\n",
       "      <td>2182000 1331 63.35 jul aydin corp contingent labor temp labor contingent labor temp labor corporate services human resources</td>\n",
       "    </tr>\n",
       "  </tbody>\n",
       "</table>\n",
       "</div>"
      ],
      "text/plain": [
       "   GL_Code Inv_Amt  Inv_Id  \\\n",
       "0  6100410   83.24   15001   \n",
       "1  2182000   51.18   15002   \n",
       "2  6050100   79.02   15004   \n",
       "3  6101400    48.5   15005   \n",
       "4  2182000   63.35   15006   \n",
       "\n",
       "                                                                                                    Item_Description  \\\n",
       "0  Artworking/Typesetting Production Jun 2009 Champion Parts Inc SMAP Prototype and Comp Production/Packaging Design   \n",
       "1    Auto Leasing Corporate Services Corning Inc /Ny 2013-Mar  Auto Leasing and Maintenance Other Corporate Services   \n",
       "2                                             Store Management Lease/Rent Deltona Corp Real Estate Base Rent Jul2018   \n",
       "3        Store Construction General Requirements Colonial Trust Iii General Contractor Final Site Clean Up 2005-Dec    \n",
       "4     Jul 2015 Aydin Corp Contingent Labor/Temp Labor Contingent Labor/Temp Labor Corporate Services Human Resources   \n",
       "\n",
       "  Product_Category Vendor_Code  \\\n",
       "0       CLASS-1963        1676   \n",
       "1       CLASS-1250        1883   \n",
       "2       CLASS-1274        1999   \n",
       "3       CLASS-1522        1771   \n",
       "4       CLASS-1376        1331   \n",
       "\n",
       "                                                                                       tidy_Item_Description  \\\n",
       "0   artworking typesetting production jun champion parts inc smap prototype comp production packaging design   \n",
       "1                auto leasing corporate services corning inc mar auto leasing maintenance corporate services   \n",
       "2                                         store management lease rent deltona corp real estate base rent jul   \n",
       "3         store construction general requirements colonial trust iii general contractor final site clean dec   \n",
       "4  jul aydin corp contingent labor temp labor contingent labor temp labor corporate services human resources   \n",
       "\n",
       "                                                                                                                 predictor_text  \n",
       "0   6100410 1676 83.24 artworking typesetting production jun champion parts inc smap prototype comp production packaging design  \n",
       "1                2182000 1883 51.18 auto leasing corporate services corning inc mar auto leasing maintenance corporate services  \n",
       "2                                         6050100 1999 79.02 store management lease rent deltona corp real estate base rent jul  \n",
       "3          6101400 1771 48.5 store construction general requirements colonial trust iii general contractor final site clean dec  \n",
       "4  2182000 1331 63.35 jul aydin corp contingent labor temp labor contingent labor temp labor corporate services human resources  "
      ]
     },
     "execution_count": 77,
     "metadata": {},
     "output_type": "execute_result"
    }
   ],
   "source": [
    "combi.head()"
   ]
  },
  {
   "cell_type": "code",
   "execution_count": 78,
   "metadata": {},
   "outputs": [
    {
     "data": {
      "text/plain": [
       "133545"
      ]
     },
     "execution_count": 78,
     "metadata": {},
     "output_type": "execute_result"
    }
   ],
   "source": [
    "combi['predictor_text'].apply(lambda x: len(x.split(' '))).sum()"
   ]
  },
  {
   "cell_type": "code",
   "execution_count": 79,
   "metadata": {},
   "outputs": [],
   "source": [
    "combi.columns = combi.columns.str.strip()"
   ]
  },
  {
   "cell_type": "markdown",
   "metadata": {},
   "source": [
    "# Feature Engineering"
   ]
  },
  {
   "cell_type": "markdown",
   "metadata": {},
   "source": [
    "## Bag of Words Feature:"
   ]
  },
  {
   "cell_type": "code",
   "execution_count": 80,
   "metadata": {},
   "outputs": [
    {
     "data": {
      "text/plain": [
       "(8012, 3437)"
      ]
     },
     "execution_count": 80,
     "metadata": {},
     "output_type": "execute_result"
    }
   ],
   "source": [
    "bow_vectorizer = CountVectorizer()\n",
    "bow=bow_vectorizer.fit_transform(combi['predictor_text'])\n",
    "bow.shape"
   ]
  },
  {
   "cell_type": "markdown",
   "metadata": {},
   "source": [
    "## TF-IDF Feature:"
   ]
  },
  {
   "cell_type": "code",
   "execution_count": 81,
   "metadata": {},
   "outputs": [
    {
     "data": {
      "text/plain": [
       "(8012, 3437)"
      ]
     },
     "execution_count": 81,
     "metadata": {},
     "output_type": "execute_result"
    }
   ],
   "source": [
    "tfidf_vectorizer = TfidfVectorizer()\n",
    "tfidf = tfidf_vectorizer.fit_transform(combi['predictor_text'])\n",
    "tfidf.shape"
   ]
  },
  {
   "cell_type": "markdown",
   "metadata": {},
   "source": [
    "# Word2Vec Feature:"
   ]
  },
  {
   "cell_type": "code",
   "execution_count": 272,
   "metadata": {},
   "outputs": [
    {
     "name": "stdout",
     "output_type": "stream",
     "text": [
      "Wall time: 59.4 s\n"
     ]
    }
   ],
   "source": [
    "%%time\n",
    "tokenized_text = combi['predictor_text'].apply(lambda x: x.split()) #tokenizing\n",
    "model_w2v = gensim.models.Word2Vec(\n",
    "            tokenized_text,\n",
    "            size=400, # desired no. of features/independent variables\n",
    "            window=5, # context window size\n",
    "            min_count=1,\n",
    "            sg = 1, # 1 for skip-gram model\n",
    "            hs = 0,\n",
    "            negative = 10, # for negative sampling\n",
    "            workers = 8, # no. of cores\n",
    "            seed = 32)\n",
    "\n",
    "model_w2v.train(tokenized_text, total_examples= len(combi['predictor_text']), epochs = 100)"
   ]
  },
  {
   "cell_type": "code",
   "execution_count": 284,
   "metadata": {},
   "outputs": [
    {
     "data": {
      "text/plain": [
       "[('typesetting', 0.7681471109390259),\n",
       " ('48.89', 0.6752206087112427),\n",
       " ('1971', 0.6751769781112671),\n",
       " ('51.21', 0.6701453924179077),\n",
       " ('70.2', 0.6682206392288208),\n",
       " ('26.67', 0.6644734144210815),\n",
       " ('90.24', 0.6633161306381226),\n",
       " ('13.39', 0.6594852209091187),\n",
       " ('cummins', 0.6581088304519653),\n",
       " ('25.1', 0.657589852809906)]"
      ]
     },
     "execution_count": 284,
     "metadata": {},
     "output_type": "execute_result"
    }
   ],
   "source": [
    "model_w2v.wv.most_similar(positive='artworking')"
   ]
  },
  {
   "cell_type": "code",
   "execution_count": 274,
   "metadata": {},
   "outputs": [
    {
     "data": {
      "text/plain": [
       "400"
      ]
     },
     "execution_count": 274,
     "metadata": {},
     "output_type": "execute_result"
    }
   ],
   "source": [
    "len(model_w2v['artworking'])"
   ]
  },
  {
   "cell_type": "code",
   "execution_count": 275,
   "metadata": {},
   "outputs": [],
   "source": [
    "def word_vector(tokens, size):\n",
    "    vec = np.zeros(size).reshape((1,size))\n",
    "    count = 0.\n",
    "    for word in tokens:\n",
    "        try:\n",
    "            vec +=model_w2v[word].reshape((1,size))\n",
    "            count +=1.\n",
    "        except KeyError: # handling the case where the token is not in vocabulary \n",
    "                        continue\n",
    "    if count !=0:\n",
    "        vec /=count\n",
    "    return vec"
   ]
  },
  {
   "cell_type": "code",
   "execution_count": 276,
   "metadata": {},
   "outputs": [
    {
     "data": {
      "text/plain": [
       "(8012, 400)"
      ]
     },
     "execution_count": 276,
     "metadata": {},
     "output_type": "execute_result"
    }
   ],
   "source": [
    "wordvec_arrays = np.zeros((len(tokenized_text), 400))\n",
    "for i in range (len(tokenized_text)):\n",
    "    wordvec_arrays[i,:] = word_vector(tokenized_text[i], 400)\n",
    "    wordvec_df = pd.DataFrame(wordvec_arrays)\n",
    "wordvec_df.shape"
   ]
  },
  {
   "cell_type": "markdown",
   "metadata": {},
   "source": [
    "## Doc2Vec Feature:"
   ]
  },
  {
   "cell_type": "code",
   "execution_count": 261,
   "metadata": {},
   "outputs": [],
   "source": [
    "from tqdm import tqdm\n",
    "tqdm.pandas(desc = 'progress-bar')\n",
    "from gensim.models.doc2vec import LabeledSentence"
   ]
  },
  {
   "cell_type": "code",
   "execution_count": 262,
   "metadata": {},
   "outputs": [],
   "source": [
    "def add_label(rvw):\n",
    "    output = []\n",
    "    for i, s in zip(rvw.index, rvw):\n",
    "        output.append(LabeledSentence(s, ['reviews_' + str(i)]))\n",
    "    return output\n",
    "labeled_text = add_label(tokenized_text)"
   ]
  },
  {
   "cell_type": "code",
   "execution_count": 263,
   "metadata": {},
   "outputs": [
    {
     "data": {
      "text/plain": [
       "[LabeledSentence(words=['6100410', '1676', '83.24', 'artworking', 'typesetting', 'production', 'jun', 'champion', 'parts', 'inc', 'smap', 'prototype', 'comp', 'production', 'packaging', 'design'], tags=['reviews_0']),\n",
       " LabeledSentence(words=['2182000', '1883', '51.18', 'auto', 'leasing', 'corporate', 'services', 'corning', 'inc', 'mar', 'auto', 'leasing', 'maintenance', 'corporate', 'services'], tags=['reviews_1']),\n",
       " LabeledSentence(words=['6050100', '1999', '79.02', 'store', 'management', 'lease', 'rent', 'deltona', 'corp', 'real', 'estate', 'base', 'rent', 'jul'], tags=['reviews_2']),\n",
       " LabeledSentence(words=['6101400', '1771', '48.5', 'store', 'construction', 'general', 'requirements', 'colonial', 'trust', 'iii', 'general', 'contractor', 'final', 'site', 'clean', 'dec'], tags=['reviews_3']),\n",
       " LabeledSentence(words=['2182000', '1331', '63.35', 'jul', 'aydin', 'corp', 'contingent', 'labor', 'temp', 'labor', 'contingent', 'labor', 'temp', 'labor', 'corporate', 'services', 'human', 'resources'], tags=['reviews_4'])]"
      ]
     },
     "execution_count": 263,
     "metadata": {},
     "output_type": "execute_result"
    }
   ],
   "source": [
    "labeled_text[:5]"
   ]
  },
  {
   "cell_type": "code",
   "execution_count": 105,
   "metadata": {},
   "outputs": [
    {
     "name": "stderr",
     "output_type": "stream",
     "text": [
      "C:\\Users\\Krishna.Priya\\anaconda3\\lib\\site-packages\\gensim\\models\\doc2vec.py:366: UserWarning: The parameter `size` is deprecated, will be removed in 4.0.0, use `vector_size` instead.\n",
      "  warnings.warn(\"The parameter `size` is deprecated, will be removed in 4.0.0, use `vector_size` instead.\")\n",
      "100%|█████████████████████████████████████████████████████████████████████████| 8012/8012 [00:00<00:00, 3959557.40it/s]\n"
     ]
    },
    {
     "name": "stdout",
     "output_type": "stream",
     "text": [
      "Wall time: 38.3 s\n"
     ]
    }
   ],
   "source": [
    "%%time\n",
    "model_d2v = gensim.models.Doc2Vec(dm = 1, # for 'distributed memory' model\n",
    "                                 dm_mean=1, # for using mean of the context word vectors\n",
    "                                 size=200, # no. of desired features\n",
    "                                 window=5, # width of the context window\n",
    "                                 negative=7, # if > 0 then negative sampling will be used\n",
    "                                 min_count=5, # ignores all words with total frequency less than 2\n",
    "                                 workers=8, # no. of cores\n",
    "                                 alpha=0.03, #learning rate\n",
    "                                 seed = 23)\n",
    "\n",
    "model_d2v.build_vocab([i for i in tqdm(labeled_text)])\n",
    "\n",
    "model_d2v.train(labeled_text, total_examples= len(combi['predictor_text']), epochs=100)"
   ]
  },
  {
   "cell_type": "code",
   "execution_count": 106,
   "metadata": {},
   "outputs": [
    {
     "data": {
      "text/plain": [
       "(8012, 200)"
      ]
     },
     "execution_count": 106,
     "metadata": {},
     "output_type": "execute_result"
    }
   ],
   "source": [
    "docvec_arrays = np.zeros((len(tokenized_text), 200)) \n",
    "for i in range(len(combi)):\n",
    "    docvec_arrays[i,:] = model_d2v.docvecs[i].reshape((1,200))    \n",
    "\n",
    "docvec_df = pd.DataFrame(docvec_arrays) \n",
    "docvec_df.shape"
   ]
  },
  {
   "cell_type": "code",
   "execution_count": 123,
   "metadata": {
    "scrolled": true
   },
   "outputs": [
    {
     "data": {
      "text/plain": [
       "CLASS-1758    1498\n",
       "CLASS-1274     986\n",
       "CLASS-1522     851\n",
       "CLASS-1250     451\n",
       "CLASS-1376     365\n",
       "CLASS-1963     230\n",
       "CLASS-1249     176\n",
       "CLASS-1828     113\n",
       "CLASS-2141     108\n",
       "CLASS-1721     107\n",
       "CLASS-1567      84\n",
       "CLASS-1919      70\n",
       "CLASS-1850      60\n",
       "CLASS-2112      53\n",
       "CLASS-1477      50\n",
       "CLASS-1870      36\n",
       "CLASS-2241      36\n",
       "CLASS-1309      32\n",
       "CLASS-2003      32\n",
       "CLASS-1429      32\n",
       "CLASS-1964      28\n",
       "CLASS-1322      28\n",
       "CLASS-1294      25\n",
       "CLASS-1770      19\n",
       "CLASS-1983      17\n",
       "CLASS-1867      15\n",
       "CLASS-1652      15\n",
       "CLASS-2038      13\n",
       "CLASS-1805      12\n",
       "CLASS-2152       9\n",
       "CLASS-1248       5\n",
       "CLASS-1688       4\n",
       "CLASS-2146       2\n",
       "CLASS-2015       2\n",
       "CLASS-1838       1\n",
       "CLASS-1957       1\n",
       "Name: Product_Category, dtype: int64"
      ]
     },
     "execution_count": 123,
     "metadata": {},
     "output_type": "execute_result"
    }
   ],
   "source": [
    "train['Product_Category'].value_counts()"
   ]
  },
  {
   "cell_type": "markdown",
   "metadata": {},
   "source": [
    "# # Naive Bayes Classifier for Multinomial Models"
   ]
  },
  {
   "cell_type": "code",
   "execution_count": 207,
   "metadata": {
    "scrolled": true
   },
   "outputs": [],
   "source": [
    "# b=set(train['Product_Category'])\n",
    "# my_categories = list(b)\n",
    "# # my_categories.remove('CLASS-2146') \n",
    "# my_categories.remove('CLASS-2015') \n",
    "# my_categories.remove('CLASS-1838') \n",
    "# my_categories.remove('CLASS-1957')\n",
    "# target_names=my_categories"
   ]
  },
  {
   "cell_type": "code",
   "execution_count": 211,
   "metadata": {
    "scrolled": true
   },
   "outputs": [
    {
     "name": "stdout",
     "output_type": "stream",
     "text": [
      "accuracy 0.9806034482758621\n"
     ]
    },
    {
     "name": "stderr",
     "output_type": "stream",
     "text": [
      "C:\\Users\\Krishna.Priya\\anaconda3\\lib\\site-packages\\sklearn\\metrics\\classification.py:1143: UndefinedMetricWarning: Precision and F-score are ill-defined and being set to 0.0 in labels with no predicted samples.\n",
      "  'precision', 'predicted', average, warn_for)\n",
      "C:\\Users\\Krishna.Priya\\anaconda3\\lib\\site-packages\\sklearn\\metrics\\classification.py:1143: UndefinedMetricWarning: Precision and F-score are ill-defined and being set to 0.0 in labels with no predicted samples.\n",
      "  'precision', 'predicted', average, warn_for)\n",
      "C:\\Users\\Krishna.Priya\\anaconda3\\lib\\site-packages\\sklearn\\metrics\\classification.py:1143: UndefinedMetricWarning: Precision and F-score are ill-defined and being set to 0.0 in labels with no predicted samples.\n",
      "  'precision', 'predicted', average, warn_for)\n"
     ]
    },
    {
     "name": "stdout",
     "output_type": "stream",
     "text": [
      "              precision    recall  f1-score   support\n",
      "\n",
      "  CLASS-1248       1.00      1.00      1.00         1\n",
      "  CLASS-1249       1.00      1.00      1.00        42\n",
      "  CLASS-1250       0.99      1.00      1.00       113\n",
      "  CLASS-1274       0.99      1.00      0.99       234\n",
      "  CLASS-1294       1.00      1.00      1.00         5\n",
      "  CLASS-1309       0.00      0.00      0.00        12\n",
      "  CLASS-1322       1.00      1.00      1.00        10\n",
      "  CLASS-1376       0.99      1.00      1.00       108\n",
      "  CLASS-1429       1.00      0.90      0.95        10\n",
      "  CLASS-1477       1.00      1.00      1.00        16\n",
      "  CLASS-1522       1.00      1.00      1.00       201\n",
      "  CLASS-1567       1.00      1.00      1.00        15\n",
      "  CLASS-1652       1.00      1.00      1.00         3\n",
      "  CLASS-1688       0.00      0.00      0.00         1\n",
      "  CLASS-1721       0.65      1.00      0.79        32\n",
      "  CLASS-1758       1.00      1.00      1.00       381\n",
      "  CLASS-1770       1.00      1.00      1.00         5\n",
      "  CLASS-1805       0.00      0.00      0.00         2\n",
      "  CLASS-1828       0.85      1.00      0.92        29\n",
      "  CLASS-1838       0.00      0.00      0.00         1\n",
      "  CLASS-1850       1.00      0.83      0.91        12\n",
      "  CLASS-1867       1.00      1.00      1.00         6\n",
      "  CLASS-1870       1.00      1.00      1.00         7\n",
      "  CLASS-1919       1.00      1.00      1.00        20\n",
      "  CLASS-1963       1.00      1.00      1.00        56\n",
      "  CLASS-1964       1.00      1.00      1.00        10\n",
      "  CLASS-1983       1.00      0.25      0.40         4\n",
      "  CLASS-2003       1.00      1.00      1.00         3\n",
      "  CLASS-2038       0.00      0.00      0.00         4\n",
      "  CLASS-2112       1.00      1.00      1.00        10\n",
      "  CLASS-2141       1.00      1.00      1.00        28\n",
      "  CLASS-2152       0.00      0.00      0.00         1\n",
      "  CLASS-2241       1.00      1.00      1.00        10\n",
      "\n",
      "   micro avg       0.98      0.98      0.98      1392\n",
      "   macro avg       0.80      0.79      0.79      1392\n",
      "weighted avg       0.97      0.98      0.97      1392\n",
      "\n"
     ]
    }
   ],
   "source": [
    "from sklearn.naive_bayes import MultinomialNB\n",
    "from sklearn.model_selection import train_test_split\n",
    "from sklearn.metrics import f1_score\n",
    "from sklearn.metrics import classification_report\n",
    "\n",
    "train_bow = bow[:5566,:]\n",
    "test_bow = bow[5566:,:]\n",
    "\n",
    "xtrain_bow, xvalid_bow, ytrain, yvalid = train_test_split(train_bow, train['Product_Category'], random_state=42, test_size=0.25)\n",
    "\n",
    "nb = MultinomialNB()\n",
    "nb.fit(xtrain_bow, ytrain)\n",
    "y_pred = nb.predict(xvalid_bow)\n",
    "print('accuracy %s' % accuracy_score(y_pred, yvalid))\n",
    "print(classification_report(yvalid, y_pred))"
   ]
  },
  {
   "cell_type": "code",
   "execution_count": 212,
   "metadata": {
    "scrolled": true
   },
   "outputs": [
    {
     "name": "stdout",
     "output_type": "stream",
     "text": [
      "accuracy 0.9353448275862069\n"
     ]
    },
    {
     "name": "stderr",
     "output_type": "stream",
     "text": [
      "C:\\Users\\Krishna.Priya\\anaconda3\\lib\\site-packages\\sklearn\\metrics\\classification.py:1143: UndefinedMetricWarning: Precision and F-score are ill-defined and being set to 0.0 in labels with no predicted samples.\n",
      "  'precision', 'predicted', average, warn_for)\n",
      "C:\\Users\\Krishna.Priya\\anaconda3\\lib\\site-packages\\sklearn\\metrics\\classification.py:1143: UndefinedMetricWarning: Precision and F-score are ill-defined and being set to 0.0 in labels with no predicted samples.\n",
      "  'precision', 'predicted', average, warn_for)\n",
      "C:\\Users\\Krishna.Priya\\anaconda3\\lib\\site-packages\\sklearn\\metrics\\classification.py:1143: UndefinedMetricWarning: Precision and F-score are ill-defined and being set to 0.0 in labels with no predicted samples.\n",
      "  'precision', 'predicted', average, warn_for)\n"
     ]
    },
    {
     "name": "stdout",
     "output_type": "stream",
     "text": [
      "              precision    recall  f1-score   support\n",
      "\n",
      "  CLASS-1248       0.00      0.00      0.00         1\n",
      "  CLASS-1249       1.00      0.76      0.86        42\n",
      "  CLASS-1250       0.87      1.00      0.93       113\n",
      "  CLASS-1274       0.96      1.00      0.98       234\n",
      "  CLASS-1294       1.00      0.80      0.89         5\n",
      "  CLASS-1309       0.00      0.00      0.00        12\n",
      "  CLASS-1322       1.00      0.70      0.82        10\n",
      "  CLASS-1376       0.99      1.00      1.00       108\n",
      "  CLASS-1429       1.00      0.60      0.75        10\n",
      "  CLASS-1477       0.84      1.00      0.91        16\n",
      "  CLASS-1522       0.94      1.00      0.97       201\n",
      "  CLASS-1567       0.88      1.00      0.94        15\n",
      "  CLASS-1652       0.00      0.00      0.00         3\n",
      "  CLASS-1688       0.00      0.00      0.00         1\n",
      "  CLASS-1721       0.62      1.00      0.76        32\n",
      "  CLASS-1758       0.99      1.00      0.99       381\n",
      "  CLASS-1770       1.00      0.20      0.33         5\n",
      "  CLASS-1805       0.00      0.00      0.00         2\n",
      "  CLASS-1828       0.67      1.00      0.81        29\n",
      "  CLASS-1838       0.00      0.00      0.00         1\n",
      "  CLASS-1850       1.00      0.75      0.86        12\n",
      "  CLASS-1867       0.00      0.00      0.00         6\n",
      "  CLASS-1870       1.00      0.71      0.83         7\n",
      "  CLASS-1919       0.95      1.00      0.98        20\n",
      "  CLASS-1963       0.92      1.00      0.96        56\n",
      "  CLASS-1964       0.00      0.00      0.00        10\n",
      "  CLASS-1983       0.00      0.00      0.00         4\n",
      "  CLASS-2003       1.00      1.00      1.00         3\n",
      "  CLASS-2038       0.00      0.00      0.00         4\n",
      "  CLASS-2112       1.00      0.10      0.18        10\n",
      "  CLASS-2141       1.00      1.00      1.00        28\n",
      "  CLASS-2152       0.00      0.00      0.00         1\n",
      "  CLASS-2241       1.00      0.10      0.18        10\n",
      "\n",
      "   micro avg       0.94      0.94      0.94      1392\n",
      "   macro avg       0.63      0.54      0.54      1392\n",
      "weighted avg       0.92      0.94      0.92      1392\n",
      "\n"
     ]
    }
   ],
   "source": [
    "train_tfidf = tfidf[:5566,:]\n",
    "test_tfidf = tfidf[5566:,:] \n",
    "\n",
    "xtrain_tfidf, xvalid_tfidf, ytrain, yvalid = train_test_split(train_tfidf, train['Product_Category'], random_state=42, test_size=0.25)\n",
    "\n",
    "nb = MultinomialNB()\n",
    "nb.fit(xtrain_tfidf, ytrain)\n",
    "y_pred = nb.predict(xvalid_tfidf)\n",
    "print('accuracy %s' % accuracy_score(y_pred, yvalid))\n",
    "print(classification_report(yvalid, y_pred))"
   ]
  },
  {
   "cell_type": "markdown",
   "metadata": {},
   "source": [
    "### NB + BoW performed best with accuracy 0.9806034482758621"
   ]
  },
  {
   "cell_type": "markdown",
   "metadata": {},
   "source": [
    "# Logistic Regression Classifier for Multinomial Models"
   ]
  },
  {
   "cell_type": "code",
   "execution_count": 213,
   "metadata": {
    "scrolled": true
   },
   "outputs": [
    {
     "name": "stderr",
     "output_type": "stream",
     "text": [
      "C:\\Users\\Krishna.Priya\\anaconda3\\lib\\site-packages\\sklearn\\linear_model\\logistic.py:433: FutureWarning: Default solver will be changed to 'lbfgs' in 0.22. Specify a solver to silence this warning.\n",
      "  FutureWarning)\n",
      "C:\\Users\\Krishna.Priya\\anaconda3\\lib\\site-packages\\sklearn\\linear_model\\logistic.py:460: FutureWarning: Default multi_class will be changed to 'auto' in 0.22. Specify the multi_class option to silence this warning.\n",
      "  \"this warning.\", FutureWarning)\n",
      "C:\\Users\\Krishna.Priya\\anaconda3\\lib\\site-packages\\sklearn\\linear_model\\logistic.py:1300: UserWarning: 'n_jobs' > 1 does not have any effect when 'solver' is set to 'liblinear'. Got 'n_jobs' = 8.\n",
      "  \" = {}.\".format(effective_n_jobs(self.n_jobs)))\n"
     ]
    },
    {
     "name": "stdout",
     "output_type": "stream",
     "text": [
      "accuracy 0.9978448275862069\n"
     ]
    },
    {
     "name": "stderr",
     "output_type": "stream",
     "text": [
      "C:\\Users\\Krishna.Priya\\anaconda3\\lib\\site-packages\\sklearn\\metrics\\classification.py:1143: UndefinedMetricWarning: Precision and F-score are ill-defined and being set to 0.0 in labels with no predicted samples.\n",
      "  'precision', 'predicted', average, warn_for)\n",
      "C:\\Users\\Krishna.Priya\\anaconda3\\lib\\site-packages\\sklearn\\metrics\\classification.py:1143: UndefinedMetricWarning: Precision and F-score are ill-defined and being set to 0.0 in labels with no predicted samples.\n",
      "  'precision', 'predicted', average, warn_for)\n",
      "C:\\Users\\Krishna.Priya\\anaconda3\\lib\\site-packages\\sklearn\\metrics\\classification.py:1143: UndefinedMetricWarning: Precision and F-score are ill-defined and being set to 0.0 in labels with no predicted samples.\n",
      "  'precision', 'predicted', average, warn_for)\n"
     ]
    },
    {
     "name": "stdout",
     "output_type": "stream",
     "text": [
      "              precision    recall  f1-score   support\n",
      "\n",
      "  CLASS-1248       1.00      1.00      1.00         1\n",
      "  CLASS-1249       1.00      1.00      1.00        42\n",
      "  CLASS-1250       1.00      1.00      1.00       113\n",
      "  CLASS-1274       1.00      1.00      1.00       234\n",
      "  CLASS-1294       1.00      1.00      1.00         5\n",
      "  CLASS-1309       1.00      1.00      1.00        12\n",
      "  CLASS-1322       1.00      1.00      1.00        10\n",
      "  CLASS-1376       1.00      1.00      1.00       108\n",
      "  CLASS-1429       1.00      1.00      1.00        10\n",
      "  CLASS-1477       1.00      1.00      1.00        16\n",
      "  CLASS-1522       1.00      1.00      1.00       201\n",
      "  CLASS-1567       0.94      1.00      0.97        15\n",
      "  CLASS-1652       1.00      1.00      1.00         3\n",
      "  CLASS-1688       1.00      1.00      1.00         1\n",
      "  CLASS-1721       1.00      1.00      1.00        32\n",
      "  CLASS-1758       1.00      1.00      1.00       381\n",
      "  CLASS-1770       1.00      1.00      1.00         5\n",
      "  CLASS-1805       1.00      1.00      1.00         2\n",
      "  CLASS-1828       0.94      1.00      0.97        29\n",
      "  CLASS-1838       0.00      0.00      0.00         1\n",
      "  CLASS-1850       1.00      1.00      1.00        12\n",
      "  CLASS-1867       1.00      1.00      1.00         6\n",
      "  CLASS-1870       1.00      1.00      1.00         7\n",
      "  CLASS-1919       1.00      1.00      1.00        20\n",
      "  CLASS-1963       1.00      1.00      1.00        56\n",
      "  CLASS-1964       1.00      1.00      1.00        10\n",
      "  CLASS-1983       1.00      1.00      1.00         4\n",
      "  CLASS-2003       1.00      1.00      1.00         3\n",
      "  CLASS-2038       1.00      0.50      0.67         4\n",
      "  CLASS-2112       1.00      1.00      1.00        10\n",
      "  CLASS-2141       1.00      1.00      1.00        28\n",
      "  CLASS-2152       1.00      1.00      1.00         1\n",
      "  CLASS-2241       1.00      1.00      1.00        10\n",
      "\n",
      "   micro avg       1.00      1.00      1.00      1392\n",
      "   macro avg       0.97      0.95      0.96      1392\n",
      "weighted avg       1.00      1.00      1.00      1392\n",
      "\n"
     ]
    }
   ],
   "source": [
    "from sklearn.linear_model import LogisticRegression\n",
    "train_bow = bow[:5566,:]\n",
    "test_bow = bow[5566:,:]\n",
    "\n",
    "xtrain_bow, xvalid_bow, ytrain, yvalid = train_test_split(train_bow, train['Product_Category'], random_state=42, test_size=0.25)\n",
    "\n",
    "lreg = LogisticRegression(n_jobs=-1,C=1e5)\n",
    "lreg.fit(xtrain_bow, ytrain)\n",
    "y_pred = lreg.predict(xvalid_bow)\n",
    "print('accuracy %s' % accuracy_score(y_pred, yvalid))\n",
    "print(classification_report(yvalid, y_pred))"
   ]
  },
  {
   "cell_type": "code",
   "execution_count": 214,
   "metadata": {
    "scrolled": true
   },
   "outputs": [
    {
     "name": "stderr",
     "output_type": "stream",
     "text": [
      "C:\\Users\\Krishna.Priya\\anaconda3\\lib\\site-packages\\sklearn\\linear_model\\logistic.py:1300: UserWarning: 'n_jobs' > 1 does not have any effect when 'solver' is set to 'liblinear'. Got 'n_jobs' = 8.\n",
      "  \" = {}.\".format(effective_n_jobs(self.n_jobs)))\n"
     ]
    },
    {
     "name": "stdout",
     "output_type": "stream",
     "text": [
      "accuracy 0.9971264367816092\n"
     ]
    },
    {
     "name": "stderr",
     "output_type": "stream",
     "text": [
      "C:\\Users\\Krishna.Priya\\anaconda3\\lib\\site-packages\\sklearn\\metrics\\classification.py:1143: UndefinedMetricWarning: Precision and F-score are ill-defined and being set to 0.0 in labels with no predicted samples.\n",
      "  'precision', 'predicted', average, warn_for)\n",
      "C:\\Users\\Krishna.Priya\\anaconda3\\lib\\site-packages\\sklearn\\metrics\\classification.py:1143: UndefinedMetricWarning: Precision and F-score are ill-defined and being set to 0.0 in labels with no predicted samples.\n",
      "  'precision', 'predicted', average, warn_for)\n",
      "C:\\Users\\Krishna.Priya\\anaconda3\\lib\\site-packages\\sklearn\\metrics\\classification.py:1143: UndefinedMetricWarning: Precision and F-score are ill-defined and being set to 0.0 in labels with no predicted samples.\n",
      "  'precision', 'predicted', average, warn_for)\n"
     ]
    },
    {
     "name": "stdout",
     "output_type": "stream",
     "text": [
      "              precision    recall  f1-score   support\n",
      "\n",
      "  CLASS-1248       1.00      1.00      1.00         1\n",
      "  CLASS-1249       1.00      1.00      1.00        42\n",
      "  CLASS-1250       0.99      1.00      1.00       113\n",
      "  CLASS-1274       1.00      1.00      1.00       234\n",
      "  CLASS-1294       1.00      1.00      1.00         5\n",
      "  CLASS-1309       1.00      1.00      1.00        12\n",
      "  CLASS-1322       1.00      1.00      1.00        10\n",
      "  CLASS-1376       1.00      1.00      1.00       108\n",
      "  CLASS-1429       1.00      1.00      1.00        10\n",
      "  CLASS-1477       1.00      1.00      1.00        16\n",
      "  CLASS-1522       1.00      1.00      1.00       201\n",
      "  CLASS-1567       1.00      1.00      1.00        15\n",
      "  CLASS-1652       1.00      1.00      1.00         3\n",
      "  CLASS-1688       1.00      1.00      1.00         1\n",
      "  CLASS-1721       1.00      1.00      1.00        32\n",
      "  CLASS-1758       1.00      1.00      1.00       381\n",
      "  CLASS-1770       1.00      1.00      1.00         5\n",
      "  CLASS-1805       1.00      1.00      1.00         2\n",
      "  CLASS-1828       0.91      1.00      0.95        29\n",
      "  CLASS-1838       0.00      0.00      0.00         1\n",
      "  CLASS-1850       1.00      1.00      1.00        12\n",
      "  CLASS-1867       1.00      1.00      1.00         6\n",
      "  CLASS-1870       1.00      1.00      1.00         7\n",
      "  CLASS-1919       1.00      1.00      1.00        20\n",
      "  CLASS-1963       1.00      1.00      1.00        56\n",
      "  CLASS-1964       1.00      1.00      1.00        10\n",
      "  CLASS-1983       1.00      1.00      1.00         4\n",
      "  CLASS-2003       1.00      1.00      1.00         3\n",
      "  CLASS-2038       1.00      0.25      0.40         4\n",
      "  CLASS-2112       1.00      1.00      1.00        10\n",
      "  CLASS-2141       1.00      1.00      1.00        28\n",
      "  CLASS-2152       1.00      1.00      1.00         1\n",
      "  CLASS-2241       1.00      1.00      1.00        10\n",
      "\n",
      "   micro avg       1.00      1.00      1.00      1392\n",
      "   macro avg       0.97      0.95      0.95      1392\n",
      "weighted avg       1.00      1.00      1.00      1392\n",
      "\n"
     ]
    }
   ],
   "source": [
    "train_tfidf = tfidf[:5566,:]\n",
    "test_tfidf = tfidf[5566:,:] \n",
    "\n",
    "xtrain_tfidf, xvalid_tfidf, ytrain, yvalid = train_test_split(train_tfidf, train['Product_Category'], random_state=42, test_size=0.25)\n",
    "\n",
    "lreg = LogisticRegression(n_jobs=-1, C=1e5)\n",
    "lreg.fit(xtrain_tfidf, ytrain)\n",
    "y_pred = lreg.predict(xvalid_tfidf)\n",
    "print('accuracy %s' % accuracy_score(y_pred, yvalid))\n",
    "print(classification_report(yvalid, y_pred))"
   ]
  },
  {
   "cell_type": "code",
   "execution_count": 277,
   "metadata": {
    "scrolled": true
   },
   "outputs": [
    {
     "name": "stderr",
     "output_type": "stream",
     "text": [
      "C:\\Users\\Krishna.Priya\\anaconda3\\lib\\site-packages\\sklearn\\linear_model\\logistic.py:433: FutureWarning: Default solver will be changed to 'lbfgs' in 0.22. Specify a solver to silence this warning.\n",
      "  FutureWarning)\n",
      "C:\\Users\\Krishna.Priya\\anaconda3\\lib\\site-packages\\sklearn\\linear_model\\logistic.py:460: FutureWarning: Default multi_class will be changed to 'auto' in 0.22. Specify the multi_class option to silence this warning.\n",
      "  \"this warning.\", FutureWarning)\n",
      "C:\\Users\\Krishna.Priya\\anaconda3\\lib\\site-packages\\sklearn\\linear_model\\logistic.py:1300: UserWarning: 'n_jobs' > 1 does not have any effect when 'solver' is set to 'liblinear'. Got 'n_jobs' = 8.\n",
      "  \" = {}.\".format(effective_n_jobs(self.n_jobs)))\n"
     ]
    },
    {
     "name": "stdout",
     "output_type": "stream",
     "text": [
      "accuracy 0.9985632183908046\n"
     ]
    },
    {
     "name": "stderr",
     "output_type": "stream",
     "text": [
      "C:\\Users\\Krishna.Priya\\anaconda3\\lib\\site-packages\\sklearn\\metrics\\classification.py:1143: UndefinedMetricWarning: Precision and F-score are ill-defined and being set to 0.0 in labels with no predicted samples.\n",
      "  'precision', 'predicted', average, warn_for)\n",
      "C:\\Users\\Krishna.Priya\\anaconda3\\lib\\site-packages\\sklearn\\metrics\\classification.py:1143: UndefinedMetricWarning: Precision and F-score are ill-defined and being set to 0.0 in labels with no predicted samples.\n",
      "  'precision', 'predicted', average, warn_for)\n",
      "C:\\Users\\Krishna.Priya\\anaconda3\\lib\\site-packages\\sklearn\\metrics\\classification.py:1143: UndefinedMetricWarning: Precision and F-score are ill-defined and being set to 0.0 in labels with no predicted samples.\n",
      "  'precision', 'predicted', average, warn_for)\n"
     ]
    },
    {
     "name": "stdout",
     "output_type": "stream",
     "text": [
      "              precision    recall  f1-score   support\n",
      "\n",
      "  CLASS-1248       1.00      1.00      1.00         1\n",
      "  CLASS-1249       1.00      1.00      1.00        42\n",
      "  CLASS-1250       0.99      1.00      1.00       113\n",
      "  CLASS-1274       1.00      1.00      1.00       234\n",
      "  CLASS-1294       1.00      1.00      1.00         5\n",
      "  CLASS-1309       1.00      1.00      1.00        12\n",
      "  CLASS-1322       1.00      1.00      1.00        10\n",
      "  CLASS-1376       1.00      1.00      1.00       108\n",
      "  CLASS-1429       1.00      1.00      1.00        10\n",
      "  CLASS-1477       1.00      1.00      1.00        16\n",
      "  CLASS-1522       1.00      1.00      1.00       201\n",
      "  CLASS-1567       1.00      1.00      1.00        15\n",
      "  CLASS-1652       1.00      1.00      1.00         3\n",
      "  CLASS-1688       1.00      1.00      1.00         1\n",
      "  CLASS-1721       1.00      1.00      1.00        32\n",
      "  CLASS-1758       1.00      1.00      1.00       381\n",
      "  CLASS-1770       1.00      1.00      1.00         5\n",
      "  CLASS-1805       1.00      1.00      1.00         2\n",
      "  CLASS-1828       0.97      1.00      0.98        29\n",
      "  CLASS-1838       0.00      0.00      0.00         1\n",
      "  CLASS-1850       1.00      1.00      1.00        12\n",
      "  CLASS-1867       1.00      1.00      1.00         6\n",
      "  CLASS-1870       1.00      1.00      1.00         7\n",
      "  CLASS-1919       1.00      1.00      1.00        20\n",
      "  CLASS-1963       1.00      1.00      1.00        56\n",
      "  CLASS-1964       1.00      1.00      1.00        10\n",
      "  CLASS-1983       1.00      1.00      1.00         4\n",
      "  CLASS-2003       1.00      1.00      1.00         3\n",
      "  CLASS-2038       1.00      0.75      0.86         4\n",
      "  CLASS-2112       1.00      1.00      1.00        10\n",
      "  CLASS-2141       1.00      1.00      1.00        28\n",
      "  CLASS-2152       1.00      1.00      1.00         1\n",
      "  CLASS-2241       1.00      1.00      1.00        10\n",
      "\n",
      "   micro avg       1.00      1.00      1.00      1392\n",
      "   macro avg       0.97      0.96      0.96      1392\n",
      "weighted avg       1.00      1.00      1.00      1392\n",
      "\n"
     ]
    }
   ],
   "source": [
    "train_w2v = wordvec_df.iloc[:5566,:]\n",
    "test_w2v = wordvec_df.iloc[5566:,:] \n",
    "\n",
    "xtrain_w2v, xvalid_w2v, ytrain, yvalid = train_test_split(train_w2v, train['Product_Category'], random_state=42, test_size=0.25)\n",
    "\n",
    "lreg = LogisticRegression(n_jobs=-1,C=1e5) \n",
    "lreg.fit(xtrain_w2v, ytrain)\n",
    "y_pred = lreg.predict(xvalid_w2v)\n",
    "print('accuracy %s' % accuracy_score(y_pred, yvalid))\n",
    "print(classification_report(yvalid, y_pred))"
   ]
  },
  {
   "cell_type": "code",
   "execution_count": 216,
   "metadata": {
    "scrolled": true
   },
   "outputs": [
    {
     "name": "stderr",
     "output_type": "stream",
     "text": [
      "C:\\Users\\Krishna.Priya\\anaconda3\\lib\\site-packages\\sklearn\\linear_model\\logistic.py:433: FutureWarning: Default solver will be changed to 'lbfgs' in 0.22. Specify a solver to silence this warning.\n",
      "  FutureWarning)\n",
      "C:\\Users\\Krishna.Priya\\anaconda3\\lib\\site-packages\\sklearn\\linear_model\\logistic.py:460: FutureWarning: Default multi_class will be changed to 'auto' in 0.22. Specify the multi_class option to silence this warning.\n",
      "  \"this warning.\", FutureWarning)\n",
      "C:\\Users\\Krishna.Priya\\anaconda3\\lib\\site-packages\\sklearn\\linear_model\\logistic.py:1300: UserWarning: 'n_jobs' > 1 does not have any effect when 'solver' is set to 'liblinear'. Got 'n_jobs' = 8.\n",
      "  \" = {}.\".format(effective_n_jobs(self.n_jobs)))\n"
     ]
    },
    {
     "name": "stdout",
     "output_type": "stream",
     "text": [
      "accuracy 0.8692528735632183\n"
     ]
    },
    {
     "name": "stderr",
     "output_type": "stream",
     "text": [
      "C:\\Users\\Krishna.Priya\\anaconda3\\lib\\site-packages\\sklearn\\metrics\\classification.py:1143: UndefinedMetricWarning: Precision and F-score are ill-defined and being set to 0.0 in labels with no predicted samples.\n",
      "  'precision', 'predicted', average, warn_for)\n",
      "C:\\Users\\Krishna.Priya\\anaconda3\\lib\\site-packages\\sklearn\\metrics\\classification.py:1143: UndefinedMetricWarning: Precision and F-score are ill-defined and being set to 0.0 in labels with no predicted samples.\n",
      "  'precision', 'predicted', average, warn_for)\n",
      "C:\\Users\\Krishna.Priya\\anaconda3\\lib\\site-packages\\sklearn\\metrics\\classification.py:1143: UndefinedMetricWarning: Precision and F-score are ill-defined and being set to 0.0 in labels with no predicted samples.\n",
      "  'precision', 'predicted', average, warn_for)\n"
     ]
    },
    {
     "name": "stdout",
     "output_type": "stream",
     "text": [
      "              precision    recall  f1-score   support\n",
      "\n",
      "  CLASS-1248       0.00      0.00      0.00         1\n",
      "  CLASS-1249       0.79      0.71      0.75        42\n",
      "  CLASS-1250       0.88      0.96      0.92       113\n",
      "  CLASS-1274       0.96      0.96      0.96       234\n",
      "  CLASS-1294       0.60      0.60      0.60         5\n",
      "  CLASS-1309       0.60      0.50      0.55        12\n",
      "  CLASS-1322       0.83      0.50      0.62        10\n",
      "  CLASS-1376       0.89      0.94      0.91       108\n",
      "  CLASS-1429       0.67      0.60      0.63        10\n",
      "  CLASS-1477       0.83      0.94      0.88        16\n",
      "  CLASS-1522       0.92      0.92      0.92       201\n",
      "  CLASS-1567       0.63      0.80      0.71        15\n",
      "  CLASS-1652       1.00      0.67      0.80         3\n",
      "  CLASS-1688       1.00      1.00      1.00         1\n",
      "  CLASS-1721       0.96      0.75      0.84        32\n",
      "  CLASS-1758       0.94      0.96      0.95       381\n",
      "  CLASS-1770       1.00      0.60      0.75         5\n",
      "  CLASS-1805       0.00      0.00      0.00         2\n",
      "  CLASS-1828       0.71      0.69      0.70        29\n",
      "  CLASS-1838       0.00      0.00      0.00         1\n",
      "  CLASS-1850       0.90      0.75      0.82        12\n",
      "  CLASS-1867       1.00      0.50      0.67         6\n",
      "  CLASS-1870       0.71      0.71      0.71         7\n",
      "  CLASS-1919       0.75      0.60      0.67        20\n",
      "  CLASS-1963       0.49      0.64      0.56        56\n",
      "  CLASS-1964       0.75      0.60      0.67        10\n",
      "  CLASS-1983       1.00      1.00      1.00         4\n",
      "  CLASS-2003       0.67      0.67      0.67         3\n",
      "  CLASS-2038       0.80      1.00      0.89         4\n",
      "  CLASS-2112       1.00      0.80      0.89        10\n",
      "  CLASS-2141       0.23      0.18      0.20        28\n",
      "  CLASS-2152       0.00      0.00      0.00         1\n",
      "  CLASS-2241       1.00      0.40      0.57        10\n",
      "\n",
      "   micro avg       0.87      0.87      0.87      1392\n",
      "   macro avg       0.71      0.63      0.66      1392\n",
      "weighted avg       0.87      0.87      0.87      1392\n",
      "\n"
     ]
    }
   ],
   "source": [
    "train_d2v = docvec_df.iloc[:5566,:]\n",
    "test_d2v = docvec_df.iloc[5566:,:]\n",
    "\n",
    "xtrain_d2v, xvalid_d2v, ytrain, yvalid = train_test_split(train_d2v, train['Product_Category'], random_state=42, test_size=0.25)\n",
    "\n",
    "lreg = LogisticRegression(n_jobs=-1,C=1e5) \n",
    "lreg.fit(xtrain_d2v, ytrain)\n",
    "y_pred = lreg.predict(xvalid_d2v)\n",
    "print('accuracy %s' % accuracy_score(y_pred, yvalid))\n",
    "print(classification_report(yvalid, y_pred))"
   ]
  },
  {
   "cell_type": "markdown",
   "metadata": {},
   "source": [
    "#### LR + W2V performed best with accuracy 0.9992816091954023"
   ]
  },
  {
   "cell_type": "markdown",
   "metadata": {},
   "source": [
    "# Support Vector Classifier"
   ]
  },
  {
   "cell_type": "code",
   "execution_count": 158,
   "metadata": {},
   "outputs": [],
   "source": [
    "from sklearn.linear_model import SGDClassifier\n",
    "from sklearn import svm"
   ]
  },
  {
   "cell_type": "code",
   "execution_count": 164,
   "metadata": {
    "scrolled": true
   },
   "outputs": [
    {
     "name": "stdout",
     "output_type": "stream",
     "text": [
      "accuracy 0.9985632183908046\n"
     ]
    },
    {
     "name": "stderr",
     "output_type": "stream",
     "text": [
      "C:\\Users\\Krishna.Priya\\anaconda3\\lib\\site-packages\\sklearn\\metrics\\classification.py:1143: UndefinedMetricWarning: Precision and F-score are ill-defined and being set to 0.0 in labels with no predicted samples.\n",
      "  'precision', 'predicted', average, warn_for)\n",
      "C:\\Users\\Krishna.Priya\\anaconda3\\lib\\site-packages\\sklearn\\metrics\\classification.py:1143: UndefinedMetricWarning: Precision and F-score are ill-defined and being set to 0.0 in labels with no predicted samples.\n",
      "  'precision', 'predicted', average, warn_for)\n",
      "C:\\Users\\Krishna.Priya\\anaconda3\\lib\\site-packages\\sklearn\\metrics\\classification.py:1143: UndefinedMetricWarning: Precision and F-score are ill-defined and being set to 0.0 in labels with no predicted samples.\n",
      "  'precision', 'predicted', average, warn_for)\n"
     ]
    },
    {
     "name": "stdout",
     "output_type": "stream",
     "text": [
      "              precision    recall  f1-score   support\n",
      "\n",
      "  CLASS-1477       1.00      1.00      1.00         1\n",
      "  CLASS-1652       1.00      1.00      1.00        42\n",
      "  CLASS-2003       1.00      1.00      1.00       113\n",
      "  CLASS-2038       1.00      1.00      1.00       234\n",
      "  CLASS-1274       1.00      1.00      1.00         5\n",
      "  CLASS-1919       1.00      1.00      1.00        12\n",
      "  CLASS-1721       1.00      1.00      1.00        10\n",
      "  CLASS-1850       1.00      1.00      1.00       108\n",
      "  CLASS-2141       1.00      1.00      1.00        10\n",
      "  CLASS-1322       1.00      1.00      1.00        16\n",
      "  CLASS-1567       1.00      1.00      1.00       201\n",
      "  CLASS-1688       0.94      1.00      0.97        15\n",
      "  CLASS-1248       1.00      1.00      1.00         3\n",
      "  CLASS-1983       1.00      1.00      1.00         1\n",
      "  CLASS-1828       1.00      1.00      1.00        32\n",
      "  CLASS-1250       1.00      1.00      1.00       381\n",
      "  CLASS-1758       1.00      1.00      1.00         5\n",
      "  CLASS-2112       1.00      1.00      1.00         2\n",
      "  CLASS-1963       0.97      1.00      0.98        29\n",
      "  CLASS-2241       0.00      0.00      0.00         1\n",
      "  CLASS-1249       1.00      1.00      1.00        12\n",
      "  CLASS-1870       1.00      1.00      1.00         6\n",
      "  CLASS-1867       1.00      1.00      1.00         7\n",
      "  CLASS-1309       1.00      1.00      1.00        20\n",
      "  CLASS-1770       1.00      1.00      1.00        56\n",
      "  CLASS-2152       1.00      1.00      1.00        10\n",
      "  CLASS-1964       1.00      1.00      1.00         4\n",
      "  CLASS-1376       1.00      1.00      1.00         3\n",
      "  CLASS-2146       1.00      0.75      0.86         4\n",
      "  CLASS-1522       1.00      1.00      1.00        10\n",
      "  CLASS-1294       1.00      1.00      1.00        28\n",
      "  CLASS-1429       1.00      1.00      1.00         1\n",
      "  CLASS-1805       1.00      1.00      1.00        10\n",
      "\n",
      "   micro avg       1.00      1.00      1.00      1392\n",
      "   macro avg       0.97      0.96      0.96      1392\n",
      "weighted avg       1.00      1.00      1.00      1392\n",
      "\n"
     ]
    }
   ],
   "source": [
    "train_bow = bow[:5566,:]\n",
    "test_bow = bow[5566:,:]\n",
    "\n",
    "xtrain_bow, xvalid_bow, ytrain, yvalid = train_test_split(train_bow, train['Product_Category'], random_state=42, test_size=0.25)\n",
    "\n",
    "svc = svm.SVC(C=1e5)\n",
    "svc.fit(xtrain_bow, ytrain)\n",
    "y_pred = svc.predict(xvalid_bow)\n",
    "print('accuracy %s' % accuracy_score(y_pred, yvalid))\n",
    "print(classification_report(yvalid, y_pred))"
   ]
  },
  {
   "cell_type": "code",
   "execution_count": 178,
   "metadata": {
    "scrolled": true
   },
   "outputs": [],
   "source": [
    "# train_bow = bow[:5566,:]\n",
    "# test_bow = bow[5566:,:]\n",
    "\n",
    "# xtrain_bow, xvalid_bow, ytrain, yvalid = train_test_split(train_bow, train['Product_Category'], random_state=42, test_size=0.25)\n",
    "\n",
    "# sgd = SGDClassifier(loss='hinge', penalty='l2',alpha=1e-3, random_state=42, max_iter=100, tol=None)\n",
    "# sgd.fit(xtrain_bow, ytrain)\n",
    "# y_pred = sgd.predict(xvalid_bow)\n",
    "# print('accuracy %s' % accuracy_score(y_pred, yvalid))\n",
    "# print(classification_report(yvalid, y_pred, target_names=my_categories))"
   ]
  },
  {
   "cell_type": "code",
   "execution_count": 217,
   "metadata": {
    "scrolled": true
   },
   "outputs": [
    {
     "name": "stderr",
     "output_type": "stream",
     "text": [
      "C:\\Users\\Krishna.Priya\\anaconda3\\lib\\site-packages\\sklearn\\svm\\base.py:196: FutureWarning: The default value of gamma will change from 'auto' to 'scale' in version 0.22 to account better for unscaled features. Set gamma explicitly to 'auto' or 'scale' to avoid this warning.\n",
      "  \"avoid this warning.\", FutureWarning)\n"
     ]
    },
    {
     "name": "stdout",
     "output_type": "stream",
     "text": [
      "accuracy 0.9992816091954023\n"
     ]
    },
    {
     "name": "stderr",
     "output_type": "stream",
     "text": [
      "C:\\Users\\Krishna.Priya\\anaconda3\\lib\\site-packages\\sklearn\\metrics\\classification.py:1143: UndefinedMetricWarning: Precision and F-score are ill-defined and being set to 0.0 in labels with no predicted samples.\n",
      "  'precision', 'predicted', average, warn_for)\n",
      "C:\\Users\\Krishna.Priya\\anaconda3\\lib\\site-packages\\sklearn\\metrics\\classification.py:1143: UndefinedMetricWarning: Precision and F-score are ill-defined and being set to 0.0 in labels with no predicted samples.\n",
      "  'precision', 'predicted', average, warn_for)\n",
      "C:\\Users\\Krishna.Priya\\anaconda3\\lib\\site-packages\\sklearn\\metrics\\classification.py:1143: UndefinedMetricWarning: Precision and F-score are ill-defined and being set to 0.0 in labels with no predicted samples.\n",
      "  'precision', 'predicted', average, warn_for)\n"
     ]
    },
    {
     "name": "stdout",
     "output_type": "stream",
     "text": [
      "              precision    recall  f1-score   support\n",
      "\n",
      "  CLASS-1248       1.00      1.00      1.00         1\n",
      "  CLASS-1249       1.00      1.00      1.00        42\n",
      "  CLASS-1250       1.00      1.00      1.00       113\n",
      "  CLASS-1274       1.00      1.00      1.00       234\n",
      "  CLASS-1294       1.00      1.00      1.00         5\n",
      "  CLASS-1309       1.00      1.00      1.00        12\n",
      "  CLASS-1322       1.00      1.00      1.00        10\n",
      "  CLASS-1376       1.00      1.00      1.00       108\n",
      "  CLASS-1429       1.00      1.00      1.00        10\n",
      "  CLASS-1477       1.00      1.00      1.00        16\n",
      "  CLASS-1522       1.00      1.00      1.00       201\n",
      "  CLASS-1567       1.00      1.00      1.00        15\n",
      "  CLASS-1652       1.00      1.00      1.00         3\n",
      "  CLASS-1688       1.00      1.00      1.00         1\n",
      "  CLASS-1721       1.00      1.00      1.00        32\n",
      "  CLASS-1758       1.00      1.00      1.00       381\n",
      "  CLASS-1770       1.00      1.00      1.00         5\n",
      "  CLASS-1805       1.00      1.00      1.00         2\n",
      "  CLASS-1828       1.00      1.00      1.00        29\n",
      "  CLASS-1838       0.00      0.00      0.00         1\n",
      "  CLASS-1850       1.00      1.00      1.00        12\n",
      "  CLASS-1867       1.00      1.00      1.00         6\n",
      "  CLASS-1870       1.00      1.00      1.00         7\n",
      "  CLASS-1919       1.00      1.00      1.00        20\n",
      "  CLASS-1963       1.00      1.00      1.00        56\n",
      "  CLASS-1964       1.00      1.00      1.00        10\n",
      "  CLASS-1983       1.00      1.00      1.00         4\n",
      "  CLASS-2003       1.00      1.00      1.00         3\n",
      "  CLASS-2038       1.00      1.00      1.00         4\n",
      "  CLASS-2112       1.00      1.00      1.00        10\n",
      "  CLASS-2141       1.00      1.00      1.00        28\n",
      "  CLASS-2152       1.00      1.00      1.00         1\n",
      "  CLASS-2241       1.00      1.00      1.00        10\n",
      "\n",
      "   micro avg       1.00      1.00      1.00      1392\n",
      "   macro avg       0.97      0.97      0.97      1392\n",
      "weighted avg       1.00      1.00      1.00      1392\n",
      "\n"
     ]
    }
   ],
   "source": [
    "train_tfidf = tfidf[:5566,:]\n",
    "test_tfidf = tfidf[5566:,:] \n",
    "\n",
    "xtrain_tfidf, xvalid_tfidf, ytrain, yvalid = train_test_split(train_tfidf, train['Product_Category'], random_state=42, test_size=0.25)\n",
    "\n",
    "svc = svm.SVC(C=1e5)\n",
    "svc.fit(xtrain_tfidf, ytrain)\n",
    "y_pred = svc.predict(xvalid_tfidf)\n",
    "print('accuracy %s' % accuracy_score(y_pred, yvalid))\n",
    "print(classification_report(yvalid, y_pred))"
   ]
  },
  {
   "cell_type": "code",
   "execution_count": 177,
   "metadata": {
    "scrolled": true
   },
   "outputs": [],
   "source": [
    "# train_tfidf = tfidf[:5566,:]\n",
    "# test_tfidf = tfidf[5566:,:] \n",
    "\n",
    "# xtrain_tfidf, xvalid_tfidf, ytrain, yvalid = train_test_split(train_tfidf, train['Product_Category'], random_state=42, test_size=0.25)\n",
    "\n",
    "# sgd = SGDClassifier(loss='hinge', penalty='l2',alpha=1e-3, random_state=42, max_iter=100, tol=None)\n",
    "# sgd.fit(xtrain_tfidf, ytrain)\n",
    "# y_pred = sgd.predict(xvalid_tfidf)\n",
    "# print('accuracy %s' % accuracy_score(y_pred, yvalid))\n",
    "# print(classification_report(yvalid, y_pred, target_names=my_categories))"
   ]
  },
  {
   "cell_type": "code",
   "execution_count": 286,
   "metadata": {
    "scrolled": true
   },
   "outputs": [
    {
     "name": "stderr",
     "output_type": "stream",
     "text": [
      "C:\\Users\\Krishna.Priya\\anaconda3\\lib\\site-packages\\sklearn\\svm\\base.py:196: FutureWarning: The default value of gamma will change from 'auto' to 'scale' in version 0.22 to account better for unscaled features. Set gamma explicitly to 'auto' or 'scale' to avoid this warning.\n",
      "  \"avoid this warning.\", FutureWarning)\n"
     ]
    },
    {
     "name": "stdout",
     "output_type": "stream",
     "text": [
      "accuracy 0.9992816091954023\n"
     ]
    },
    {
     "name": "stderr",
     "output_type": "stream",
     "text": [
      "C:\\Users\\Krishna.Priya\\anaconda3\\lib\\site-packages\\sklearn\\metrics\\classification.py:1143: UndefinedMetricWarning: Precision and F-score are ill-defined and being set to 0.0 in labels with no predicted samples.\n",
      "  'precision', 'predicted', average, warn_for)\n",
      "C:\\Users\\Krishna.Priya\\anaconda3\\lib\\site-packages\\sklearn\\metrics\\classification.py:1143: UndefinedMetricWarning: Precision and F-score are ill-defined and being set to 0.0 in labels with no predicted samples.\n",
      "  'precision', 'predicted', average, warn_for)\n",
      "C:\\Users\\Krishna.Priya\\anaconda3\\lib\\site-packages\\sklearn\\metrics\\classification.py:1143: UndefinedMetricWarning: Precision and F-score are ill-defined and being set to 0.0 in labels with no predicted samples.\n",
      "  'precision', 'predicted', average, warn_for)\n"
     ]
    },
    {
     "name": "stdout",
     "output_type": "stream",
     "text": [
      "              precision    recall  f1-score   support\n",
      "\n",
      "  CLASS-1248       1.00      1.00      1.00         1\n",
      "  CLASS-1249       1.00      1.00      1.00        42\n",
      "  CLASS-1250       0.99      1.00      1.00       113\n",
      "  CLASS-1274       1.00      1.00      1.00       234\n",
      "  CLASS-1294       1.00      1.00      1.00         5\n",
      "  CLASS-1309       1.00      1.00      1.00        12\n",
      "  CLASS-1322       1.00      1.00      1.00        10\n",
      "  CLASS-1376       1.00      1.00      1.00       108\n",
      "  CLASS-1429       1.00      1.00      1.00        10\n",
      "  CLASS-1477       1.00      1.00      1.00        16\n",
      "  CLASS-1522       1.00      1.00      1.00       201\n",
      "  CLASS-1567       1.00      1.00      1.00        15\n",
      "  CLASS-1652       1.00      1.00      1.00         3\n",
      "  CLASS-1688       1.00      1.00      1.00         1\n",
      "  CLASS-1721       1.00      1.00      1.00        32\n",
      "  CLASS-1758       1.00      1.00      1.00       381\n",
      "  CLASS-1770       1.00      1.00      1.00         5\n",
      "  CLASS-1805       1.00      1.00      1.00         2\n",
      "  CLASS-1828       1.00      1.00      1.00        29\n",
      "  CLASS-1838       0.00      0.00      0.00         1\n",
      "  CLASS-1850       1.00      1.00      1.00        12\n",
      "  CLASS-1867       1.00      1.00      1.00         6\n",
      "  CLASS-1870       1.00      1.00      1.00         7\n",
      "  CLASS-1919       1.00      1.00      1.00        20\n",
      "  CLASS-1963       1.00      1.00      1.00        56\n",
      "  CLASS-1964       1.00      1.00      1.00        10\n",
      "  CLASS-1983       1.00      1.00      1.00         4\n",
      "  CLASS-2003       1.00      1.00      1.00         3\n",
      "  CLASS-2038       1.00      1.00      1.00         4\n",
      "  CLASS-2112       1.00      1.00      1.00        10\n",
      "  CLASS-2141       1.00      1.00      1.00        28\n",
      "  CLASS-2152       1.00      1.00      1.00         1\n",
      "  CLASS-2241       1.00      1.00      1.00        10\n",
      "\n",
      "   micro avg       1.00      1.00      1.00      1392\n",
      "   macro avg       0.97      0.97      0.97      1392\n",
      "weighted avg       1.00      1.00      1.00      1392\n",
      "\n"
     ]
    }
   ],
   "source": [
    "train_w2v = wordvec_df.iloc[:5566,:]\n",
    "test_w2v = wordvec_df.iloc[5566:,:] \n",
    "\n",
    "xtrain_w2v, xvalid_w2v, ytrain, yvalid = train_test_split(train_w2v, train['Product_Category'], random_state=42, test_size=0.25)\n",
    "\n",
    "svc = svm.SVC(C=1e5)\n",
    "svc.fit(xtrain_w2v, ytrain)\n",
    "y_pred = svc.predict(xvalid_w2v)\n",
    "print('accuracy %s' % accuracy_score(y_pred, yvalid))\n",
    "print(classification_report(yvalid, y_pred))"
   ]
  },
  {
   "cell_type": "code",
   "execution_count": 176,
   "metadata": {},
   "outputs": [],
   "source": [
    "# train_w2v = wordvec_df.iloc[:5566,:]\n",
    "# test_w2v = wordvec_df.iloc[5566:,:] \n",
    "\n",
    "# xtrain_w2v, xvalid_w2v, ytrain, yvalid = train_test_split(train_w2v, train['Product_Category'], random_state=42, test_size=0.25)\n",
    "\n",
    "# sgd = SGDClassifier(loss='hinge', penalty='l2',alpha=1e-3, random_state=42, max_iter=100, tol=None)\n",
    "# sgd.fit(xtrain_w2v, ytrain)\n",
    "# y_pred = sgd.predict(xvalid_w2v)\n",
    "# print('accuracy %s' % accuracy_score(y_pred, yvalid))\n",
    "# print(classification_report(yvalid, y_pred, target_names=my_categories))"
   ]
  },
  {
   "cell_type": "code",
   "execution_count": 179,
   "metadata": {
    "scrolled": true
   },
   "outputs": [
    {
     "name": "stderr",
     "output_type": "stream",
     "text": [
      "C:\\Users\\Krishna.Priya\\anaconda3\\lib\\site-packages\\sklearn\\svm\\base.py:196: FutureWarning: The default value of gamma will change from 'auto' to 'scale' in version 0.22 to account better for unscaled features. Set gamma explicitly to 'auto' or 'scale' to avoid this warning.\n",
      "  \"avoid this warning.\", FutureWarning)\n"
     ]
    },
    {
     "name": "stdout",
     "output_type": "stream",
     "text": [
      "accuracy 0.9030172413793104\n"
     ]
    },
    {
     "name": "stderr",
     "output_type": "stream",
     "text": [
      "C:\\Users\\Krishna.Priya\\anaconda3\\lib\\site-packages\\sklearn\\metrics\\classification.py:1143: UndefinedMetricWarning: Precision and F-score are ill-defined and being set to 0.0 in labels with no predicted samples.\n",
      "  'precision', 'predicted', average, warn_for)\n",
      "C:\\Users\\Krishna.Priya\\anaconda3\\lib\\site-packages\\sklearn\\metrics\\classification.py:1143: UndefinedMetricWarning: Precision and F-score are ill-defined and being set to 0.0 in labels with no predicted samples.\n",
      "  'precision', 'predicted', average, warn_for)\n",
      "C:\\Users\\Krishna.Priya\\anaconda3\\lib\\site-packages\\sklearn\\metrics\\classification.py:1143: UndefinedMetricWarning: Precision and F-score are ill-defined and being set to 0.0 in labels with no predicted samples.\n",
      "  'precision', 'predicted', average, warn_for)\n"
     ]
    },
    {
     "name": "stdout",
     "output_type": "stream",
     "text": [
      "              precision    recall  f1-score   support\n",
      "\n",
      "  CLASS-1477       0.00      0.00      0.00         1\n",
      "  CLASS-1652       0.89      0.79      0.84        42\n",
      "  CLASS-2003       0.95      1.00      0.97       113\n",
      "  CLASS-2038       0.95      0.99      0.97       234\n",
      "  CLASS-1274       0.62      1.00      0.77         5\n",
      "  CLASS-1919       0.89      0.67      0.76        12\n",
      "  CLASS-1721       0.44      0.40      0.42        10\n",
      "  CLASS-1850       0.88      0.98      0.93       108\n",
      "  CLASS-2141       0.78      0.70      0.74        10\n",
      "  CLASS-1322       1.00      0.81      0.90        16\n",
      "  CLASS-1567       0.96      0.92      0.94       201\n",
      "  CLASS-1688       0.72      0.87      0.79        15\n",
      "  CLASS-1248       1.00      1.00      1.00         3\n",
      "  CLASS-1983       1.00      1.00      1.00         1\n",
      "  CLASS-1828       0.85      0.69      0.76        32\n",
      "  CLASS-1250       0.97      0.97      0.97       381\n",
      "  CLASS-1758       0.50      0.60      0.55         5\n",
      "  CLASS-2112       0.00      0.00      0.00         2\n",
      "  CLASS-1963       0.83      0.86      0.85        29\n",
      "  CLASS-2241       0.00      0.00      0.00         1\n",
      "  CLASS-1249       0.67      0.50      0.57        12\n",
      "  CLASS-1870       0.60      0.50      0.55         6\n",
      "  CLASS-1867       1.00      0.86      0.92         7\n",
      "  CLASS-1309       0.68      0.75      0.71        20\n",
      "  CLASS-1770       0.75      0.84      0.79        56\n",
      "  CLASS-2152       0.56      0.50      0.53        10\n",
      "  CLASS-1964       1.00      1.00      1.00         4\n",
      "  CLASS-1376       0.60      1.00      0.75         3\n",
      "  CLASS-2146       0.80      1.00      0.89         4\n",
      "  CLASS-1522       0.75      0.90      0.82        10\n",
      "  CLASS-1294       0.56      0.32      0.41        28\n",
      "  CLASS-1429       0.00      0.00      0.00         1\n",
      "  CLASS-1805       1.00      0.50      0.67        10\n",
      "\n",
      "   micro avg       0.90      0.90      0.90      1392\n",
      "   macro avg       0.70      0.69      0.69      1392\n",
      "weighted avg       0.90      0.90      0.90      1392\n",
      "\n"
     ]
    }
   ],
   "source": [
    "train_d2v = docvec_df.iloc[:5566,:]\n",
    "test_d2v = docvec_df.iloc[5566:,:]\n",
    "\n",
    "xtrain_d2v, xvalid_d2v, ytrain, yvalid = train_test_split(train_d2v, train['Product_Category'], random_state=42, test_size=0.25)\n",
    "\n",
    "svc = svm.SVC(C=1e5) \n",
    "svc.fit(xtrain_d2v, ytrain)\n",
    "y_pred = svc.predict(xvalid_d2v)\n",
    "print('accuracy %s' % accuracy_score(y_pred, yvalid))\n",
    "print(classification_report(yvalid, y_pred))"
   ]
  },
  {
   "cell_type": "markdown",
   "metadata": {},
   "source": [
    "#### SVC + TFIDF and SVC + W2V performed best with accuracy 0.9992816091954023"
   ]
  },
  {
   "cell_type": "markdown",
   "metadata": {},
   "source": [
    "# Random Forest"
   ]
  },
  {
   "cell_type": "code",
   "execution_count": 181,
   "metadata": {},
   "outputs": [],
   "source": [
    "from sklearn.ensemble import RandomForestClassifier"
   ]
  },
  {
   "cell_type": "code",
   "execution_count": 187,
   "metadata": {
    "scrolled": true
   },
   "outputs": [
    {
     "name": "stdout",
     "output_type": "stream",
     "text": [
      "accuracy 0.9964080459770115\n"
     ]
    },
    {
     "name": "stderr",
     "output_type": "stream",
     "text": [
      "C:\\Users\\Krishna.Priya\\anaconda3\\lib\\site-packages\\sklearn\\metrics\\classification.py:1143: UndefinedMetricWarning: Precision and F-score are ill-defined and being set to 0.0 in labels with no predicted samples.\n",
      "  'precision', 'predicted', average, warn_for)\n",
      "C:\\Users\\Krishna.Priya\\anaconda3\\lib\\site-packages\\sklearn\\metrics\\classification.py:1143: UndefinedMetricWarning: Precision and F-score are ill-defined and being set to 0.0 in labels with no predicted samples.\n",
      "  'precision', 'predicted', average, warn_for)\n",
      "C:\\Users\\Krishna.Priya\\anaconda3\\lib\\site-packages\\sklearn\\metrics\\classification.py:1143: UndefinedMetricWarning: Precision and F-score are ill-defined and being set to 0.0 in labels with no predicted samples.\n",
      "  'precision', 'predicted', average, warn_for)\n"
     ]
    },
    {
     "name": "stdout",
     "output_type": "stream",
     "text": [
      "              precision    recall  f1-score   support\n",
      "\n",
      "  CLASS-1477       1.00      1.00      1.00         1\n",
      "  CLASS-1652       1.00      1.00      1.00        42\n",
      "  CLASS-2003       1.00      1.00      1.00       113\n",
      "  CLASS-2038       1.00      1.00      1.00       234\n",
      "  CLASS-1274       1.00      1.00      1.00         5\n",
      "  CLASS-1919       1.00      1.00      1.00        12\n",
      "  CLASS-1721       1.00      1.00      1.00        10\n",
      "  CLASS-1850       1.00      1.00      1.00       108\n",
      "  CLASS-2141       1.00      1.00      1.00        10\n",
      "  CLASS-1322       1.00      1.00      1.00        16\n",
      "  CLASS-1567       1.00      1.00      1.00       201\n",
      "  CLASS-1688       1.00      1.00      1.00        15\n",
      "  CLASS-1248       1.00      1.00      1.00         3\n",
      "  CLASS-1983       1.00      1.00      1.00         1\n",
      "  CLASS-1828       1.00      1.00      1.00        32\n",
      "  CLASS-1250       1.00      1.00      1.00       381\n",
      "  CLASS-1758       1.00      1.00      1.00         5\n",
      "  CLASS-2112       1.00      1.00      1.00         2\n",
      "  CLASS-1963       0.88      1.00      0.94        29\n",
      "  CLASS-2241       0.00      0.00      0.00         1\n",
      "  CLASS-1249       1.00      1.00      1.00        12\n",
      "  CLASS-1870       1.00      1.00      1.00         6\n",
      "  CLASS-1867       1.00      1.00      1.00         7\n",
      "  CLASS-1309       1.00      1.00      1.00        20\n",
      "  CLASS-1770       1.00      1.00      1.00        56\n",
      "  CLASS-2152       1.00      1.00      1.00        10\n",
      "  CLASS-1964       1.00      1.00      1.00         4\n",
      "  CLASS-1376       1.00      1.00      1.00         3\n",
      "  CLASS-2146       0.00      0.00      0.00         4\n",
      "  CLASS-1522       1.00      1.00      1.00        10\n",
      "  CLASS-1294       1.00      1.00      1.00        28\n",
      "  CLASS-1429       1.00      1.00      1.00         1\n",
      "  CLASS-1805       0.91      1.00      0.95        10\n",
      "\n",
      "   micro avg       1.00      1.00      1.00      1392\n",
      "   macro avg       0.93      0.94      0.94      1392\n",
      "weighted avg       0.99      1.00      0.99      1392\n",
      "\n"
     ]
    }
   ],
   "source": [
    "train_bow = bow[:5566,:]\n",
    "test_bow = bow[5566:,:]\n",
    "\n",
    "xtrain_bow, xvalid_bow, ytrain, yvalid = train_test_split(train_bow, train['Product_Category'], random_state=42, test_size=0.25)\n",
    "\n",
    "rf = RandomForestClassifier(n_jobs=-1,  n_estimators=1000, random_state=42)\n",
    "rf.fit(xtrain_bow, ytrain)\n",
    "y_pred = rf.predict(xvalid_bow)\n",
    "print('accuracy %s' % accuracy_score(y_pred, yvalid))\n",
    "print(classification_report(yvalid, y_pred))"
   ]
  },
  {
   "cell_type": "code",
   "execution_count": 188,
   "metadata": {
    "scrolled": true
   },
   "outputs": [
    {
     "name": "stdout",
     "output_type": "stream",
     "text": [
      "accuracy 0.9964080459770115\n"
     ]
    },
    {
     "name": "stderr",
     "output_type": "stream",
     "text": [
      "C:\\Users\\Krishna.Priya\\anaconda3\\lib\\site-packages\\sklearn\\metrics\\classification.py:1143: UndefinedMetricWarning: Precision and F-score are ill-defined and being set to 0.0 in labels with no predicted samples.\n",
      "  'precision', 'predicted', average, warn_for)\n",
      "C:\\Users\\Krishna.Priya\\anaconda3\\lib\\site-packages\\sklearn\\metrics\\classification.py:1143: UndefinedMetricWarning: Precision and F-score are ill-defined and being set to 0.0 in labels with no predicted samples.\n",
      "  'precision', 'predicted', average, warn_for)\n",
      "C:\\Users\\Krishna.Priya\\anaconda3\\lib\\site-packages\\sklearn\\metrics\\classification.py:1143: UndefinedMetricWarning: Precision and F-score are ill-defined and being set to 0.0 in labels with no predicted samples.\n",
      "  'precision', 'predicted', average, warn_for)\n"
     ]
    },
    {
     "name": "stdout",
     "output_type": "stream",
     "text": [
      "              precision    recall  f1-score   support\n",
      "\n",
      "  CLASS-1477       0.50      1.00      0.67         1\n",
      "  CLASS-1652       1.00      1.00      1.00        42\n",
      "  CLASS-2003       1.00      1.00      1.00       113\n",
      "  CLASS-2038       1.00      1.00      1.00       234\n",
      "  CLASS-1274       1.00      1.00      1.00         5\n",
      "  CLASS-1919       1.00      1.00      1.00        12\n",
      "  CLASS-1721       1.00      1.00      1.00        10\n",
      "  CLASS-1850       1.00      1.00      1.00       108\n",
      "  CLASS-2141       1.00      1.00      1.00        10\n",
      "  CLASS-1322       1.00      1.00      1.00        16\n",
      "  CLASS-1567       1.00      1.00      1.00       201\n",
      "  CLASS-1688       1.00      1.00      1.00        15\n",
      "  CLASS-1248       1.00      1.00      1.00         3\n",
      "  CLASS-1983       1.00      1.00      1.00         1\n",
      "  CLASS-1828       1.00      1.00      1.00        32\n",
      "  CLASS-1250       1.00      1.00      1.00       381\n",
      "  CLASS-1758       1.00      1.00      1.00         5\n",
      "  CLASS-2112       1.00      1.00      1.00         2\n",
      "  CLASS-1963       0.88      1.00      0.94        29\n",
      "  CLASS-2241       0.00      0.00      0.00         1\n",
      "  CLASS-1249       1.00      1.00      1.00        12\n",
      "  CLASS-1870       1.00      1.00      1.00         6\n",
      "  CLASS-1867       1.00      1.00      1.00         7\n",
      "  CLASS-1309       1.00      1.00      1.00        20\n",
      "  CLASS-1770       1.00      1.00      1.00        56\n",
      "  CLASS-2152       1.00      1.00      1.00        10\n",
      "  CLASS-1964       1.00      1.00      1.00         4\n",
      "  CLASS-1376       1.00      1.00      1.00         3\n",
      "  CLASS-2146       0.00      0.00      0.00         4\n",
      "  CLASS-1522       1.00      1.00      1.00        10\n",
      "  CLASS-1294       1.00      1.00      1.00        28\n",
      "  CLASS-1429       1.00      1.00      1.00         1\n",
      "  CLASS-1805       1.00      1.00      1.00        10\n",
      "\n",
      "   micro avg       1.00      1.00      1.00      1392\n",
      "   macro avg       0.92      0.94      0.93      1392\n",
      "weighted avg       0.99      1.00      0.99      1392\n",
      "\n"
     ]
    }
   ],
   "source": [
    "train_tfidf = tfidf[:5566,:]\n",
    "test_tfidf = tfidf[5566:,:] \n",
    "\n",
    "xtrain_tfidf, xvalid_tfidf, ytrain, yvalid = train_test_split(train_tfidf, train['Product_Category'], random_state=42, test_size=0.25)\n",
    "\n",
    "rf = RandomForestClassifier(n_jobs=-1,  n_estimators=1000, random_state=42)\n",
    "rf.fit(xtrain_tfidf, ytrain)\n",
    "y_pred = rf.predict(xvalid_tfidf)\n",
    "print('accuracy %s' % accuracy_score(y_pred, yvalid))\n",
    "print(classification_report(yvalid, y_pred))"
   ]
  },
  {
   "cell_type": "code",
   "execution_count": 189,
   "metadata": {
    "scrolled": true
   },
   "outputs": [
    {
     "name": "stdout",
     "output_type": "stream",
     "text": [
      "accuracy 0.9935344827586207\n"
     ]
    },
    {
     "name": "stderr",
     "output_type": "stream",
     "text": [
      "C:\\Users\\Krishna.Priya\\anaconda3\\lib\\site-packages\\sklearn\\metrics\\classification.py:1143: UndefinedMetricWarning: Precision and F-score are ill-defined and being set to 0.0 in labels with no predicted samples.\n",
      "  'precision', 'predicted', average, warn_for)\n",
      "C:\\Users\\Krishna.Priya\\anaconda3\\lib\\site-packages\\sklearn\\metrics\\classification.py:1143: UndefinedMetricWarning: Precision and F-score are ill-defined and being set to 0.0 in labels with no predicted samples.\n",
      "  'precision', 'predicted', average, warn_for)\n",
      "C:\\Users\\Krishna.Priya\\anaconda3\\lib\\site-packages\\sklearn\\metrics\\classification.py:1143: UndefinedMetricWarning: Precision and F-score are ill-defined and being set to 0.0 in labels with no predicted samples.\n",
      "  'precision', 'predicted', average, warn_for)\n"
     ]
    },
    {
     "name": "stdout",
     "output_type": "stream",
     "text": [
      "              precision    recall  f1-score   support\n",
      "\n",
      "  CLASS-1477       1.00      1.00      1.00         1\n",
      "  CLASS-1652       1.00      1.00      1.00        42\n",
      "  CLASS-2003       0.99      1.00      1.00       113\n",
      "  CLASS-2038       1.00      1.00      1.00       234\n",
      "  CLASS-1274       1.00      1.00      1.00         5\n",
      "  CLASS-1919       1.00      0.83      0.91        12\n",
      "  CLASS-1721       1.00      1.00      1.00        10\n",
      "  CLASS-1850       1.00      1.00      1.00       108\n",
      "  CLASS-2141       1.00      1.00      1.00        10\n",
      "  CLASS-1322       1.00      1.00      1.00        16\n",
      "  CLASS-1567       1.00      1.00      1.00       201\n",
      "  CLASS-1688       1.00      1.00      1.00        15\n",
      "  CLASS-1248       1.00      1.00      1.00         3\n",
      "  CLASS-1983       1.00      1.00      1.00         1\n",
      "  CLASS-1828       0.89      1.00      0.94        32\n",
      "  CLASS-1250       1.00      1.00      1.00       381\n",
      "  CLASS-1758       1.00      1.00      1.00         5\n",
      "  CLASS-2112       1.00      0.50      0.67         2\n",
      "  CLASS-1963       0.88      1.00      0.94        29\n",
      "  CLASS-2241       0.00      0.00      0.00         1\n",
      "  CLASS-1249       1.00      1.00      1.00        12\n",
      "  CLASS-1870       1.00      1.00      1.00         6\n",
      "  CLASS-1867       1.00      1.00      1.00         7\n",
      "  CLASS-1309       1.00      1.00      1.00        20\n",
      "  CLASS-1770       1.00      1.00      1.00        56\n",
      "  CLASS-2152       1.00      1.00      1.00        10\n",
      "  CLASS-1964       1.00      1.00      1.00         4\n",
      "  CLASS-1376       1.00      1.00      1.00         3\n",
      "  CLASS-2146       0.00      0.00      0.00         4\n",
      "  CLASS-1522       1.00      1.00      1.00        10\n",
      "  CLASS-1294       1.00      1.00      1.00        28\n",
      "  CLASS-1429       0.00      0.00      0.00         1\n",
      "  CLASS-1805       1.00      1.00      1.00        10\n",
      "\n",
      "   micro avg       0.99      0.99      0.99      1392\n",
      "   macro avg       0.90      0.89      0.89      1392\n",
      "weighted avg       0.99      0.99      0.99      1392\n",
      "\n"
     ]
    }
   ],
   "source": [
    "train_w2v = wordvec_df.iloc[:5566,:]\n",
    "test_w2v = wordvec_df.iloc[5566:,:] \n",
    "\n",
    "xtrain_w2v, xvalid_w2v, ytrain, yvalid = train_test_split(train_w2v, train['Product_Category'], random_state=42, test_size=0.25)\n",
    "\n",
    "rf = RandomForestClassifier(n_jobs=-1,  n_estimators=1000, random_state=42)\n",
    "rf.fit(xtrain_w2v, ytrain)\n",
    "y_pred = rf.predict(xvalid_w2v)\n",
    "print('accuracy %s' % accuracy_score(y_pred, yvalid))\n",
    "print(classification_report(yvalid, y_pred))"
   ]
  },
  {
   "cell_type": "code",
   "execution_count": 190,
   "metadata": {
    "scrolled": true
   },
   "outputs": [
    {
     "name": "stdout",
     "output_type": "stream",
     "text": [
      "accuracy 0.7557471264367817\n"
     ]
    },
    {
     "name": "stderr",
     "output_type": "stream",
     "text": [
      "C:\\Users\\Krishna.Priya\\anaconda3\\lib\\site-packages\\sklearn\\metrics\\classification.py:1143: UndefinedMetricWarning: Precision and F-score are ill-defined and being set to 0.0 in labels with no predicted samples.\n",
      "  'precision', 'predicted', average, warn_for)\n",
      "C:\\Users\\Krishna.Priya\\anaconda3\\lib\\site-packages\\sklearn\\metrics\\classification.py:1143: UndefinedMetricWarning: Precision and F-score are ill-defined and being set to 0.0 in labels with no predicted samples.\n",
      "  'precision', 'predicted', average, warn_for)\n",
      "C:\\Users\\Krishna.Priya\\anaconda3\\lib\\site-packages\\sklearn\\metrics\\classification.py:1143: UndefinedMetricWarning: Precision and F-score are ill-defined and being set to 0.0 in labels with no predicted samples.\n",
      "  'precision', 'predicted', average, warn_for)\n"
     ]
    },
    {
     "name": "stdout",
     "output_type": "stream",
     "text": [
      "              precision    recall  f1-score   support\n",
      "\n",
      "  CLASS-1477       0.00      0.00      0.00         1\n",
      "  CLASS-1652       0.94      0.40      0.57        42\n",
      "  CLASS-2003       0.92      0.97      0.94       113\n",
      "  CLASS-2038       0.74      0.94      0.83       234\n",
      "  CLASS-1274       1.00      0.20      0.33         5\n",
      "  CLASS-1919       0.00      0.00      0.00        12\n",
      "  CLASS-1721       0.00      0.00      0.00        10\n",
      "  CLASS-1850       0.76      0.82      0.79       108\n",
      "  CLASS-2141       0.00      0.00      0.00        10\n",
      "  CLASS-1322       1.00      0.06      0.12        16\n",
      "  CLASS-1567       0.81      0.87      0.84       201\n",
      "  CLASS-1688       0.80      0.27      0.40        15\n",
      "  CLASS-1248       0.00      0.00      0.00         3\n",
      "  CLASS-1983       0.00      0.00      0.00         1\n",
      "  CLASS-1828       0.92      0.38      0.53        32\n",
      "  CLASS-1250       0.70      0.99      0.82       381\n",
      "  CLASS-1758       0.00      0.00      0.00         5\n",
      "  CLASS-2112       0.00      0.00      0.00         2\n",
      "  CLASS-1963       0.83      0.17      0.29        29\n",
      "  CLASS-2241       0.00      0.00      0.00         1\n",
      "  CLASS-1249       0.00      0.00      0.00        12\n",
      "  CLASS-1870       0.00      0.00      0.00         6\n",
      "  CLASS-1867       0.00      0.00      0.00         7\n",
      "  CLASS-1309       0.80      0.20      0.32        20\n",
      "  CLASS-1770       0.68      0.50      0.58        56\n",
      "  CLASS-2152       0.00      0.00      0.00        10\n",
      "  CLASS-1964       0.00      0.00      0.00         4\n",
      "  CLASS-1376       0.00      0.00      0.00         3\n",
      "  CLASS-2146       0.00      0.00      0.00         4\n",
      "  CLASS-1522       1.00      0.30      0.46        10\n",
      "  CLASS-1294       1.00      0.21      0.35        28\n",
      "  CLASS-1429       0.00      0.00      0.00         1\n",
      "  CLASS-1805       1.00      0.10      0.18        10\n",
      "\n",
      "   micro avg       0.76      0.76      0.76      1392\n",
      "   macro avg       0.42      0.22      0.25      1392\n",
      "weighted avg       0.73      0.76      0.70      1392\n",
      "\n"
     ]
    }
   ],
   "source": [
    "train_d2v = docvec_df.iloc[:5566,:]\n",
    "test_d2v = docvec_df.iloc[5566:,:]\n",
    "\n",
    "xtrain_d2v, xvalid_d2v, ytrain, yvalid = train_test_split(train_d2v, train['Product_Category'], random_state=42, test_size=0.25)\n",
    "\n",
    "rf = RandomForestClassifier(n_jobs=-1,  n_estimators=1000, random_state=42)\n",
    "rf.fit(xtrain_d2v, ytrain)\n",
    "y_pred = rf.predict(xvalid_d2v)\n",
    "print('accuracy %s' % accuracy_score(y_pred, yvalid))\n",
    "print(classification_report(yvalid, y_pred))"
   ]
  },
  {
   "cell_type": "markdown",
   "metadata": {},
   "source": [
    "# XG Boost"
   ]
  },
  {
   "cell_type": "code",
   "execution_count": 191,
   "metadata": {},
   "outputs": [],
   "source": [
    "from xgboost import XGBClassifier"
   ]
  },
  {
   "cell_type": "code",
   "execution_count": 279,
   "metadata": {
    "scrolled": true
   },
   "outputs": [
    {
     "name": "stdout",
     "output_type": "stream",
     "text": [
      "accuracy 0.9985632183908046\n"
     ]
    },
    {
     "name": "stderr",
     "output_type": "stream",
     "text": [
      "C:\\Users\\Krishna.Priya\\anaconda3\\lib\\site-packages\\sklearn\\metrics\\classification.py:1143: UndefinedMetricWarning: Precision and F-score are ill-defined and being set to 0.0 in labels with no predicted samples.\n",
      "  'precision', 'predicted', average, warn_for)\n",
      "C:\\Users\\Krishna.Priya\\anaconda3\\lib\\site-packages\\sklearn\\metrics\\classification.py:1143: UndefinedMetricWarning: Precision and F-score are ill-defined and being set to 0.0 in labels with no predicted samples.\n",
      "  'precision', 'predicted', average, warn_for)\n",
      "C:\\Users\\Krishna.Priya\\anaconda3\\lib\\site-packages\\sklearn\\metrics\\classification.py:1143: UndefinedMetricWarning: Precision and F-score are ill-defined and being set to 0.0 in labels with no predicted samples.\n",
      "  'precision', 'predicted', average, warn_for)\n"
     ]
    },
    {
     "name": "stdout",
     "output_type": "stream",
     "text": [
      "              precision    recall  f1-score   support\n",
      "\n",
      "  CLASS-1248       0.50      1.00      0.67         1\n",
      "  CLASS-1249       1.00      1.00      1.00        42\n",
      "  CLASS-1250       1.00      1.00      1.00       113\n",
      "  CLASS-1274       1.00      1.00      1.00       234\n",
      "  CLASS-1294       1.00      1.00      1.00         5\n",
      "  CLASS-1309       1.00      1.00      1.00        12\n",
      "  CLASS-1322       1.00      1.00      1.00        10\n",
      "  CLASS-1376       1.00      1.00      1.00       108\n",
      "  CLASS-1429       1.00      1.00      1.00        10\n",
      "  CLASS-1477       1.00      1.00      1.00        16\n",
      "  CLASS-1522       1.00      1.00      1.00       201\n",
      "  CLASS-1567       1.00      1.00      1.00        15\n",
      "  CLASS-1652       1.00      1.00      1.00         3\n",
      "  CLASS-1688       1.00      1.00      1.00         1\n",
      "  CLASS-1721       1.00      1.00      1.00        32\n",
      "  CLASS-1758       1.00      1.00      1.00       381\n",
      "  CLASS-1770       1.00      1.00      1.00         5\n",
      "  CLASS-1805       1.00      1.00      1.00         2\n",
      "  CLASS-1828       1.00      1.00      1.00        29\n",
      "  CLASS-1838       0.00      0.00      0.00         1\n",
      "  CLASS-1850       1.00      1.00      1.00        12\n",
      "  CLASS-1867       1.00      1.00      1.00         6\n",
      "  CLASS-1870       1.00      1.00      1.00         7\n",
      "  CLASS-1919       1.00      1.00      1.00        20\n",
      "  CLASS-1963       1.00      0.98      0.99        56\n",
      "  CLASS-1964       1.00      1.00      1.00        10\n",
      "  CLASS-1983       1.00      1.00      1.00         4\n",
      "  CLASS-2003       1.00      1.00      1.00         3\n",
      "  CLASS-2038       1.00      1.00      1.00         4\n",
      "  CLASS-2112       1.00      1.00      1.00        10\n",
      "  CLASS-2141       1.00      1.00      1.00        28\n",
      "  CLASS-2152       1.00      1.00      1.00         1\n",
      "  CLASS-2241       1.00      1.00      1.00        10\n",
      "\n",
      "   micro avg       1.00      1.00      1.00      1392\n",
      "   macro avg       0.95      0.97      0.96      1392\n",
      "weighted avg       1.00      1.00      1.00      1392\n",
      "\n"
     ]
    }
   ],
   "source": [
    "train_bow = bow[:5566,:]\n",
    "test_bow = bow[5566:,:]\n",
    "\n",
    "xtrain_bow, xvalid_bow, ytrain, yvalid = train_test_split(train_bow, train['Product_Category'], random_state=42, test_size=0.25)\n",
    "\n",
    "xgb_model = XGBClassifier(n_jobs=-1,n_estimators=1000,max_depth=10, random_state=42)\n",
    "xgb_model.fit(xtrain_bow, ytrain)\n",
    "y_pred = xgb_model.predict(xvalid_bow)\n",
    "print('accuracy %s' % accuracy_score(y_pred, yvalid))\n",
    "print(classification_report(yvalid, y_pred))"
   ]
  },
  {
   "cell_type": "code",
   "execution_count": 200,
   "metadata": {
    "scrolled": true
   },
   "outputs": [
    {
     "name": "stdout",
     "output_type": "stream",
     "text": [
      "accuracy 0.9964080459770115\n"
     ]
    },
    {
     "name": "stderr",
     "output_type": "stream",
     "text": [
      "C:\\Users\\Krishna.Priya\\anaconda3\\lib\\site-packages\\sklearn\\metrics\\classification.py:1143: UndefinedMetricWarning: Precision and F-score are ill-defined and being set to 0.0 in labels with no predicted samples.\n",
      "  'precision', 'predicted', average, warn_for)\n",
      "C:\\Users\\Krishna.Priya\\anaconda3\\lib\\site-packages\\sklearn\\metrics\\classification.py:1143: UndefinedMetricWarning: Precision and F-score are ill-defined and being set to 0.0 in labels with no predicted samples.\n",
      "  'precision', 'predicted', average, warn_for)\n",
      "C:\\Users\\Krishna.Priya\\anaconda3\\lib\\site-packages\\sklearn\\metrics\\classification.py:1143: UndefinedMetricWarning: Precision and F-score are ill-defined and being set to 0.0 in labels with no predicted samples.\n",
      "  'precision', 'predicted', average, warn_for)\n"
     ]
    },
    {
     "name": "stdout",
     "output_type": "stream",
     "text": [
      "              precision    recall  f1-score   support\n",
      "\n",
      "  CLASS-1477       0.50      1.00      0.67         1\n",
      "  CLASS-1652       1.00      1.00      1.00        42\n",
      "  CLASS-2003       1.00      1.00      1.00       113\n",
      "  CLASS-2038       1.00      1.00      1.00       234\n",
      "  CLASS-1274       1.00      1.00      1.00         5\n",
      "  CLASS-1919       0.86      1.00      0.92        12\n",
      "  CLASS-1721       1.00      1.00      1.00        10\n",
      "  CLASS-1850       1.00      1.00      1.00       108\n",
      "  CLASS-2141       1.00      1.00      1.00        10\n",
      "  CLASS-1322       1.00      1.00      1.00        16\n",
      "  CLASS-1567       1.00      1.00      1.00       201\n",
      "  CLASS-1688       1.00      1.00      1.00        15\n",
      "  CLASS-1248       1.00      1.00      1.00         3\n",
      "  CLASS-1983       1.00      1.00      1.00         1\n",
      "  CLASS-1828       1.00      1.00      1.00        32\n",
      "  CLASS-1250       1.00      1.00      1.00       381\n",
      "  CLASS-1758       1.00      1.00      1.00         5\n",
      "  CLASS-2112       1.00      1.00      1.00         2\n",
      "  CLASS-1963       0.97      1.00      0.98        29\n",
      "  CLASS-2241       0.00      0.00      0.00         1\n",
      "  CLASS-1249       1.00      0.83      0.91        12\n",
      "  CLASS-1870       1.00      1.00      1.00         6\n",
      "  CLASS-1867       1.00      1.00      1.00         7\n",
      "  CLASS-1309       1.00      1.00      1.00        20\n",
      "  CLASS-1770       1.00      0.98      0.99        56\n",
      "  CLASS-2152       1.00      1.00      1.00        10\n",
      "  CLASS-1964       1.00      1.00      1.00         4\n",
      "  CLASS-1376       1.00      1.00      1.00         3\n",
      "  CLASS-2146       1.00      0.75      0.86         4\n",
      "  CLASS-1522       1.00      1.00      1.00        10\n",
      "  CLASS-1294       1.00      1.00      1.00        28\n",
      "  CLASS-1429       1.00      1.00      1.00         1\n",
      "  CLASS-1805       1.00      1.00      1.00        10\n",
      "\n",
      "   micro avg       1.00      1.00      1.00      1392\n",
      "   macro avg       0.95      0.96      0.95      1392\n",
      "weighted avg       1.00      1.00      1.00      1392\n",
      "\n"
     ]
    }
   ],
   "source": [
    "train_tfidf = tfidf[:5566,:]\n",
    "test_tfidf = tfidf[5566:,:] \n",
    "\n",
    "xtrain_tfidf, xvalid_tfidf, ytrain, yvalid = train_test_split(train_tfidf, train['Product_Category'], random_state=42, test_size=0.25)\n",
    "\n",
    "xgb_model = XGBClassifier(n_jobs=-1,n_estimators=1000,max_depth=10, random_state=42)\n",
    "xgb_model.fit(xtrain_tfidf, ytrain)\n",
    "y_pred = xgb_model.predict(xvalid_tfidf)\n",
    "print('accuracy %s' % accuracy_score(y_pred, yvalid))\n",
    "print(classification_report(yvalid, y_pred))"
   ]
  },
  {
   "cell_type": "code",
   "execution_count": 280,
   "metadata": {
    "scrolled": true
   },
   "outputs": [
    {
     "name": "stdout",
     "output_type": "stream",
     "text": [
      "accuracy 0.992816091954023\n"
     ]
    },
    {
     "name": "stderr",
     "output_type": "stream",
     "text": [
      "C:\\Users\\Krishna.Priya\\anaconda3\\lib\\site-packages\\sklearn\\metrics\\classification.py:1143: UndefinedMetricWarning: Precision and F-score are ill-defined and being set to 0.0 in labels with no predicted samples.\n",
      "  'precision', 'predicted', average, warn_for)\n",
      "C:\\Users\\Krishna.Priya\\anaconda3\\lib\\site-packages\\sklearn\\metrics\\classification.py:1143: UndefinedMetricWarning: Precision and F-score are ill-defined and being set to 0.0 in labels with no predicted samples.\n",
      "  'precision', 'predicted', average, warn_for)\n",
      "C:\\Users\\Krishna.Priya\\anaconda3\\lib\\site-packages\\sklearn\\metrics\\classification.py:1143: UndefinedMetricWarning: Precision and F-score are ill-defined and being set to 0.0 in labels with no predicted samples.\n",
      "  'precision', 'predicted', average, warn_for)\n"
     ]
    },
    {
     "name": "stdout",
     "output_type": "stream",
     "text": [
      "              precision    recall  f1-score   support\n",
      "\n",
      "  CLASS-1248       1.00      1.00      1.00         1\n",
      "  CLASS-1249       0.98      1.00      0.99        42\n",
      "  CLASS-1250       1.00      1.00      1.00       113\n",
      "  CLASS-1274       1.00      1.00      1.00       234\n",
      "  CLASS-1294       1.00      1.00      1.00         5\n",
      "  CLASS-1309       1.00      1.00      1.00        12\n",
      "  CLASS-1322       1.00      0.70      0.82        10\n",
      "  CLASS-1376       1.00      1.00      1.00       108\n",
      "  CLASS-1429       1.00      0.90      0.95        10\n",
      "  CLASS-1477       0.94      1.00      0.97        16\n",
      "  CLASS-1522       1.00      1.00      1.00       201\n",
      "  CLASS-1567       1.00      1.00      1.00        15\n",
      "  CLASS-1652       1.00      1.00      1.00         3\n",
      "  CLASS-1688       0.50      1.00      0.67         1\n",
      "  CLASS-1721       0.97      1.00      0.98        32\n",
      "  CLASS-1758       1.00      1.00      1.00       381\n",
      "  CLASS-1770       1.00      1.00      1.00         5\n",
      "  CLASS-1805       1.00      1.00      1.00         2\n",
      "  CLASS-1828       0.94      1.00      0.97        29\n",
      "  CLASS-1838       0.00      0.00      0.00         1\n",
      "  CLASS-1850       1.00      0.92      0.96        12\n",
      "  CLASS-1867       1.00      0.83      0.91         6\n",
      "  CLASS-1870       1.00      1.00      1.00         7\n",
      "  CLASS-1919       1.00      1.00      1.00        20\n",
      "  CLASS-1963       1.00      1.00      1.00        56\n",
      "  CLASS-1964       1.00      1.00      1.00        10\n",
      "  CLASS-1983       1.00      0.75      0.86         4\n",
      "  CLASS-2003       0.60      1.00      0.75         3\n",
      "  CLASS-2038       1.00      0.50      0.67         4\n",
      "  CLASS-2112       1.00      1.00      1.00        10\n",
      "  CLASS-2141       1.00      1.00      1.00        28\n",
      "  CLASS-2152       1.00      1.00      1.00         1\n",
      "  CLASS-2241       1.00      1.00      1.00        10\n",
      "\n",
      "   micro avg       0.99      0.99      0.99      1392\n",
      "   macro avg       0.94      0.93      0.92      1392\n",
      "weighted avg       0.99      0.99      0.99      1392\n",
      "\n"
     ]
    }
   ],
   "source": [
    "train_w2v = wordvec_df.iloc[:5566,:]\n",
    "test_w2v = wordvec_df.iloc[5566:,:] \n",
    "\n",
    "xtrain_w2v, xvalid_w2v, ytrain, yvalid = train_test_split(train_w2v, train['Product_Category'], random_state=42, test_size=0.25)\n",
    "\n",
    "xgb_model = XGBClassifier(n_jobs=-1,n_estimators=1000,max_depth=10, random_state=42)\n",
    "xgb_model.fit(xtrain_w2v, ytrain)\n",
    "y_pred = xgb_model.predict(xvalid_w2v)\n",
    "print('accuracy %s' % accuracy_score(y_pred, yvalid))\n",
    "print(classification_report(yvalid, y_pred))"
   ]
  },
  {
   "cell_type": "code",
   "execution_count": 202,
   "metadata": {
    "scrolled": true
   },
   "outputs": [
    {
     "name": "stdout",
     "output_type": "stream",
     "text": [
      "accuracy 0.8520114942528736\n"
     ]
    },
    {
     "name": "stderr",
     "output_type": "stream",
     "text": [
      "C:\\Users\\Krishna.Priya\\anaconda3\\lib\\site-packages\\sklearn\\metrics\\classification.py:1143: UndefinedMetricWarning: Precision and F-score are ill-defined and being set to 0.0 in labels with no predicted samples.\n",
      "  'precision', 'predicted', average, warn_for)\n",
      "C:\\Users\\Krishna.Priya\\anaconda3\\lib\\site-packages\\sklearn\\metrics\\classification.py:1143: UndefinedMetricWarning: Precision and F-score are ill-defined and being set to 0.0 in labels with no predicted samples.\n",
      "  'precision', 'predicted', average, warn_for)\n",
      "C:\\Users\\Krishna.Priya\\anaconda3\\lib\\site-packages\\sklearn\\metrics\\classification.py:1143: UndefinedMetricWarning: Precision and F-score are ill-defined and being set to 0.0 in labels with no predicted samples.\n",
      "  'precision', 'predicted', average, warn_for)\n"
     ]
    },
    {
     "name": "stdout",
     "output_type": "stream",
     "text": [
      "              precision    recall  f1-score   support\n",
      "\n",
      "  CLASS-1477       0.00      0.00      0.00         1\n",
      "  CLASS-1652       0.74      0.60      0.66        42\n",
      "  CLASS-2003       0.95      0.98      0.97       113\n",
      "  CLASS-2038       0.87      0.98      0.92       234\n",
      "  CLASS-1274       0.60      0.60      0.60         5\n",
      "  CLASS-1919       1.00      0.17      0.29        12\n",
      "  CLASS-1721       0.50      0.20      0.29        10\n",
      "  CLASS-1850       0.83      0.91      0.87       108\n",
      "  CLASS-2141       1.00      0.30      0.46        10\n",
      "  CLASS-1322       1.00      0.62      0.77        16\n",
      "  CLASS-1567       0.91      0.92      0.91       201\n",
      "  CLASS-1688       0.58      0.47      0.52        15\n",
      "  CLASS-1248       1.00      0.67      0.80         3\n",
      "  CLASS-1983       0.00      0.00      0.00         1\n",
      "  CLASS-1828       0.76      0.59      0.67        32\n",
      "  CLASS-1250       0.90      0.97      0.94       381\n",
      "  CLASS-1758       1.00      0.40      0.57         5\n",
      "  CLASS-2112       0.00      0.00      0.00         2\n",
      "  CLASS-1963       0.75      0.83      0.79        29\n",
      "  CLASS-2241       0.00      0.00      0.00         1\n",
      "  CLASS-1249       0.50      0.17      0.25        12\n",
      "  CLASS-1870       1.00      0.33      0.50         6\n",
      "  CLASS-1867       0.80      0.57      0.67         7\n",
      "  CLASS-1309       0.65      0.65      0.65        20\n",
      "  CLASS-1770       0.66      0.75      0.70        56\n",
      "  CLASS-2152       0.25      0.10      0.14        10\n",
      "  CLASS-1964       1.00      0.75      0.86         4\n",
      "  CLASS-1376       0.40      0.67      0.50         3\n",
      "  CLASS-2146       1.00      0.25      0.40         4\n",
      "  CLASS-1522       0.82      0.90      0.86        10\n",
      "  CLASS-1294       0.45      0.36      0.40        28\n",
      "  CLASS-1429       0.00      0.00      0.00         1\n",
      "  CLASS-1805       0.80      0.40      0.53        10\n",
      "\n",
      "   micro avg       0.85      0.85      0.85      1392\n",
      "   macro avg       0.66      0.49      0.53      1392\n",
      "weighted avg       0.84      0.85      0.84      1392\n",
      "\n"
     ]
    }
   ],
   "source": [
    "train_d2v = docvec_df.iloc[:5566,:]\n",
    "test_d2v = docvec_df.iloc[5566:,:]\n",
    "\n",
    "xtrain_d2v, xvalid_d2v, ytrain, yvalid = train_test_split(train_d2v, train['Product_Category'], random_state=42, test_size=0.25)\n",
    "\n",
    "xgb_model = XGBClassifier(n_jobs=-1,n_estimators=1000,max_depth=10, random_state=42)\n",
    "xgb_model.fit(xtrain_d2v, ytrain)\n",
    "y_pred = xgb_model.predict(xvalid_d2v)\n",
    "print('accuracy %s' % accuracy_score(y_pred, yvalid))\n",
    "print(classification_report(yvalid, y_pred))"
   ]
  },
  {
   "cell_type": "markdown",
   "metadata": {},
   "source": [
    "# Best Performing Models:\n",
    "# LR + W2V, SVC + TFIDF and SVC + W2V performed best with accuracy 0.9992816091954023\n"
   ]
  },
  {
   "cell_type": "markdown",
   "metadata": {},
   "source": [
    "### Now we train on full training set and predict based on these 3 models."
   ]
  },
  {
   "cell_type": "code",
   "execution_count": 270,
   "metadata": {},
   "outputs": [
    {
     "name": "stderr",
     "output_type": "stream",
     "text": [
      "C:\\Users\\Krishna.Priya\\anaconda3\\lib\\site-packages\\sklearn\\linear_model\\logistic.py:433: FutureWarning: Default solver will be changed to 'lbfgs' in 0.22. Specify a solver to silence this warning.\n",
      "  FutureWarning)\n",
      "C:\\Users\\Krishna.Priya\\anaconda3\\lib\\site-packages\\sklearn\\linear_model\\logistic.py:460: FutureWarning: Default multi_class will be changed to 'auto' in 0.22. Specify the multi_class option to silence this warning.\n",
      "  \"this warning.\", FutureWarning)\n",
      "C:\\Users\\Krishna.Priya\\anaconda3\\lib\\site-packages\\sklearn\\linear_model\\logistic.py:1300: UserWarning: 'n_jobs' > 1 does not have any effect when 'solver' is set to 'liblinear'. Got 'n_jobs' = 8.\n",
      "  \" = {}.\".format(effective_n_jobs(self.n_jobs)))\n"
     ]
    }
   ],
   "source": [
    "train_w2v = wordvec_df.iloc[:5566,:]\n",
    "test_w2v = wordvec_df.iloc[5566:,:] \n",
    "\n",
    "lreg.fit(train_w2v, train['Product_Category'])\n",
    "y_pred_lr_w2v = lreg.predict(test_w2v)\n",
    "\n",
    "submission = pd.DataFrame()\n",
    "submission['Inv_Id'] = test['Inv_Id']\n",
    "submission['Product_Category'] = y_pred_lr_w2v\n",
    "submission.to_csv('submission_Krishna_Priya_LR+W2V.csv', index=False)"
   ]
  },
  {
   "cell_type": "code",
   "execution_count": 221,
   "metadata": {},
   "outputs": [
    {
     "name": "stderr",
     "output_type": "stream",
     "text": [
      "C:\\Users\\Krishna.Priya\\anaconda3\\lib\\site-packages\\sklearn\\svm\\base.py:196: FutureWarning: The default value of gamma will change from 'auto' to 'scale' in version 0.22 to account better for unscaled features. Set gamma explicitly to 'auto' or 'scale' to avoid this warning.\n",
      "  \"avoid this warning.\", FutureWarning)\n"
     ]
    }
   ],
   "source": [
    "train_tfidf = tfidf[:5566,:]\n",
    "test_tfidf = tfidf[5566:,:]  \n",
    "\n",
    "svc.fit(train_tfidf, train['Product_Category'])\n",
    "y_pred_svc_tfidf = svc.predict(test_tfidf)\n",
    "\n",
    "submission = pd.DataFrame()\n",
    "submission['Inv_Id'] = test['Inv_Id']\n",
    "submission['Product_Category'] = y_pred_svc_tfidf\n",
    "submission.to_csv('submission_Krishna_Priya_SVC+TFIDF.csv', index=False)"
   ]
  },
  {
   "cell_type": "code",
   "execution_count": 288,
   "metadata": {},
   "outputs": [
    {
     "name": "stderr",
     "output_type": "stream",
     "text": [
      "C:\\Users\\Krishna.Priya\\anaconda3\\lib\\site-packages\\sklearn\\svm\\base.py:196: FutureWarning: The default value of gamma will change from 'auto' to 'scale' in version 0.22 to account better for unscaled features. Set gamma explicitly to 'auto' or 'scale' to avoid this warning.\n",
      "  \"avoid this warning.\", FutureWarning)\n"
     ]
    }
   ],
   "source": [
    "train_w2v = wordvec_df.iloc[:5566,:]\n",
    "test_w2v = wordvec_df.iloc[5566:,:] \n",
    "\n",
    "svc.fit(train_w2v, train['Product_Category'])\n",
    "y_pred_svc_w2v = svc.predict(test_w2v)\n",
    "\n",
    "submission = pd.DataFrame()\n",
    "submission['Inv_Id'] = test['Inv_Id']\n",
    "submission['Product_Category'] = y_pred_svc_w2v\n",
    "submission.to_csv('submission_Krishna_Priya_SVC+W2V.csv', index=False)"
   ]
  },
  {
   "cell_type": "markdown",
   "metadata": {},
   "source": [
    "# Word2Vec model is performing best on validation and Test data both.\n",
    "# Also Logistic Regression and SVC is giving almost similar results show that our Word2Vec model is built robust.\n",
    "# Getting 99.96 % accuracy on test data shows that only 1 class is not being predicted correctly and as far as I see we have only 1 training data for class 1838 and that must not be predicting correctly. which will be improved as soon as we give it more training data for that class."
   ]
  },
  {
   "cell_type": "code",
   "execution_count": 4,
   "metadata": {},
   "outputs": [],
   "source": []
  },
  {
   "cell_type": "code",
   "execution_count": 6,
   "metadata": {},
   "outputs": [],
   "source": []
  },
  {
   "cell_type": "code",
   "execution_count": null,
   "metadata": {},
   "outputs": [],
   "source": []
  }
 ],
 "metadata": {
  "kernelspec": {
   "display_name": "Python 3",
   "language": "python",
   "name": "python3"
  },
  "language_info": {
   "codemirror_mode": {
    "name": "ipython",
    "version": 3
   },
   "file_extension": ".py",
   "mimetype": "text/x-python",
   "name": "python",
   "nbconvert_exporter": "python",
   "pygments_lexer": "ipython3",
   "version": "3.6.8"
  }
 },
 "nbformat": 4,
 "nbformat_minor": 2
}
